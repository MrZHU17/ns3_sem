{
 "cells": [
  {
   "cell_type": "code",
   "execution_count": 13,
   "id": "bb6b1702",
   "metadata": {},
   "outputs": [],
   "source": [
    "import sys\n",
    "sys.path.append(\"../../../ns3_sem\")\n",
    "import sem\n",
    "import pprint\n",
    "import matplotlib.pyplot as plt\n",
    "import seaborn as sns\n",
    "import numpy\n",
    "import numpy as np"
   ]
  },
  {
   "cell_type": "markdown",
   "id": "4d6e683b",
   "metadata": {},
   "source": [
    "# RngRun 1"
   ]
  },
  {
   "cell_type": "code",
   "execution_count": 14,
   "id": "36a081d9",
   "metadata": {},
   "outputs": [],
   "source": [
    "campaign_dir = 'rngrun1/rngrun1'\n",
    "campaign = sem.CampaignManager.load(campaign_dir, check_repo=False)"
   ]
  },
  {
   "cell_type": "code",
   "execution_count": 15,
   "id": "5ff2b049",
   "metadata": {},
   "outputs": [],
   "source": [
    "param_combination = {'simTime':1000, \n",
    "                     'nBlocks': 4, #list([1,2,3,4,5,6,7,8,9,10]),#round(4*nBlocks*0.1)\n",
    "                     'nMacroEnbSites': 1, #list([1,2,3,4,5,6,7,8,9,10]),\n",
    "                     'nMacroEnbSitesX': 1,\n",
    "                     'macroUeDensity': 0.00001,#1000000 [p * 0.5 for p in range(0.0001, 0.01)]\n",
    "                     'homeEnbDeploymentRatio': 1.0,\n",
    "                     'homeEnbActivationRatio': 1.0,\n",
    "                     'homeUesHomeEnbRatio': 1.0,\n",
    "                     'outdoorUeMinSpeed': 5.0,#[j * 2.0 for j in range(2.0, 10.0)]\n",
    "                     'outdoorUeMaxSpeed': 5.0,\n",
    "                     'handoverAlgorithm': 'A3',\n",
    "                     'Hysteresis': [j * 1.0 for j in np.arange(0.0, 3.2, 0.2)],\n",
    "                     'TimeToTrigger':  list([0.0, 40.0, 64.0, 80.0, 100.0, 128.0, 160.0, 256.0, 320.0, 480.0, 512.0]),\n",
    "                     'SrsPeriodicity': 80,\n",
    "                     'generateRem': 0,\n",
    "                     'RngRun': [1]\n",
    "                    }"
   ]
  },
  {
   "cell_type": "code",
   "execution_count": 16,
   "id": "a13218cc",
   "metadata": {},
   "outputs": [
    {
     "name": "stdout",
     "output_type": "stream",
     "text": [
      "     Hysteresis  TimeToTrigger  num_HFJs\n",
      "0           0.0            0.0        10\n",
      "1           0.0           40.0        10\n",
      "2           0.0           64.0        10\n",
      "3           0.0           80.0        10\n",
      "4           0.0          100.0        10\n",
      "..          ...            ...       ...\n",
      "171         3.0          160.0        11\n",
      "172         3.0          256.0        11\n",
      "173         3.0          320.0        11\n",
      "174         3.0          480.0        11\n",
      "175         3.0          512.0        11\n",
      "\n",
      "[176 rows x 3 columns]\n"
     ]
    }
   ],
   "source": [
    "def get_average_throughput(results_rngrun1):\n",
    "    if results_rngrun1['output']['stderr'] != \"\":\n",
    "        num_HOs = -1\n",
    "        num_RLFs = -1\n",
    "        num_HFMRs = -1\n",
    "        num_HFNPs = -1\n",
    "        num_HFJs = -1\n",
    "        num_HFLs = -1\n",
    "    else:\n",
    "        split_results_rngrun1 = results_rngrun1['output']['stdout'].split(\"\\n\")\n",
    "        num_HOs = 0\n",
    "        num_RLFs = 0\n",
    "        num_HFMRs = 0\n",
    "        num_HFNPs = 0\n",
    "        num_HFJs = 0\n",
    "        num_HFLs = 0\n",
    "        for line in split_results_rngrun1:\n",
    "            event = line.split(\":\",1)[0]\n",
    "            if event == \"Handover_start\":\n",
    "                num_HOs += 1\n",
    "            elif event == \"Handover_Failure_NoPreamble\":\n",
    "                num_HFNPs += 1\n",
    "            elif event == \"Handover_Failure_JoiningTimeout\":\n",
    "                num_HFJs += 1\n",
    "            elif event == \"Handover_Failure_MaxRach\":\n",
    "                num_HFMRs += 1\n",
    "            elif event == \"Handover_Failure_LeavingTimeout\":\n",
    "                num_HFLs += 1\n",
    "            elif event == \"Radio_link_failure_detected\":\n",
    "                num_RLFs += 1\n",
    "    return [num_HOs, num_RLFs, num_HFNPs, num_HFJs, num_HFMRs, num_HFLs]\n",
    "\n",
    "# the result of generate dataframe\n",
    "results_rngrun1 = campaign.get_results_as_dataframe(get_average_throughput, \n",
    "                                            ['num_HOs', 'num_RLFs','num_HFNPs','num_HFJs','num_HFMRs','num_HFLs'], \n",
    "                                            params = param_combination, drop_constant_columns=True)\n",
    "print(results_rngrun1)"
   ]
  },
  {
   "cell_type": "markdown",
   "id": "acbaa4e6",
   "metadata": {},
   "source": [
    "# RngRun 2"
   ]
  },
  {
   "cell_type": "code",
   "execution_count": 18,
   "id": "3f8f6d77",
   "metadata": {},
   "outputs": [],
   "source": [
    "campaign_dir = 'rngrun2/rngrun2'\n",
    "campaign = sem.CampaignManager.load(campaign_dir, check_repo=False)"
   ]
  },
  {
   "cell_type": "code",
   "execution_count": 19,
   "id": "364a006f",
   "metadata": {},
   "outputs": [],
   "source": [
    "param_combination = {'simTime':1000, \n",
    "                     'nBlocks': 4, #list([1,2,3,4,5,6,7,8,9,10]),#round(4*nBlocks*0.1)\n",
    "                     'nMacroEnbSites': 1, #list([1,2,3,4,5,6,7,8,9,10]),\n",
    "                     'nMacroEnbSitesX': 1,\n",
    "                     'macroUeDensity': 0.00001,#1000000 [p * 0.5 for p in range(0.0001, 0.01)]\n",
    "                     'homeEnbDeploymentRatio': 1.0,\n",
    "                     'homeEnbActivationRatio': 1.0,\n",
    "                     'homeUesHomeEnbRatio': 1.0,\n",
    "                     'outdoorUeMinSpeed': 5.0,#[j * 2.0 for j in range(2.0, 10.0)]\n",
    "                     'outdoorUeMaxSpeed': 5.0,\n",
    "                     'handoverAlgorithm': 'A3',\n",
    "                     'Hysteresis': [j * 1.0 for j in np.arange(0.0, 3.2, 0.2)],\n",
    "                     'TimeToTrigger':  list([0.0, 40.0, 64.0, 80.0, 100.0, 128.0, 160.0, 256.0, 320.0, 480.0, 512.0]),\n",
    "                     'SrsPeriodicity': 80,\n",
    "                     'generateRem': 0,\n",
    "                     'RngRun': [2]\n",
    "                    }"
   ]
  },
  {
   "cell_type": "code",
   "execution_count": 20,
   "id": "8cdfb8ea",
   "metadata": {},
   "outputs": [
    {
     "name": "stdout",
     "output_type": "stream",
     "text": [
      "     Hysteresis  TimeToTrigger  num_HOs  num_RLFs  num_HFJs\n",
      "0           0.0            0.0        8         4         4\n",
      "1           0.0           40.0        8         4         4\n",
      "2           0.0           64.0        8         5         3\n",
      "3           0.0           80.0        8         4         4\n",
      "4           0.0          100.0        8         5         3\n",
      "..          ...            ...      ...       ...       ...\n",
      "171         3.0          160.0        4         3         3\n",
      "172         3.0          256.0        4         3         3\n",
      "173         3.0          320.0        4         3         3\n",
      "174         3.0          480.0        4         4         3\n",
      "175         3.0          512.0        4         4         3\n",
      "\n",
      "[176 rows x 5 columns]\n"
     ]
    }
   ],
   "source": [
    "def get_average_throughput(results_rngrun2):\n",
    "    if results_rngrun2['output']['stderr'] != \"\":\n",
    "        num_HOs = -1\n",
    "        num_RLFs = -1\n",
    "        num_HFMRs = -1\n",
    "        num_HFNPs = -1\n",
    "        num_HFJs = -1\n",
    "        num_HFLs = -1\n",
    "    else:\n",
    "        split_results_rngrun2 = results_rngrun2['output']['stdout'].split(\"\\n\")\n",
    "        num_HOs = 0\n",
    "        num_RLFs = 0\n",
    "        num_HFMRs = 0\n",
    "        num_HFNPs = 0\n",
    "        num_HFJs = 0\n",
    "        num_HFLs = 0\n",
    "        for line in split_results_rngrun2:\n",
    "            event = line.split(\":\",1)[0]\n",
    "            if event == \"Handover_start\":\n",
    "                num_HOs += 1\n",
    "            elif event == \"Handover_Failure_NoPreamble\":\n",
    "                num_HFNPs += 1\n",
    "            elif event == \"Handover_Failure_JoiningTimeout\":\n",
    "                num_HFJs += 1\n",
    "            elif event == \"Handover_Failure_MaxRach\":\n",
    "                num_HFMRs += 1\n",
    "            elif event == \"Handover_Failure_LeavingTimeout\":\n",
    "                num_HFLs += 1\n",
    "            elif event == \"Radio_link_failure_detected\":\n",
    "                num_RLFs += 1\n",
    "    return [num_HOs, num_RLFs, num_HFNPs, num_HFJs, num_HFMRs, num_HFLs]\n",
    "\n",
    "# the result of generate dataframe\n",
    "results_rngrun2 = campaign.get_results_as_dataframe(get_average_throughput, \n",
    "                                            ['num_HOs', 'num_RLFs','num_HFNPs','num_HFJs','num_HFMRs','num_HFLs'], \n",
    "                                            params = param_combination, drop_constant_columns=True)\n",
    "print(results_rngrun2)"
   ]
  },
  {
   "cell_type": "markdown",
   "id": "53baf606",
   "metadata": {},
   "source": [
    "# RngRun 3"
   ]
  },
  {
   "cell_type": "code",
   "execution_count": 21,
   "id": "b6a4e58e",
   "metadata": {},
   "outputs": [],
   "source": [
    "campaign_dir = 'rngrun3/rngrun3'\n",
    "campaign = sem.CampaignManager.load(campaign_dir, check_repo=False)"
   ]
  },
  {
   "cell_type": "code",
   "execution_count": 22,
   "id": "550dc546",
   "metadata": {},
   "outputs": [],
   "source": [
    "param_combination = {'simTime':1000, \n",
    "                     'nBlocks': 4, #list([1,2,3,4,5,6,7,8,9,10]),#round(4*nBlocks*0.1)\n",
    "                     'nMacroEnbSites': 1, #list([1,2,3,4,5,6,7,8,9,10]),\n",
    "                     'nMacroEnbSitesX': 1,\n",
    "                     'macroUeDensity': 0.00001,#1000000 [p * 0.5 for p in range(0.0001, 0.01)]\n",
    "                     'homeEnbDeploymentRatio': 1.0,\n",
    "                     'homeEnbActivationRatio': 1.0,\n",
    "                     'homeUesHomeEnbRatio': 1.0,\n",
    "                     'outdoorUeMinSpeed': 5.0,#[j * 2.0 for j in range(2.0, 10.0)]\n",
    "                     'outdoorUeMaxSpeed': 5.0,\n",
    "                     'handoverAlgorithm': 'A3',\n",
    "                     'Hysteresis': [j * 1.0 for j in np.arange(0.0, 3.2, 0.2)],\n",
    "                     'TimeToTrigger':  list([0.0, 40.0, 64.0, 80.0, 100.0, 128.0, 160.0, 256.0, 320.0, 480.0, 512.0]),\n",
    "                     'SrsPeriodicity': 80,\n",
    "                     'generateRem': 0,\n",
    "                     'RngRun': [3]\n",
    "                    }"
   ]
  },
  {
   "cell_type": "code",
   "execution_count": 23,
   "id": "321bc8f9",
   "metadata": {
    "scrolled": false
   },
   "outputs": [
    {
     "name": "stdout",
     "output_type": "stream",
     "text": [
      "     Hysteresis  TimeToTrigger  num_HOs  num_RLFs  num_HFJs\n",
      "0           0.0            0.0       22         7         9\n",
      "1           0.0           40.0       22         7         9\n",
      "2           0.0           64.0       22         7         9\n",
      "3           0.0           80.0       22         7         9\n",
      "4           0.0          100.0       22         8         8\n",
      "..          ...            ...      ...       ...       ...\n",
      "171         3.0          160.0       18         7        11\n",
      "172         3.0          256.0       18         8        11\n",
      "173         3.0          320.0       18         7        14\n",
      "174         3.0          480.0       18         8        15\n",
      "175         3.0          512.0       18         8        15\n",
      "\n",
      "[176 rows x 5 columns]\n"
     ]
    }
   ],
   "source": [
    "def get_average_throughput(results_rngrun3):\n",
    "    if results_rngrun3['output']['stderr'] != \"\":\n",
    "        num_HOs = -1\n",
    "        num_RLFs = -1\n",
    "        num_HFMRs = -1\n",
    "        num_HFNPs = -1\n",
    "        num_HFJs = -1\n",
    "        num_HFLs = -1\n",
    "    else:\n",
    "        split_results_rngrun3 = results_rngrun3['output']['stdout'].split(\"\\n\")\n",
    "        num_HOs = 0\n",
    "        num_RLFs = 0\n",
    "        num_HFMRs = 0\n",
    "        num_HFNPs = 0\n",
    "        num_HFJs = 0\n",
    "        num_HFLs = 0\n",
    "        for line in split_results_rngrun3:\n",
    "            event = line.split(\":\",1)[0]\n",
    "            if event == \"Handover_start\":\n",
    "                num_HOs += 1\n",
    "            elif event == \"Handover_Failure_NoPreamble\":\n",
    "                num_HFNPs += 1\n",
    "            elif event == \"Handover_Failure_JoiningTimeout\":\n",
    "                num_HFJs += 1\n",
    "            elif event == \"Handover_Failure_MaxRach\":\n",
    "                num_HFMRs += 1\n",
    "            elif event == \"Handover_Failure_LeavingTimeout\":\n",
    "                num_HFLs += 1\n",
    "            elif event == \"Radio_link_failure_detected\":\n",
    "                num_RLFs += 1\n",
    "    return [num_HOs, num_RLFs, num_HFNPs, num_HFJs, num_HFMRs, num_HFLs]\n",
    "\n",
    "# the result of generate dataframe\n",
    "results_rngrun3 = campaign.get_results_as_dataframe(get_average_throughput, \n",
    "                                            ['num_HOs', 'num_RLFs','num_HFNPs','num_HFJs','num_HFMRs','num_HFLs'], \n",
    "                                            params = param_combination, drop_constant_columns=True)\n",
    "print(results_rngrun3)"
   ]
  },
  {
   "cell_type": "markdown",
   "id": "bf0b3d3a",
   "metadata": {},
   "source": [
    "# RngRun 4"
   ]
  },
  {
   "cell_type": "code",
   "execution_count": 25,
   "id": "5c3b6c44",
   "metadata": {
    "scrolled": true
   },
   "outputs": [],
   "source": [
    "campaign_dir = 'rngrun4/rngrun4'\n",
    "campaign = sem.CampaignManager.load(campaign_dir, check_repo=False)"
   ]
  },
  {
   "cell_type": "code",
   "execution_count": 26,
   "id": "ff6f3246",
   "metadata": {},
   "outputs": [],
   "source": [
    "param_combination = {'simTime':1000, \n",
    "                     'nBlocks': 4, #list([1,2,3,4,5,6,7,8,9,10]),#round(4*nBlocks*0.1)\n",
    "                     'nMacroEnbSites': 1, #list([1,2,3,4,5,6,7,8,9,10]),\n",
    "                     'nMacroEnbSitesX': 1,\n",
    "                     'macroUeDensity': 0.00001,#1000000 [p * 0.5 for p in range(0.0001, 0.01)]\n",
    "                     'homeEnbDeploymentRatio': 1.0,\n",
    "                     'homeEnbActivationRatio': 1.0,\n",
    "                     'homeUesHomeEnbRatio': 1.0,\n",
    "                     'outdoorUeMinSpeed': 5.0,#[j * 2.0 for j in range(2.0, 10.0)]\n",
    "                     'outdoorUeMaxSpeed': 5.0,\n",
    "                     'handoverAlgorithm': 'A3',\n",
    "                     'Hysteresis': [j * 1.0 for j in np.arange(0.0, 3.2, 0.2)],\n",
    "                     'TimeToTrigger':  list([0.0, 40.0, 64.0, 80.0, 100.0, 128.0, 160.0, 256.0, 320.0, 480.0, 512.0]),\n",
    "                     'SrsPeriodicity': 80,\n",
    "                     'generateRem': 0,\n",
    "                     'RngRun': [4]\n",
    "                    }"
   ]
  },
  {
   "cell_type": "code",
   "execution_count": 27,
   "id": "a4fa72c7",
   "metadata": {},
   "outputs": [
    {
     "name": "stdout",
     "output_type": "stream",
     "text": [
      "     Hysteresis  TimeToTrigger  num_HOs  num_RLFs  num_HFJs\n",
      "0           0.0            0.0       11         9         9\n",
      "1           0.0           40.0       11         9         9\n",
      "2           0.0           64.0       11         9         9\n",
      "3           0.0           80.0       11         9         9\n",
      "4           0.0          100.0       11         9         9\n",
      "..          ...            ...      ...       ...       ...\n",
      "171         3.0          160.0        8        10         6\n",
      "172         3.0          256.0        7        10         6\n",
      "173         3.0          320.0        7        10         7\n",
      "174         3.0          480.0        7        10         7\n",
      "175         3.0          512.0        7        10         7\n",
      "\n",
      "[176 rows x 5 columns]\n"
     ]
    }
   ],
   "source": [
    "def get_average_throughput(results_rngrun4):\n",
    "    if results_rngrun4['output']['stderr'] != \"\":\n",
    "        num_HOs = -1\n",
    "        num_RLFs = -1\n",
    "        num_HFMRs = -1\n",
    "        num_HFNPs = -1\n",
    "        num_HFJs = -1\n",
    "        num_HFLs = -1\n",
    "    else:\n",
    "        split_results_rngrun4 = results_rngrun4['output']['stdout'].split(\"\\n\")\n",
    "        num_HOs = 0\n",
    "        num_RLFs = 0\n",
    "        num_HFMRs = 0\n",
    "        num_HFNPs = 0\n",
    "        num_HFJs = 0\n",
    "        num_HFLs = 0\n",
    "        for line in split_results_rngrun4:\n",
    "            event = line.split(\":\",1)[0]\n",
    "            if event == \"Handover_start\":\n",
    "                num_HOs += 1\n",
    "            elif event == \"Handover_Failure_NoPreamble\":\n",
    "                num_HFNPs += 1\n",
    "            elif event == \"Handover_Failure_JoiningTimeout\":\n",
    "                num_HFJs += 1\n",
    "            elif event == \"Handover_Failure_MaxRach\":\n",
    "                num_HFMRs += 1\n",
    "            elif event == \"Handover_Failure_LeavingTimeout\":\n",
    "                num_HFLs += 1\n",
    "            elif event == \"Radio_link_failure_detected\":\n",
    "                num_RLFs += 1\n",
    "    return [num_HOs, num_RLFs, num_HFNPs, num_HFJs, num_HFMRs, num_HFLs]\n",
    "\n",
    "# the result of generate dataframe\n",
    "results_rngrun4 = campaign.get_results_as_dataframe(get_average_throughput, \n",
    "                                            ['num_HOs', 'num_RLFs','num_HFNPs','num_HFJs','num_HFMRs','num_HFLs'], \n",
    "                                            params = param_combination, drop_constant_columns=True)\n",
    "print(results_rngrun4)"
   ]
  },
  {
   "cell_type": "markdown",
   "id": "f80aa6b1",
   "metadata": {},
   "source": [
    "# RngRun 5"
   ]
  },
  {
   "cell_type": "code",
   "execution_count": 28,
   "id": "13cfea28",
   "metadata": {},
   "outputs": [],
   "source": [
    "campaign_dir = 'rngrun5/rngrun5'\n",
    "campaign = sem.CampaignManager.load(campaign_dir, check_repo=False)"
   ]
  },
  {
   "cell_type": "code",
   "execution_count": 29,
   "id": "76ed8238",
   "metadata": {},
   "outputs": [],
   "source": [
    "param_combination = {'simTime':1000, \n",
    "                     'nBlocks': 4, #list([1,2,3,4,5,6,7,8,9,10]),#round(4*nBlocks*0.1)\n",
    "                     'nMacroEnbSites': 1, #list([1,2,3,4,5,6,7,8,9,10]),\n",
    "                     'nMacroEnbSitesX': 1,\n",
    "                     'macroUeDensity': 0.00001,#1000000 [p * 0.5 for p in range(0.0001, 0.01)]\n",
    "                     'homeEnbDeploymentRatio': 1.0,\n",
    "                     'homeEnbActivationRatio': 1.0,\n",
    "                     'homeUesHomeEnbRatio': 1.0,\n",
    "                     'outdoorUeMinSpeed': 5.0,#[j * 2.0 for j in range(2.0, 10.0)]\n",
    "                     'outdoorUeMaxSpeed': 5.0,\n",
    "                     'handoverAlgorithm': 'A3',\n",
    "                     'Hysteresis': [j * 1.0 for j in np.arange(0.0, 3.2, 0.2)],\n",
    "                     'TimeToTrigger':  list([0.0, 40.0, 64.0, 80.0, 100.0, 128.0, 160.0, 256.0, 320.0, 480.0, 512.0]),\n",
    "                     'SrsPeriodicity': 80,\n",
    "                     'generateRem': 0,\n",
    "                     'RngRun': [5]\n",
    "                    }"
   ]
  },
  {
   "cell_type": "code",
   "execution_count": 30,
   "id": "1788639a",
   "metadata": {},
   "outputs": [
    {
     "name": "stdout",
     "output_type": "stream",
     "text": [
      "     Hysteresis  TimeToTrigger  num_HOs  num_RLFs  num_HFJs\n",
      "0           0.0            0.0       33         9        13\n",
      "1           0.0           40.0       33         9        13\n",
      "2           0.0           64.0       33         9        13\n",
      "3           0.0           80.0       33         9        13\n",
      "4           0.0          100.0       33         9        13\n",
      "..          ...            ...      ...       ...       ...\n",
      "171         3.0          160.0       27         9        26\n",
      "172         3.0          256.0       27         9        26\n",
      "173         3.0          320.0       27         9        27\n",
      "174         3.0          480.0       26        10        26\n",
      "175         3.0          512.0       26        10        26\n",
      "\n",
      "[176 rows x 5 columns]\n"
     ]
    }
   ],
   "source": [
    "def get_average_throughput(results_rngrun5):\n",
    "    if results_rngrun5['output']['stderr'] != \"\":\n",
    "        num_HOs = -1\n",
    "        num_RLFs = -1\n",
    "        num_HFMRs = -1\n",
    "        num_HFNPs = -1\n",
    "        num_HFJs = -1\n",
    "        num_HFLs = -1\n",
    "    else:\n",
    "        split_results_rngrun5 = results_rngrun5['output']['stdout'].split(\"\\n\")\n",
    "        num_HOs = 0\n",
    "        num_RLFs = 0\n",
    "        num_HFMRs = 0\n",
    "        num_HFNPs = 0\n",
    "        num_HFJs = 0\n",
    "        num_HFLs = 0\n",
    "        for line in split_results_rngrun5:\n",
    "            event = line.split(\":\",1)[0]\n",
    "            if event == \"Handover_start\":\n",
    "                num_HOs += 1\n",
    "            elif event == \"Handover_Failure_NoPreamble\":\n",
    "                num_HFNPs += 1\n",
    "            elif event == \"Handover_Failure_JoiningTimeout\":\n",
    "                num_HFJs += 1\n",
    "            elif event == \"Handover_Failure_MaxRach\":\n",
    "                num_HFMRs += 1\n",
    "            elif event == \"Handover_Failure_LeavingTimeout\":\n",
    "                num_HFLs += 1\n",
    "            elif event == \"Radio_link_failure_detected\":\n",
    "                num_RLFs += 1\n",
    "    return [num_HOs, num_RLFs, num_HFNPs, num_HFJs, num_HFMRs, num_HFLs]\n",
    "\n",
    "# the result of generate dataframe\n",
    "results_rngrun5 = campaign.get_results_as_dataframe(get_average_throughput, \n",
    "                                            ['num_HOs', 'num_RLFs','num_HFNPs','num_HFJs','num_HFMRs','num_HFLs'], \n",
    "                                            params = param_combination, drop_constant_columns=True)\n",
    "print(results_rngrun5)"
   ]
  },
  {
   "cell_type": "code",
   "execution_count": 34,
   "id": "d102f8d0",
   "metadata": {
    "scrolled": true
   },
   "outputs": [
    {
     "data": {
      "text/html": [
       "<div>\n",
       "<style scoped>\n",
       "    .dataframe tbody tr th:only-of-type {\n",
       "        vertical-align: middle;\n",
       "    }\n",
       "\n",
       "    .dataframe tbody tr th {\n",
       "        vertical-align: top;\n",
       "    }\n",
       "\n",
       "    .dataframe thead th {\n",
       "        text-align: right;\n",
       "    }\n",
       "</style>\n",
       "<table border=\"1\" class=\"dataframe\">\n",
       "  <thead>\n",
       "    <tr style=\"text-align: right;\">\n",
       "      <th></th>\n",
       "      <th>aaa</th>\n",
       "      <th>bbb</th>\n",
       "    </tr>\n",
       "  </thead>\n",
       "  <tbody>\n",
       "    <tr>\n",
       "      <th>0</th>\n",
       "      <td>1</td>\n",
       "      <td>100</td>\n",
       "    </tr>\n",
       "    <tr>\n",
       "      <th>1</th>\n",
       "      <td>2</td>\n",
       "      <td>200</td>\n",
       "    </tr>\n",
       "    <tr>\n",
       "      <th>2</th>\n",
       "      <td>3</td>\n",
       "      <td>300</td>\n",
       "    </tr>\n",
       "  </tbody>\n",
       "</table>\n",
       "</div>"
      ],
      "text/plain": [
       "   aaa  bbb\n",
       "0    1  100\n",
       "1    2  200\n",
       "2    3  300"
      ]
     },
     "execution_count": 34,
     "metadata": {},
     "output_type": "execute_result"
    }
   ],
   "source": [
    "import pandas as pd\n",
    "df_a = pd.DataFrame(\n",
    "    {\n",
    "        'aaa':[1,2,3],\n",
    "        'bbb':[100,200,300]\n",
    "    }\n",
    ")\n",
    "df_b = pd.DataFrame(\n",
    "    {\n",
    "        'aaa':[4,5,6],\n",
    "        'bbb':[400,500,600]\n",
    "    }\n",
    ")\n",
    "df_a\n"
   ]
  },
  {
   "cell_type": "markdown",
   "id": "4f643e24",
   "metadata": {},
   "source": [
    "# Mean"
   ]
  },
  {
   "cell_type": "code",
   "execution_count": 41,
   "id": "37d39ff2",
   "metadata": {},
   "outputs": [
    {
     "data": {
      "text/html": [
       "<div>\n",
       "<style scoped>\n",
       "    .dataframe tbody tr th:only-of-type {\n",
       "        vertical-align: middle;\n",
       "    }\n",
       "\n",
       "    .dataframe tbody tr th {\n",
       "        vertical-align: top;\n",
       "    }\n",
       "\n",
       "    .dataframe thead th {\n",
       "        text-align: right;\n",
       "    }\n",
       "</style>\n",
       "<table border=\"1\" class=\"dataframe\">\n",
       "  <thead>\n",
       "    <tr style=\"text-align: right;\">\n",
       "      <th></th>\n",
       "      <th>Hysteresis</th>\n",
       "      <th>TimeToTrigger</th>\n",
       "      <th>num_HOs</th>\n",
       "      <th>num_RLFs</th>\n",
       "      <th>num_HFJs</th>\n",
       "    </tr>\n",
       "  </thead>\n",
       "  <tbody>\n",
       "    <tr>\n",
       "      <th>0</th>\n",
       "      <td>0.0</td>\n",
       "      <td>0.0</td>\n",
       "      <td>18.50</td>\n",
       "      <td>7.25</td>\n",
       "      <td>8.75</td>\n",
       "    </tr>\n",
       "    <tr>\n",
       "      <th>1</th>\n",
       "      <td>0.0</td>\n",
       "      <td>40.0</td>\n",
       "      <td>18.50</td>\n",
       "      <td>7.25</td>\n",
       "      <td>8.75</td>\n",
       "    </tr>\n",
       "    <tr>\n",
       "      <th>2</th>\n",
       "      <td>0.0</td>\n",
       "      <td>64.0</td>\n",
       "      <td>18.50</td>\n",
       "      <td>7.50</td>\n",
       "      <td>8.50</td>\n",
       "    </tr>\n",
       "    <tr>\n",
       "      <th>3</th>\n",
       "      <td>0.0</td>\n",
       "      <td>80.0</td>\n",
       "      <td>18.50</td>\n",
       "      <td>7.25</td>\n",
       "      <td>8.75</td>\n",
       "    </tr>\n",
       "    <tr>\n",
       "      <th>4</th>\n",
       "      <td>0.0</td>\n",
       "      <td>100.0</td>\n",
       "      <td>18.50</td>\n",
       "      <td>7.75</td>\n",
       "      <td>8.25</td>\n",
       "    </tr>\n",
       "    <tr>\n",
       "      <th>...</th>\n",
       "      <td>...</td>\n",
       "      <td>...</td>\n",
       "      <td>...</td>\n",
       "      <td>...</td>\n",
       "      <td>...</td>\n",
       "    </tr>\n",
       "    <tr>\n",
       "      <th>171</th>\n",
       "      <td>3.0</td>\n",
       "      <td>160.0</td>\n",
       "      <td>14.25</td>\n",
       "      <td>7.25</td>\n",
       "      <td>11.50</td>\n",
       "    </tr>\n",
       "    <tr>\n",
       "      <th>172</th>\n",
       "      <td>3.0</td>\n",
       "      <td>256.0</td>\n",
       "      <td>14.00</td>\n",
       "      <td>7.50</td>\n",
       "      <td>11.50</td>\n",
       "    </tr>\n",
       "    <tr>\n",
       "      <th>173</th>\n",
       "      <td>3.0</td>\n",
       "      <td>320.0</td>\n",
       "      <td>14.00</td>\n",
       "      <td>7.25</td>\n",
       "      <td>12.75</td>\n",
       "    </tr>\n",
       "    <tr>\n",
       "      <th>174</th>\n",
       "      <td>3.0</td>\n",
       "      <td>480.0</td>\n",
       "      <td>13.75</td>\n",
       "      <td>8.00</td>\n",
       "      <td>12.75</td>\n",
       "    </tr>\n",
       "    <tr>\n",
       "      <th>175</th>\n",
       "      <td>3.0</td>\n",
       "      <td>512.0</td>\n",
       "      <td>13.75</td>\n",
       "      <td>8.00</td>\n",
       "      <td>12.75</td>\n",
       "    </tr>\n",
       "  </tbody>\n",
       "</table>\n",
       "<p>176 rows × 5 columns</p>\n",
       "</div>"
      ],
      "text/plain": [
       "     Hysteresis  TimeToTrigger  num_HOs  num_RLFs  num_HFJs\n",
       "0           0.0            0.0    18.50      7.25      8.75\n",
       "1           0.0           40.0    18.50      7.25      8.75\n",
       "2           0.0           64.0    18.50      7.50      8.50\n",
       "3           0.0           80.0    18.50      7.25      8.75\n",
       "4           0.0          100.0    18.50      7.75      8.25\n",
       "..          ...            ...      ...       ...       ...\n",
       "171         3.0          160.0    14.25      7.25     11.50\n",
       "172         3.0          256.0    14.00      7.50     11.50\n",
       "173         3.0          320.0    14.00      7.25     12.75\n",
       "174         3.0          480.0    13.75      8.00     12.75\n",
       "175         3.0          512.0    13.75      8.00     12.75\n",
       "\n",
       "[176 rows x 5 columns]"
      ]
     },
     "execution_count": 41,
     "metadata": {},
     "output_type": "execute_result"
    }
   ],
   "source": [
    "results_rngrun_ave =  (results_rngrun2 + results_rngrun3 + results_rngrun4 + results_rngrun5)/4\n",
    "results_rngrun_ave"
   ]
  },
  {
   "cell_type": "code",
   "execution_count": 61,
   "id": "85938b6c",
   "metadata": {},
   "outputs": [
    {
     "data": {
      "text/plain": [
       "<matplotlib.legend.Legend at 0x7fccdf17fa60>"
      ]
     },
     "execution_count": 61,
     "metadata": {},
     "output_type": "execute_result"
    },
    {
     "data": {
      "image/png": "[encoded data removed]",
      "text/plain": [
       "<Figure size 700x500 with 1 Axes>"
      ]
     },
     "metadata": {},
     "output_type": "display_data"
    }
   ],
   "source": [
    "results_Hys = results_rngrun_ave[(results_rngrun_ave['TimeToTrigger'] == 256.0)]\n",
    "plt.rcParams.update({'font.size':14})\n",
    "fig = plt.figure(figsize=(7, 5))\n",
    "ax = plt.axes()\n",
    "ax.plot(results_Hys['Hysteresis'], results_Hys['num_HOs'], color = 'blue')\n",
    "ax.plot(results_Hys['Hysteresis'], results_Hys['num_HFJs'], color = 'red')\n",
    "#ax.plot(results_Hys['Hysteresis'], results_Hys['num_RLFs'], color = 'black')\n",
    "ax.grid()\n",
    "ax.set_xlabel('Hysteresis')\n",
    "ax.set_ylabel('Number of HOs, RLFs, HFJs')\n",
    "ax.set_title('TimeToTrigger = 256 ms, speed = 5 m/s')\n",
    "ax.legend(['num_HOs', 'num_HFJs','num_RLFs'])"
   ]
  },
  {
   "cell_type": "code",
   "execution_count": 53,
   "id": "ec8155ad",
   "metadata": {
    "scrolled": false
   },
   "outputs": [
    {
     "name": "stdout",
     "output_type": "stream",
     "text": [
      "     Hysteresis  TimeToTrigger  num_HOs  num_RLFs  num_HFJs  HO_fail_pro\n",
      "0           0.0            0.0    18.50      7.25      8.75     0.472973\n",
      "1           0.0           40.0    18.50      7.25      8.75     0.472973\n",
      "2           0.0           64.0    18.50      7.50      8.50     0.459459\n",
      "3           0.0           80.0    18.50      7.25      8.75     0.472973\n",
      "4           0.0          100.0    18.50      7.75      8.25     0.445946\n",
      "..          ...            ...      ...       ...       ...          ...\n",
      "171         3.0          160.0    14.25      7.25     11.50     0.807018\n",
      "172         3.0          256.0    14.00      7.50     11.50     0.821429\n",
      "173         3.0          320.0    14.00      7.25     12.75     0.910714\n",
      "174         3.0          480.0    13.75      8.00     12.75     0.927273\n",
      "175         3.0          512.0    13.75      8.00     12.75     0.927273\n",
      "\n",
      "[176 rows x 6 columns]\n"
     ]
    }
   ],
   "source": [
    "results_rngrun_ave[\"HO_fail_pro\"] = results_rngrun_ave[\"num_HFJs\"]/results_rngrun_ave[\"num_HOs\"]\n",
    "print(results_rngrun_ave)"
   ]
  },
  {
   "cell_type": "code",
   "execution_count": 62,
   "id": "422c51dc",
   "metadata": {},
   "outputs": [
    {
     "data": {
      "text/plain": [
       "<matplotlib.legend.Legend at 0x7fccdf0f94c0>"
      ]
     },
     "execution_count": 62,
     "metadata": {},
     "output_type": "execute_result"
    },
    {
     "data": {
      "image/png": "[encoded data removed]",
      "text/plain": [
       "<Figure size 700x500 with 1 Axes>"
      ]
     },
     "metadata": {},
     "output_type": "display_data"
    }
   ],
   "source": [
    "results_Hys_hofail = results_rngrun_ave[(results_rngrun_ave['TimeToTrigger'] == 256.0)]\n",
    "plt.rcParams.update({'font.size':14})\n",
    "fig = plt.figure(figsize=(7, 5))\n",
    "ax = plt.axes()\n",
    "ax.plot(results_Hys_hofail['Hysteresis'], results_Hys_hofail['HO_fail_pro'], color = 'red')\n",
    "ax.grid()\n",
    "ax.set_xlabel('Hysteresis')\n",
    "ax.set_ylabel('Handover failure probability')\n",
    "ax.set_title('TimeToTrigger = 256 ms, speed = 5 m/s')\n",
    "ax.legend(['ns-3'])"
   ]
  },
  {
   "cell_type": "code",
   "execution_count": null,
   "id": "f2f0681b",
   "metadata": {},
   "outputs": [],
   "source": []
  }
 ],
 "metadata": {
  "kernelspec": {
   "display_name": "Python 3 (ipykernel)",
   "language": "python",
   "name": "python3"
  },
  "language_info": {
   "codemirror_mode": {
    "name": "ipython",
    "version": 3
   },
   "file_extension": ".py",
   "mimetype": "text/x-python",
   "name": "python",
   "nbconvert_exporter": "python",
   "pygments_lexer": "ipython3",
   "version": "3.9.13"
  }
 },
 "nbformat": 4,
 "nbformat_minor": 5
}
