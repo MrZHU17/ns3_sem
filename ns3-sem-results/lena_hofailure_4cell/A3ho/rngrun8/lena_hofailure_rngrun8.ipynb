{
 "cells": [
  {
   "cell_type": "code",
   "execution_count": 1,
   "id": "c04c58ed",
   "metadata": {},
   "outputs": [
    {
     "name": "stdout",
     "output_type": "stream",
     "text": [
      "--- Campaign info ---\n",
      "script: lena_hofailure\n",
      "params: {'simTime': '50', 'nBlocks': '1', 'nMacroEnbSites': '1', 'macroUeDensity': '1e-05', 'homeEnbDeploymentRatio': '0.2', 'homeEnbActivationRatio': '0.5', 'homeUesHomeEnbRatio': '1', 'macroEnbDlEarfcn': '100', 'homeEnbDlEarfcn': '100', 'macroEnbBandwidth': '25', 'homeEnbBandwidth': '25', 'generateRem': 'false', 'epc': 'true', 'useUdp': 'true', 'outdoorUeMinSpeed': '0', 'outdoorUeMaxSpeed': '0', 'handoverAlgorithm': 'A3', 'Hysteresis': 3.0, 'TimeToTrigger': 256.0, 'ServingCellThreshold': 20.0, 'NeighbourCellOffset': 5.0, 'SrsPeriodicity': 80.0, 'epcDl': 'true', 'epcUl': 'true', 'fadingTrace': '', 'homeEnbTxPowerDbm': '20', 'interSiteDistance': '500', 'macroEnbTxPowerDbm': '46', 'nMacroEnbSitesX': '1', 'numBearersPerUe': '1', 'remRbId': '-1', 'srsPeriodicity': '80'}\n",
      "HEAD: 0d7207fae798bfae12d19957687e9766f0ddbad4\n",
      "Runner type: <class 'sem.parallelrunner.ParallelRunner'>\n",
      "-----------\n"
     ]
    }
   ],
   "source": [
    "import sys\n",
    "sys.path.append(\"../../../../ns3_sem\")\n",
    "import sem\n",
    "import pprint\n",
    "import matplotlib.pyplot as plt\n",
    "import seaborn as sns\n",
    "import numpy\n",
    "ns_path = '../../../../../ns3-dev-hofailure_RACH'\n",
    "script = 'lena_hofailure'\n",
    "campaign_dir = 'rngrun8'\n",
    "campaign = sem.CampaignManager.new(ns_path, script, campaign_dir, overwrite=True)\n",
    "print(campaign)"
   ]
  },
  {
   "cell_type": "code",
   "execution_count": 2,
   "id": "70a263c2",
   "metadata": {},
   "outputs": [],
   "source": [
    "import numpy as np\n",
    "param_combination = {'simTime':5000, \n",
    "                     'nBlocks': 4, #list([1,2,3,4,5,6,7,8,9,10]),#round(4*nBlocks*0.1)\n",
    "                     'nMacroEnbSites': 1, #list([1,2,3,4,5,6,7,8,9,10]),\n",
    "                     'nMacroEnbSitesX': 1,\n",
    "                     'macroUeDensity': 0.00001,#1000000 [p * 0.5 for p in range(0.0001, 0.01)]\n",
    "                     'homeEnbDeploymentRatio': 1.0,\n",
    "                     'homeEnbActivationRatio': 1.0,\n",
    "                     'homeUesHomeEnbRatio': 1.0,\n",
    "                     'outdoorUeMinSpeed': 1.0,#[j * 2.0 for j in range(2.0, 10.0)]\n",
    "                     'outdoorUeMaxSpeed': 1.0,\n",
    "                     'handoverAlgorithm': 'A3',\n",
    "                     'Hysteresis': [j * 1.0 for j in np.arange(0.0, 3.2, 0.2)],\n",
    "                     'TimeToTrigger':  list([0.0, 40.0, 64.0, 80.0, 100.0, 128.0, 160.0, 256.0, 320.0, 480.0, 512.0]),\n",
    "                     'SrsPeriodicity': 80,\n",
    "                     'generateRem': 0,\n",
    "                     'RngRun': [8]\n",
    "                    }"
   ]
  },
  {
   "cell_type": "code",
   "execution_count": 3,
   "id": "87a0c994",
   "metadata": {
    "collapsed": true
   },
   "outputs": [
    {
     "name": "stderr",
     "output_type": "stream",
     "text": [
      "\r",
      "Running simulations:   0%|                                                             | 0/176 [00:00<?, ?simulation/s]"
     ]
    },
    {
     "name": "stdout",
     "output_type": "stream",
     "text": [
      "\n",
      "Simulation exited with an error.\n",
      "Params: {'simTime': 5000, 'nBlocks': 4, 'nMacroEnbSites': 1, 'nMacroEnbSitesX': 1, 'macroUeDensity': 1e-05, 'homeEnbDeploymentRatio': 1.0, 'homeEnbActivationRatio': 1.0, 'homeUesHomeEnbRatio': 1.0, 'outdoorUeMinSpeed': 1.0, 'outdoorUeMaxSpeed': 1.0, 'handoverAlgorithm': 'A3', 'Hysteresis': 1.8, 'TimeToTrigger': 40.0, 'SrsPeriodicity': 80, 'generateRem': 0, 'RngRun': 8, 'macroEnbTxPowerDbm': '46', 'srsPeriodicity': '80', 'interSiteDistance': '500', 'useUdp': 'true', 'epcUl': 'true', 'fadingTrace': '', 'remRbId': '-1', 'homeEnbDlEarfcn': '100', 'macroEnbDlEarfcn': '100', 'homeEnbTxPowerDbm': '20', 'ServingCellThreshold': 20.0, 'macroEnbBandwidth': '25', 'NeighbourCellOffset': 5.0, 'epc': 'true', 'epcDl': 'true', 'numBearersPerUe': '1', 'homeEnbBandwidth': '25'}\n",
      "Stderr: msg=\"No info find in HARQ buffer for UE 4\", +727.238000000s 4 file=/home/zzy/repos/ns3-dev-hofailure_RACH/src/lte/model/pf-ff-mac-scheduler.cc, line=921\n",
      "terminate called without an active exception\n",
      "\n",
      "Stdout: Handover_start: /NodeList/4/DeviceList/0/LteEnbRrc/HandoverStart UE IMSI 5: connected to cellId 1 with RNTI 1, handover to cellId 4\n",
      "Handover_start: /NodeList/2/DeviceList/0/LteEnbRrc/HandoverStart UE IMSI 5: connected to cellId 4 with RNTI 1, handover to cellId 1\n",
      "Handover_start: /NodeList/4/DeviceList/0/LteEnbRrc/HandoverStart UE IMSI 10: connected to cellId 1 with RNTI 4, handover to cellId 3\n",
      "Handover_Failure_JoiningTimeout:  IMSI 10, RNTI 1, targetCellId 3, 727.238\n",
      "\n",
      "Use this command to reproduce:\n",
      "python3 waf --run \"lena_hofailure --simTime=5000 --nBlocks=4 --nMacroEnbSites=1 --nMacroEnbSitesX=1 --macroUeDensity=1e-05 --homeEnbDeploymentRatio=1.0 --homeEnbActivationRatio=1.0 --homeUesHomeEnbRatio=1.0 --outdoorUeMinSpeed=1.0 --outdoorUeMaxSpeed=1.0 --handoverAlgorithm=A3 --Hysteresis=1.8 --TimeToTrigger=40.0 --SrsPeriodicity=80 --generateRem=0 --RngRun=8 --macroEnbTxPowerDbm=46 --srsPeriodicity=80 --interSiteDistance=500 --useUdp=true --epcUl=true --fadingTrace= --remRbId=-1 --homeEnbDlEarfcn=100 --macroEnbDlEarfcn=100 --homeEnbTxPowerDbm=20 --ServingCellThreshold=20.0 --macroEnbBandwidth=25 --NeighbourCellOffset=5.0 --epc=true --epcDl=true --numBearersPerUe=1 --homeEnbBandwidth=25\"\n",
      "Debug with gdb:\n",
      "python3 waf --run lena_hofailure --command-template=\"gdb --args %s --simTime=5000 --nBlocks=4 --nMacroEnbSites=1 --nMacroEnbSitesX=1 --macroUeDensity=1e-05 --homeEnbDeploymentRatio=1.0 --homeEnbActivationRatio=1.0 --homeUesHomeEnbRatio=1.0 --outdoorUeMinSpeed=1.0 --outdoorUeMaxSpeed=1.0 --handoverAlgorithm=A3 --Hysteresis=1.8 --TimeToTrigger=40.0 --SrsPeriodicity=80 --generateRem=0 --RngRun=8 --macroEnbTxPowerDbm=46 --srsPeriodicity=80 --interSiteDistance=500 --useUdp=true --epcUl=true --fadingTrace= --remRbId=-1 --homeEnbDlEarfcn=100 --macroEnbDlEarfcn=100 --homeEnbTxPowerDbm=20 --ServingCellThreshold=20.0 --macroEnbBandwidth=25 --NeighbourCellOffset=5.0 --epc=true --epcDl=true --numBearersPerUe=1 --homeEnbBandwidth=25\"\n"
     ]
    },
    {
     "name": "stderr",
     "output_type": "stream",
     "text": [
      "Running simulations:   7%|███                                          | 12/176 [20:37:10<35:35:46, 781.38s/simulation]"
     ]
    },
    {
     "name": "stdout",
     "output_type": "stream",
     "text": [
      "\n",
      "Simulation exited with an error.\n",
      "Params: {'simTime': 5000, 'nBlocks': 4, 'nMacroEnbSites': 1, 'nMacroEnbSitesX': 1, 'macroUeDensity': 1e-05, 'homeEnbDeploymentRatio': 1.0, 'homeEnbActivationRatio': 1.0, 'homeUesHomeEnbRatio': 1.0, 'outdoorUeMinSpeed': 1.0, 'outdoorUeMaxSpeed': 1.0, 'handoverAlgorithm': 'A3', 'Hysteresis': 2.2, 'TimeToTrigger': 40.0, 'SrsPeriodicity': 80, 'generateRem': 0, 'RngRun': 8, 'macroEnbTxPowerDbm': '46', 'srsPeriodicity': '80', 'interSiteDistance': '500', 'useUdp': 'true', 'epcUl': 'true', 'fadingTrace': '', 'remRbId': '-1', 'homeEnbDlEarfcn': '100', 'macroEnbDlEarfcn': '100', 'homeEnbTxPowerDbm': '20', 'ServingCellThreshold': 20.0, 'macroEnbBandwidth': '25', 'NeighbourCellOffset': 5.0, 'epc': 'true', 'epcDl': 'true', 'numBearersPerUe': '1', 'homeEnbBandwidth': '25'}\n",
      "Stderr: msg=\"No info find in HARQ buffer for UE 4\", +727.238000000s 4 file=/home/zzy/repos/ns3-dev-hofailure_RACH/src/lte/model/pf-ff-mac-scheduler.cc, line=921\n",
      "terminate called without an active exception\n",
      "\n",
      "Stdout: Handover_start: /NodeList/4/DeviceList/0/LteEnbRrc/HandoverStart UE IMSI 5: connected to cellId 1 with RNTI 1, handover to cellId 4\n",
      "Handover_start: /NodeList/2/DeviceList/0/LteEnbRrc/HandoverStart UE IMSI 5: connected to cellId 4 with RNTI 1, handover to cellId 1\n",
      "Handover_start: /NodeList/4/DeviceList/0/LteEnbRrc/HandoverStart UE IMSI 10: connected to cellId 1 with RNTI 4, handover to cellId 3\n",
      "Handover_Failure_JoiningTimeout:  IMSI 10, RNTI 1, targetCellId 3, 727.238\n",
      "\n",
      "Use this command to reproduce:\n",
      "python3 waf --run \"lena_hofailure --simTime=5000 --nBlocks=4 --nMacroEnbSites=1 --nMacroEnbSitesX=1 --macroUeDensity=1e-05 --homeEnbDeploymentRatio=1.0 --homeEnbActivationRatio=1.0 --homeUesHomeEnbRatio=1.0 --outdoorUeMinSpeed=1.0 --outdoorUeMaxSpeed=1.0 --handoverAlgorithm=A3 --Hysteresis=2.2 --TimeToTrigger=40.0 --SrsPeriodicity=80 --generateRem=0 --RngRun=8 --macroEnbTxPowerDbm=46 --srsPeriodicity=80 --interSiteDistance=500 --useUdp=true --epcUl=true --fadingTrace= --remRbId=-1 --homeEnbDlEarfcn=100 --macroEnbDlEarfcn=100 --homeEnbTxPowerDbm=20 --ServingCellThreshold=20.0 --macroEnbBandwidth=25 --NeighbourCellOffset=5.0 --epc=true --epcDl=true --numBearersPerUe=1 --homeEnbBandwidth=25\"\n",
      "Debug with gdb:\n",
      "python3 waf --run lena_hofailure --command-template=\"gdb --args %s --simTime=5000 --nBlocks=4 --nMacroEnbSites=1 --nMacroEnbSitesX=1 --macroUeDensity=1e-05 --homeEnbDeploymentRatio=1.0 --homeEnbActivationRatio=1.0 --homeUesHomeEnbRatio=1.0 --outdoorUeMinSpeed=1.0 --outdoorUeMaxSpeed=1.0 --handoverAlgorithm=A3 --Hysteresis=2.2 --TimeToTrigger=40.0 --SrsPeriodicity=80 --generateRem=0 --RngRun=8 --macroEnbTxPowerDbm=46 --srsPeriodicity=80 --interSiteDistance=500 --useUdp=true --epcUl=true --fadingTrace= --remRbId=-1 --homeEnbDlEarfcn=100 --macroEnbDlEarfcn=100 --homeEnbTxPowerDbm=20 --ServingCellThreshold=20.0 --macroEnbBandwidth=25 --NeighbourCellOffset=5.0 --epc=true --epcDl=true --numBearersPerUe=1 --homeEnbBandwidth=25\"\n"
     ]
    },
    {
     "name": "stderr",
     "output_type": "stream",
     "text": [
      "Running simulations:  22%|█████████▎                                 | 38/176 [67:28:07<195:03:07, 5088.32s/simulation]"
     ]
    },
    {
     "name": "stdout",
     "output_type": "stream",
     "text": [
      "\n",
      "Simulation exited with an error.\n",
      "Params: {'simTime': 5000, 'nBlocks': 4, 'nMacroEnbSites': 1, 'nMacroEnbSitesX': 1, 'macroUeDensity': 1e-05, 'homeEnbDeploymentRatio': 1.0, 'homeEnbActivationRatio': 1.0, 'homeUesHomeEnbRatio': 1.0, 'outdoorUeMinSpeed': 1.0, 'outdoorUeMaxSpeed': 1.0, 'handoverAlgorithm': 'A3', 'Hysteresis': 0.8, 'TimeToTrigger': 320.0, 'SrsPeriodicity': 80, 'generateRem': 0, 'RngRun': 8, 'macroEnbTxPowerDbm': '46', 'srsPeriodicity': '80', 'interSiteDistance': '500', 'useUdp': 'true', 'epcUl': 'true', 'fadingTrace': '', 'remRbId': '-1', 'homeEnbDlEarfcn': '100', 'macroEnbDlEarfcn': '100', 'homeEnbTxPowerDbm': '20', 'ServingCellThreshold': 20.0, 'macroEnbBandwidth': '25', 'NeighbourCellOffset': 5.0, 'epc': 'true', 'epcDl': 'true', 'numBearersPerUe': '1', 'homeEnbBandwidth': '25'}\n",
      "Stderr: msg=\"No info find in HARQ buffer for UE 4\", +727.201000000s 4 file=/home/zzy/repos/ns3-dev-hofailure_RACH/src/lte/model/pf-ff-mac-scheduler.cc, line=921\n",
      "terminate called without an active exception\n",
      "\n",
      "Stdout: Handover_start: /NodeList/4/DeviceList/0/LteEnbRrc/HandoverStart UE IMSI 5: connected to cellId 1 with RNTI 1, handover to cellId 4\n",
      "Handover_start: /NodeList/2/DeviceList/0/LteEnbRrc/HandoverStart UE IMSI 5: connected to cellId 4 with RNTI 1, handover to cellId 1\n",
      "Handover_start: /NodeList/4/DeviceList/0/LteEnbRrc/HandoverStart UE IMSI 10: connected to cellId 1 with RNTI 4, handover to cellId 3\n",
      "Handover_Failure_JoiningTimeout:  IMSI 10, RNTI 1, targetCellId 3, 727.201\n",
      "\n",
      "Use this command to reproduce:\n",
      "python3 waf --run \"lena_hofailure --simTime=5000 --nBlocks=4 --nMacroEnbSites=1 --nMacroEnbSitesX=1 --macroUeDensity=1e-05 --homeEnbDeploymentRatio=1.0 --homeEnbActivationRatio=1.0 --homeUesHomeEnbRatio=1.0 --outdoorUeMinSpeed=1.0 --outdoorUeMaxSpeed=1.0 --handoverAlgorithm=A3 --Hysteresis=0.8 --TimeToTrigger=320.0 --SrsPeriodicity=80 --generateRem=0 --RngRun=8 --macroEnbTxPowerDbm=46 --srsPeriodicity=80 --interSiteDistance=500 --useUdp=true --epcUl=true --fadingTrace= --remRbId=-1 --homeEnbDlEarfcn=100 --macroEnbDlEarfcn=100 --homeEnbTxPowerDbm=20 --ServingCellThreshold=20.0 --macroEnbBandwidth=25 --NeighbourCellOffset=5.0 --epc=true --epcDl=true --numBearersPerUe=1 --homeEnbBandwidth=25\"\n",
      "Debug with gdb:\n",
      "python3 waf --run lena_hofailure --command-template=\"gdb --args %s --simTime=5000 --nBlocks=4 --nMacroEnbSites=1 --nMacroEnbSitesX=1 --macroUeDensity=1e-05 --homeEnbDeploymentRatio=1.0 --homeEnbActivationRatio=1.0 --homeUesHomeEnbRatio=1.0 --outdoorUeMinSpeed=1.0 --outdoorUeMaxSpeed=1.0 --handoverAlgorithm=A3 --Hysteresis=0.8 --TimeToTrigger=320.0 --SrsPeriodicity=80 --generateRem=0 --RngRun=8 --macroEnbTxPowerDbm=46 --srsPeriodicity=80 --interSiteDistance=500 --useUdp=true --epcUl=true --fadingTrace= --remRbId=-1 --homeEnbDlEarfcn=100 --macroEnbDlEarfcn=100 --homeEnbTxPowerDbm=20 --ServingCellThreshold=20.0 --macroEnbBandwidth=25 --NeighbourCellOffset=5.0 --epc=true --epcDl=true --numBearersPerUe=1 --homeEnbBandwidth=25\"\n"
     ]
    },
    {
     "name": "stderr",
     "output_type": "stream",
     "text": [
      "Running simulations:  35%|██████████████▉                            | 61/176 [88:48:02<107:29:21, 3364.88s/simulation]"
     ]
    },
    {
     "name": "stdout",
     "output_type": "stream",
     "text": [
      "\n",
      "Simulation exited with an error.\n",
      "Params: {'simTime': 5000, 'nBlocks': 4, 'nMacroEnbSites': 1, 'nMacroEnbSitesX': 1, 'macroUeDensity': 1e-05, 'homeEnbDeploymentRatio': 1.0, 'homeEnbActivationRatio': 1.0, 'homeUesHomeEnbRatio': 1.0, 'outdoorUeMinSpeed': 1.0, 'outdoorUeMaxSpeed': 1.0, 'handoverAlgorithm': 'A3', 'Hysteresis': 1.8, 'TimeToTrigger': 0.0, 'SrsPeriodicity': 80, 'generateRem': 0, 'RngRun': 8, 'macroEnbTxPowerDbm': '46', 'srsPeriodicity': '80', 'interSiteDistance': '500', 'useUdp': 'true', 'epcUl': 'true', 'fadingTrace': '', 'remRbId': '-1', 'homeEnbDlEarfcn': '100', 'macroEnbDlEarfcn': '100', 'homeEnbTxPowerDbm': '20', 'ServingCellThreshold': 20.0, 'macroEnbBandwidth': '25', 'NeighbourCellOffset': 5.0, 'epc': 'true', 'epcDl': 'true', 'numBearersPerUe': '1', 'homeEnbBandwidth': '25'}\n",
      "Stderr: msg=\"No info find in HARQ buffer for UE 4\", +727.239000000s 4 file=/home/zzy/repos/ns3-dev-hofailure_RACH/src/lte/model/pf-ff-mac-scheduler.cc, line=921\n",
      "terminate called without an active exception\n",
      "\n",
      "Stdout: Handover_start: /NodeList/4/DeviceList/0/LteEnbRrc/HandoverStart UE IMSI 5: connected to cellId 1 with RNTI 1, handover to cellId 4\n",
      "Handover_start: /NodeList/2/DeviceList/0/LteEnbRrc/HandoverStart UE IMSI 5: connected to cellId 4 with RNTI 1, handover to cellId 1\n",
      "Handover_start: /NodeList/4/DeviceList/0/LteEnbRrc/HandoverStart UE IMSI 10: connected to cellId 1 with RNTI 4, handover to cellId 3\n",
      "Handover_Failure_JoiningTimeout:  IMSI 10, RNTI 1, targetCellId 3, 727.239\n",
      "\n",
      "Use this command to reproduce:\n",
      "python3 waf --run \"lena_hofailure --simTime=5000 --nBlocks=4 --nMacroEnbSites=1 --nMacroEnbSitesX=1 --macroUeDensity=1e-05 --homeEnbDeploymentRatio=1.0 --homeEnbActivationRatio=1.0 --homeUesHomeEnbRatio=1.0 --outdoorUeMinSpeed=1.0 --outdoorUeMaxSpeed=1.0 --handoverAlgorithm=A3 --Hysteresis=1.8 --TimeToTrigger=0.0 --SrsPeriodicity=80 --generateRem=0 --RngRun=8 --macroEnbTxPowerDbm=46 --srsPeriodicity=80 --interSiteDistance=500 --useUdp=true --epcUl=true --fadingTrace= --remRbId=-1 --homeEnbDlEarfcn=100 --macroEnbDlEarfcn=100 --homeEnbTxPowerDbm=20 --ServingCellThreshold=20.0 --macroEnbBandwidth=25 --NeighbourCellOffset=5.0 --epc=true --epcDl=true --numBearersPerUe=1 --homeEnbBandwidth=25\"\n",
      "Debug with gdb:\n",
      "python3 waf --run lena_hofailure --command-template=\"gdb --args %s --simTime=5000 --nBlocks=4 --nMacroEnbSites=1 --nMacroEnbSitesX=1 --macroUeDensity=1e-05 --homeEnbDeploymentRatio=1.0 --homeEnbActivationRatio=1.0 --homeUesHomeEnbRatio=1.0 --outdoorUeMinSpeed=1.0 --outdoorUeMaxSpeed=1.0 --handoverAlgorithm=A3 --Hysteresis=1.8 --TimeToTrigger=0.0 --SrsPeriodicity=80 --generateRem=0 --RngRun=8 --macroEnbTxPowerDbm=46 --srsPeriodicity=80 --interSiteDistance=500 --useUdp=true --epcUl=true --fadingTrace= --remRbId=-1 --homeEnbDlEarfcn=100 --macroEnbDlEarfcn=100 --homeEnbTxPowerDbm=20 --ServingCellThreshold=20.0 --macroEnbBandwidth=25 --NeighbourCellOffset=5.0 --epc=true --epcDl=true --numBearersPerUe=1 --homeEnbBandwidth=25\"\n"
     ]
    },
    {
     "name": "stderr",
     "output_type": "stream",
     "text": [
      "Running simulations:  36%|████████████████                            | 64/176 [89:01:19<40:49:15, 1312.10s/simulation]"
     ]
    },
    {
     "name": "stdout",
     "output_type": "stream",
     "text": [
      "\n",
      "Simulation exited with an error.\n",
      "Params: {'simTime': 5000, 'nBlocks': 4, 'nMacroEnbSites': 1, 'nMacroEnbSitesX': 1, 'macroUeDensity': 1e-05, 'homeEnbDeploymentRatio': 1.0, 'homeEnbActivationRatio': 1.0, 'homeUesHomeEnbRatio': 1.0, 'outdoorUeMinSpeed': 1.0, 'outdoorUeMaxSpeed': 1.0, 'handoverAlgorithm': 'A3', 'Hysteresis': 2.2, 'TimeToTrigger': 0.0, 'SrsPeriodicity': 80, 'generateRem': 0, 'RngRun': 8, 'macroEnbTxPowerDbm': '46', 'srsPeriodicity': '80', 'interSiteDistance': '500', 'useUdp': 'true', 'epcUl': 'true', 'fadingTrace': '', 'remRbId': '-1', 'homeEnbDlEarfcn': '100', 'macroEnbDlEarfcn': '100', 'homeEnbTxPowerDbm': '20', 'ServingCellThreshold': 20.0, 'macroEnbBandwidth': '25', 'NeighbourCellOffset': 5.0, 'epc': 'true', 'epcDl': 'true', 'numBearersPerUe': '1', 'homeEnbBandwidth': '25'}\n",
      "Stderr: msg=\"No info find in HARQ buffer for UE 4\", +727.239000000s 4 file=/home/zzy/repos/ns3-dev-hofailure_RACH/src/lte/model/pf-ff-mac-scheduler.cc, line=921\n",
      "terminate called without an active exception\n",
      "\n",
      "Stdout: Handover_start: /NodeList/4/DeviceList/0/LteEnbRrc/HandoverStart UE IMSI 5: connected to cellId 1 with RNTI 1, handover to cellId 4\n",
      "Handover_start: /NodeList/2/DeviceList/0/LteEnbRrc/HandoverStart UE IMSI 5: connected to cellId 4 with RNTI 1, handover to cellId 1\n",
      "Handover_start: /NodeList/4/DeviceList/0/LteEnbRrc/HandoverStart UE IMSI 10: connected to cellId 1 with RNTI 4, handover to cellId 3\n",
      "Handover_Failure_JoiningTimeout:  IMSI 10, RNTI 1, targetCellId 3, 727.239\n",
      "\n",
      "Use this command to reproduce:\n",
      "python3 waf --run \"lena_hofailure --simTime=5000 --nBlocks=4 --nMacroEnbSites=1 --nMacroEnbSitesX=1 --macroUeDensity=1e-05 --homeEnbDeploymentRatio=1.0 --homeEnbActivationRatio=1.0 --homeUesHomeEnbRatio=1.0 --outdoorUeMinSpeed=1.0 --outdoorUeMaxSpeed=1.0 --handoverAlgorithm=A3 --Hysteresis=2.2 --TimeToTrigger=0.0 --SrsPeriodicity=80 --generateRem=0 --RngRun=8 --macroEnbTxPowerDbm=46 --srsPeriodicity=80 --interSiteDistance=500 --useUdp=true --epcUl=true --fadingTrace= --remRbId=-1 --homeEnbDlEarfcn=100 --macroEnbDlEarfcn=100 --homeEnbTxPowerDbm=20 --ServingCellThreshold=20.0 --macroEnbBandwidth=25 --NeighbourCellOffset=5.0 --epc=true --epcDl=true --numBearersPerUe=1 --homeEnbBandwidth=25\"\n",
      "Debug with gdb:\n",
      "python3 waf --run lena_hofailure --command-template=\"gdb --args %s --simTime=5000 --nBlocks=4 --nMacroEnbSites=1 --nMacroEnbSitesX=1 --macroUeDensity=1e-05 --homeEnbDeploymentRatio=1.0 --homeEnbActivationRatio=1.0 --homeUesHomeEnbRatio=1.0 --outdoorUeMinSpeed=1.0 --outdoorUeMaxSpeed=1.0 --handoverAlgorithm=A3 --Hysteresis=2.2 --TimeToTrigger=0.0 --SrsPeriodicity=80 --generateRem=0 --RngRun=8 --macroEnbTxPowerDbm=46 --srsPeriodicity=80 --interSiteDistance=500 --useUdp=true --epcUl=true --fadingTrace= --remRbId=-1 --homeEnbDlEarfcn=100 --macroEnbDlEarfcn=100 --homeEnbTxPowerDbm=20 --ServingCellThreshold=20.0 --macroEnbBandwidth=25 --NeighbourCellOffset=5.0 --epc=true --epcDl=true --numBearersPerUe=1 --homeEnbBandwidth=25\"\n"
     ]
    },
    {
     "name": "stderr",
     "output_type": "stream",
     "text": [
      "Running simulations:  64%|██████████████████████████▉               | 113/176 [129:32:30<19:13:52, 1098.94s/simulation]"
     ]
    },
    {
     "name": "stdout",
     "output_type": "stream",
     "text": [
      "\n",
      "Simulation exited with an error.\n",
      "Params: {'simTime': 5000, 'nBlocks': 4, 'nMacroEnbSites': 1, 'nMacroEnbSitesX': 1, 'macroUeDensity': 1e-05, 'homeEnbDeploymentRatio': 1.0, 'homeEnbActivationRatio': 1.0, 'homeUesHomeEnbRatio': 1.0, 'outdoorUeMinSpeed': 1.0, 'outdoorUeMaxSpeed': 1.0, 'handoverAlgorithm': 'A3', 'Hysteresis': 1.0, 'TimeToTrigger': 320.0, 'SrsPeriodicity': 80, 'generateRem': 0, 'RngRun': 8, 'macroEnbTxPowerDbm': '46', 'srsPeriodicity': '80', 'interSiteDistance': '500', 'useUdp': 'true', 'epcUl': 'true', 'fadingTrace': '', 'remRbId': '-1', 'homeEnbDlEarfcn': '100', 'macroEnbDlEarfcn': '100', 'homeEnbTxPowerDbm': '20', 'ServingCellThreshold': 20.0, 'macroEnbBandwidth': '25', 'NeighbourCellOffset': 5.0, 'epc': 'true', 'epcDl': 'true', 'numBearersPerUe': '1', 'homeEnbBandwidth': '25'}\n",
      "Stderr: msg=\"No info find in HARQ buffer for UE 4\", +727.201000000s 4 file=/home/zzy/repos/ns3-dev-hofailure_RACH/src/lte/model/pf-ff-mac-scheduler.cc, line=921\n",
      "terminate called without an active exception\n",
      "\n",
      "Stdout: Handover_start: /NodeList/4/DeviceList/0/LteEnbRrc/HandoverStart UE IMSI 5: connected to cellId 1 with RNTI 1, handover to cellId 4\n",
      "Handover_start: /NodeList/2/DeviceList/0/LteEnbRrc/HandoverStart UE IMSI 5: connected to cellId 4 with RNTI 1, handover to cellId 1\n",
      "Handover_start: /NodeList/4/DeviceList/0/LteEnbRrc/HandoverStart UE IMSI 10: connected to cellId 1 with RNTI 4, handover to cellId 3\n",
      "Handover_Failure_JoiningTimeout:  IMSI 10, RNTI 1, targetCellId 3, 727.201\n",
      "\n",
      "Use this command to reproduce:\n",
      "python3 waf --run \"lena_hofailure --simTime=5000 --nBlocks=4 --nMacroEnbSites=1 --nMacroEnbSitesX=1 --macroUeDensity=1e-05 --homeEnbDeploymentRatio=1.0 --homeEnbActivationRatio=1.0 --homeUesHomeEnbRatio=1.0 --outdoorUeMinSpeed=1.0 --outdoorUeMaxSpeed=1.0 --handoverAlgorithm=A3 --Hysteresis=1.0 --TimeToTrigger=320.0 --SrsPeriodicity=80 --generateRem=0 --RngRun=8 --macroEnbTxPowerDbm=46 --srsPeriodicity=80 --interSiteDistance=500 --useUdp=true --epcUl=true --fadingTrace= --remRbId=-1 --homeEnbDlEarfcn=100 --macroEnbDlEarfcn=100 --homeEnbTxPowerDbm=20 --ServingCellThreshold=20.0 --macroEnbBandwidth=25 --NeighbourCellOffset=5.0 --epc=true --epcDl=true --numBearersPerUe=1 --homeEnbBandwidth=25\"\n",
      "Debug with gdb:\n",
      "python3 waf --run lena_hofailure --command-template=\"gdb --args %s --simTime=5000 --nBlocks=4 --nMacroEnbSites=1 --nMacroEnbSitesX=1 --macroUeDensity=1e-05 --homeEnbDeploymentRatio=1.0 --homeEnbActivationRatio=1.0 --homeUesHomeEnbRatio=1.0 --outdoorUeMinSpeed=1.0 --outdoorUeMaxSpeed=1.0 --handoverAlgorithm=A3 --Hysteresis=1.0 --TimeToTrigger=320.0 --SrsPeriodicity=80 --generateRem=0 --RngRun=8 --macroEnbTxPowerDbm=46 --srsPeriodicity=80 --interSiteDistance=500 --useUdp=true --epcUl=true --fadingTrace= --remRbId=-1 --homeEnbDlEarfcn=100 --macroEnbDlEarfcn=100 --homeEnbTxPowerDbm=20 --ServingCellThreshold=20.0 --macroEnbBandwidth=25 --NeighbourCellOffset=5.0 --epc=true --epcDl=true --numBearersPerUe=1 --homeEnbBandwidth=25\"\n"
     ]
    },
    {
     "name": "stderr",
     "output_type": "stream",
     "text": [
      "\r",
      "Running simulations:  65%|███████████████████████████▏              | 114/176 [132:33:08<69:14:40, 4020.66s/simulation]"
     ]
    },
    {
     "name": "stdout",
     "output_type": "stream",
     "text": [
      "\n",
      "Simulation exited with an error.\n",
      "Params: {'simTime': 5000, 'nBlocks': 4, 'nMacroEnbSites': 1, 'nMacroEnbSitesX': 1, 'macroUeDensity': 1e-05, 'homeEnbDeploymentRatio': 1.0, 'homeEnbActivationRatio': 1.0, 'homeUesHomeEnbRatio': 1.0, 'outdoorUeMinSpeed': 1.0, 'outdoorUeMaxSpeed': 1.0, 'handoverAlgorithm': 'A3', 'Hysteresis': 2.0, 'TimeToTrigger': 40.0, 'SrsPeriodicity': 80, 'generateRem': 0, 'RngRun': 8, 'macroEnbTxPowerDbm': '46', 'srsPeriodicity': '80', 'interSiteDistance': '500', 'useUdp': 'true', 'epcUl': 'true', 'fadingTrace': '', 'remRbId': '-1', 'homeEnbDlEarfcn': '100', 'macroEnbDlEarfcn': '100', 'homeEnbTxPowerDbm': '20', 'ServingCellThreshold': 20.0, 'macroEnbBandwidth': '25', 'NeighbourCellOffset': 5.0, 'epc': 'true', 'epcDl': 'true', 'numBearersPerUe': '1', 'homeEnbBandwidth': '25'}\n",
      "Stderr: msg=\"No info find in HARQ buffer for UE 4\", +727.238000000s 4 file=/home/zzy/repos/ns3-dev-hofailure_RACH/src/lte/model/pf-ff-mac-scheduler.cc, line=921\n",
      "terminate called without an active exception\n",
      "\n",
      "Stdout: Handover_start: /NodeList/4/DeviceList/0/LteEnbRrc/HandoverStart UE IMSI 5: connected to cellId 1 with RNTI 1, handover to cellId 4\n",
      "Handover_start: /NodeList/2/DeviceList/0/LteEnbRrc/HandoverStart UE IMSI 5: connected to cellId 4 with RNTI 1, handover to cellId 1\n",
      "Handover_start: /NodeList/4/DeviceList/0/LteEnbRrc/HandoverStart UE IMSI 10: connected to cellId 1 with RNTI 4, handover to cellId 3\n",
      "Handover_Failure_JoiningTimeout:  IMSI 10, RNTI 1, targetCellId 3, 727.238\n",
      "\n",
      "Use this command to reproduce:\n",
      "python3 waf --run \"lena_hofailure --simTime=5000 --nBlocks=4 --nMacroEnbSites=1 --nMacroEnbSitesX=1 --macroUeDensity=1e-05 --homeEnbDeploymentRatio=1.0 --homeEnbActivationRatio=1.0 --homeUesHomeEnbRatio=1.0 --outdoorUeMinSpeed=1.0 --outdoorUeMaxSpeed=1.0 --handoverAlgorithm=A3 --Hysteresis=2.0 --TimeToTrigger=40.0 --SrsPeriodicity=80 --generateRem=0 --RngRun=8 --macroEnbTxPowerDbm=46 --srsPeriodicity=80 --interSiteDistance=500 --useUdp=true --epcUl=true --fadingTrace= --remRbId=-1 --homeEnbDlEarfcn=100 --macroEnbDlEarfcn=100 --homeEnbTxPowerDbm=20 --ServingCellThreshold=20.0 --macroEnbBandwidth=25 --NeighbourCellOffset=5.0 --epc=true --epcDl=true --numBearersPerUe=1 --homeEnbBandwidth=25\"\n",
      "Debug with gdb:\n",
      "python3 waf --run lena_hofailure --command-template=\"gdb --args %s --simTime=5000 --nBlocks=4 --nMacroEnbSites=1 --nMacroEnbSitesX=1 --macroUeDensity=1e-05 --homeEnbDeploymentRatio=1.0 --homeEnbActivationRatio=1.0 --homeUesHomeEnbRatio=1.0 --outdoorUeMinSpeed=1.0 --outdoorUeMaxSpeed=1.0 --handoverAlgorithm=A3 --Hysteresis=2.0 --TimeToTrigger=40.0 --SrsPeriodicity=80 --generateRem=0 --RngRun=8 --macroEnbTxPowerDbm=46 --srsPeriodicity=80 --interSiteDistance=500 --useUdp=true --epcUl=true --fadingTrace= --remRbId=-1 --homeEnbDlEarfcn=100 --macroEnbDlEarfcn=100 --homeEnbTxPowerDbm=20 --ServingCellThreshold=20.0 --macroEnbBandwidth=25 --NeighbourCellOffset=5.0 --epc=true --epcDl=true --numBearersPerUe=1 --homeEnbBandwidth=25\"\n"
     ]
    },
    {
     "name": "stderr",
     "output_type": "stream",
     "text": [
      "Running simulations:  76%|███████████████████████████████▉          | 134/176 [147:10:21<13:02:25, 1117.76s/simulation]"
     ]
    },
    {
     "name": "stdout",
     "output_type": "stream",
     "text": [
      "\n",
      "Simulation exited with an error.\n",
      "Params: {'simTime': 5000, 'nBlocks': 4, 'nMacroEnbSites': 1, 'nMacroEnbSitesX': 1, 'macroUeDensity': 1e-05, 'homeEnbDeploymentRatio': 1.0, 'homeEnbActivationRatio': 1.0, 'homeUesHomeEnbRatio': 1.0, 'outdoorUeMinSpeed': 1.0, 'outdoorUeMaxSpeed': 1.0, 'handoverAlgorithm': 'A3', 'Hysteresis': 2.0, 'TimeToTrigger': 0.0, 'SrsPeriodicity': 80, 'generateRem': 0, 'RngRun': 8, 'macroEnbTxPowerDbm': '46', 'srsPeriodicity': '80', 'interSiteDistance': '500', 'useUdp': 'true', 'epcUl': 'true', 'fadingTrace': '', 'remRbId': '-1', 'homeEnbDlEarfcn': '100', 'macroEnbDlEarfcn': '100', 'homeEnbTxPowerDbm': '20', 'ServingCellThreshold': 20.0, 'macroEnbBandwidth': '25', 'NeighbourCellOffset': 5.0, 'epc': 'true', 'epcDl': 'true', 'numBearersPerUe': '1', 'homeEnbBandwidth': '25'}\n",
      "Stderr: msg=\"No info find in HARQ buffer for UE 4\", +727.239000000s 4 file=/home/zzy/repos/ns3-dev-hofailure_RACH/src/lte/model/pf-ff-mac-scheduler.cc, line=921\n",
      "terminate called without an active exception\n",
      "\n",
      "Stdout: Handover_start: /NodeList/4/DeviceList/0/LteEnbRrc/HandoverStart UE IMSI 5: connected to cellId 1 with RNTI 1, handover to cellId 4\n",
      "Handover_start: /NodeList/2/DeviceList/0/LteEnbRrc/HandoverStart UE IMSI 5: connected to cellId 4 with RNTI 1, handover to cellId 1\n",
      "Handover_start: /NodeList/4/DeviceList/0/LteEnbRrc/HandoverStart UE IMSI 10: connected to cellId 1 with RNTI 4, handover to cellId 3\n",
      "Handover_Failure_JoiningTimeout:  IMSI 10, RNTI 1, targetCellId 3, 727.239\n",
      "\n",
      "Use this command to reproduce:\n",
      "python3 waf --run \"lena_hofailure --simTime=5000 --nBlocks=4 --nMacroEnbSites=1 --nMacroEnbSitesX=1 --macroUeDensity=1e-05 --homeEnbDeploymentRatio=1.0 --homeEnbActivationRatio=1.0 --homeUesHomeEnbRatio=1.0 --outdoorUeMinSpeed=1.0 --outdoorUeMaxSpeed=1.0 --handoverAlgorithm=A3 --Hysteresis=2.0 --TimeToTrigger=0.0 --SrsPeriodicity=80 --generateRem=0 --RngRun=8 --macroEnbTxPowerDbm=46 --srsPeriodicity=80 --interSiteDistance=500 --useUdp=true --epcUl=true --fadingTrace= --remRbId=-1 --homeEnbDlEarfcn=100 --macroEnbDlEarfcn=100 --homeEnbTxPowerDbm=20 --ServingCellThreshold=20.0 --macroEnbBandwidth=25 --NeighbourCellOffset=5.0 --epc=true --epcDl=true --numBearersPerUe=1 --homeEnbBandwidth=25\"\n",
      "Debug with gdb:\n",
      "python3 waf --run lena_hofailure --command-template=\"gdb --args %s --simTime=5000 --nBlocks=4 --nMacroEnbSites=1 --nMacroEnbSitesX=1 --macroUeDensity=1e-05 --homeEnbDeploymentRatio=1.0 --homeEnbActivationRatio=1.0 --homeUesHomeEnbRatio=1.0 --outdoorUeMinSpeed=1.0 --outdoorUeMaxSpeed=1.0 --handoverAlgorithm=A3 --Hysteresis=2.0 --TimeToTrigger=0.0 --SrsPeriodicity=80 --generateRem=0 --RngRun=8 --macroEnbTxPowerDbm=46 --srsPeriodicity=80 --interSiteDistance=500 --useUdp=true --epcUl=true --fadingTrace= --remRbId=-1 --homeEnbDlEarfcn=100 --macroEnbDlEarfcn=100 --homeEnbTxPowerDbm=20 --ServingCellThreshold=20.0 --macroEnbBandwidth=25 --NeighbourCellOffset=5.0 --epc=true --epcDl=true --numBearersPerUe=1 --homeEnbBandwidth=25\"\n"
     ]
    },
    {
     "name": "stderr",
     "output_type": "stream",
     "text": [
      "Running simulations:  79%|█████████████████████████████████▏        | 139/176 [149:51:00<12:21:13, 1201.99s/simulation]"
     ]
    },
    {
     "name": "stdout",
     "output_type": "stream",
     "text": [
      "\n",
      "Simulation exited with an error.\n",
      "Params: {'simTime': 5000, 'nBlocks': 4, 'nMacroEnbSites': 1, 'nMacroEnbSitesX': 1, 'macroUeDensity': 1e-05, 'homeEnbDeploymentRatio': 1.0, 'homeEnbActivationRatio': 1.0, 'homeUesHomeEnbRatio': 1.0, 'outdoorUeMinSpeed': 1.0, 'outdoorUeMaxSpeed': 1.0, 'handoverAlgorithm': 'A3', 'Hysteresis': 1.2000000000000002, 'TimeToTrigger': 320.0, 'SrsPeriodicity': 80, 'generateRem': 0, 'RngRun': 8, 'macroEnbTxPowerDbm': '46', 'srsPeriodicity': '80', 'interSiteDistance': '500', 'useUdp': 'true', 'epcUl': 'true', 'fadingTrace': '', 'remRbId': '-1', 'homeEnbDlEarfcn': '100', 'macroEnbDlEarfcn': '100', 'homeEnbTxPowerDbm': '20', 'ServingCellThreshold': 20.0, 'macroEnbBandwidth': '25', 'NeighbourCellOffset': 5.0, 'epc': 'true', 'epcDl': 'true', 'numBearersPerUe': '1', 'homeEnbBandwidth': '25'}\n",
      "Stderr: msg=\"No info find in HARQ buffer for UE 4\", +727.201000000s 4 file=/home/zzy/repos/ns3-dev-hofailure_RACH/src/lte/model/pf-ff-mac-scheduler.cc, line=921\n",
      "terminate called without an active exception\n",
      "\n",
      "Stdout: Handover_start: /NodeList/4/DeviceList/0/LteEnbRrc/HandoverStart UE IMSI 5: connected to cellId 1 with RNTI 1, handover to cellId 4\n",
      "Handover_start: /NodeList/2/DeviceList/0/LteEnbRrc/HandoverStart UE IMSI 5: connected to cellId 4 with RNTI 1, handover to cellId 1\n",
      "Handover_start: /NodeList/4/DeviceList/0/LteEnbRrc/HandoverStart UE IMSI 10: connected to cellId 1 with RNTI 4, handover to cellId 3\n",
      "Handover_Failure_JoiningTimeout:  IMSI 10, RNTI 1, targetCellId 3, 727.201\n",
      "\n",
      "Use this command to reproduce:\n",
      "python3 waf --run \"lena_hofailure --simTime=5000 --nBlocks=4 --nMacroEnbSites=1 --nMacroEnbSitesX=1 --macroUeDensity=1e-05 --homeEnbDeploymentRatio=1.0 --homeEnbActivationRatio=1.0 --homeUesHomeEnbRatio=1.0 --outdoorUeMinSpeed=1.0 --outdoorUeMaxSpeed=1.0 --handoverAlgorithm=A3 --Hysteresis=1.2000000000000002 --TimeToTrigger=320.0 --SrsPeriodicity=80 --generateRem=0 --RngRun=8 --macroEnbTxPowerDbm=46 --srsPeriodicity=80 --interSiteDistance=500 --useUdp=true --epcUl=true --fadingTrace= --remRbId=-1 --homeEnbDlEarfcn=100 --macroEnbDlEarfcn=100 --homeEnbTxPowerDbm=20 --ServingCellThreshold=20.0 --macroEnbBandwidth=25 --NeighbourCellOffset=5.0 --epc=true --epcDl=true --numBearersPerUe=1 --homeEnbBandwidth=25\"\n",
      "Debug with gdb:\n",
      "python3 waf --run lena_hofailure --command-template=\"gdb --args %s --simTime=5000 --nBlocks=4 --nMacroEnbSites=1 --nMacroEnbSitesX=1 --macroUeDensity=1e-05 --homeEnbDeploymentRatio=1.0 --homeEnbActivationRatio=1.0 --homeUesHomeEnbRatio=1.0 --outdoorUeMinSpeed=1.0 --outdoorUeMaxSpeed=1.0 --handoverAlgorithm=A3 --Hysteresis=1.2000000000000002 --TimeToTrigger=320.0 --SrsPeriodicity=80 --generateRem=0 --RngRun=8 --macroEnbTxPowerDbm=46 --srsPeriodicity=80 --interSiteDistance=500 --useUdp=true --epcUl=true --fadingTrace= --remRbId=-1 --homeEnbDlEarfcn=100 --macroEnbDlEarfcn=100 --homeEnbTxPowerDbm=20 --ServingCellThreshold=20.0 --macroEnbBandwidth=25 --NeighbourCellOffset=5.0 --epc=true --epcDl=true --numBearersPerUe=1 --homeEnbBandwidth=25\"\n"
     ]
    },
    {
     "name": "stderr",
     "output_type": "stream",
     "text": [
      "Running simulations: 100%|█████████████████████████████████████████████| 176/176 [178:37:45<00:00, 3653.78s/simulation]\n"
     ]
    }
   ],
   "source": [
    "campaign.run_missing_simulations(param_combination, stop_on_errors=False)"
   ]
  },
  {
   "cell_type": "code",
   "execution_count": null,
   "id": "95b21d10",
   "metadata": {},
   "outputs": [],
   "source": [
    "def get_average_throughput(result1):\n",
    "    if result1['output']['stderr'] != \"\":\n",
    "        num_HOs = -1\n",
    "        num_RLFs = -1\n",
    "        num_HFMRs = -1\n",
    "        num_HFNPs = -1\n",
    "        num_HFJs = -1\n",
    "        num_HFLs = -1\n",
    "    else:\n",
    "        split_results = result1['output']['stdout'].split(\"\\n\")\n",
    "        num_HOs = 0\n",
    "        num_RLFs = 0\n",
    "        num_HFMRs = 0\n",
    "        num_HFNPs = 0\n",
    "        num_HFJs = 0\n",
    "        num_HFLs = 0\n",
    "        for line in split_results:\n",
    "            event = line.split(\":\",1)[0]\n",
    "            if event == \"Handover_start\":\n",
    "                num_HOs += 1\n",
    "            elif event == \"Handover_Failure_NoPreamble\":\n",
    "                num_HFNPs += 1\n",
    "            elif event == \"Handover_Failure_JoiningTimeout\":\n",
    "                num_HFJs += 1\n",
    "            elif event == \"Handover_Failure_MaxRach\":\n",
    "                num_HFMRs += 1\n",
    "            elif event == \"Handover_Failure_LeavingTimeout\":\n",
    "                num_HFLs += 1\n",
    "            elif event == \"Radio_link_failure_detected\":\n",
    "                num_RLFs += 1\n",
    "    return [num_HOs, num_RLFs, num_HFNPs, num_HFJs, num_HFMRs, num_HFLs]"
   ]
  }
 ],
 "metadata": {
  "kernelspec": {
   "display_name": "Python 3 (ipykernel)",
   "language": "python",
   "name": "python3"
  },
  "language_info": {
   "codemirror_mode": {
    "name": "ipython",
    "version": 3
   },
   "file_extension": ".py",
   "mimetype": "text/x-python",
   "name": "python",
   "nbconvert_exporter": "python",
   "pygments_lexer": "ipython3",
   "version": "3.9.13"
  }
 },
 "nbformat": 4,
 "nbformat_minor": 5
}
