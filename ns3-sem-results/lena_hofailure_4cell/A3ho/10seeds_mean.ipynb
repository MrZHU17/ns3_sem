{
 "cells": [
  {
   "cell_type": "code",
   "execution_count": 1,
   "id": "bb6b1702",
   "metadata": {},
   "outputs": [],
   "source": [
    "import sys\n",
    "sys.path.append(\"../../../ns3_sem\")\n",
    "import sem\n",
    "import pprint\n",
    "import matplotlib.pyplot as plt\n",
    "import seaborn as sns\n",
    "import numpy\n",
    "import numpy as np"
   ]
  },
  {
   "cell_type": "markdown",
   "id": "4d6e683b",
   "metadata": {},
   "source": [
    "# RngRun 1"
   ]
  },
  {
   "cell_type": "code",
   "execution_count": 58,
   "id": "36a081d9",
   "metadata": {},
   "outputs": [],
   "source": [
    "campaign_dir1 = 'rngrun1/rngrun1'\n",
    "campaign = sem.CampaignManager.load(campaign_dir1, check_repo=False)"
   ]
  },
  {
   "cell_type": "code",
   "execution_count": 59,
   "id": "5ff2b049",
   "metadata": {},
   "outputs": [],
   "source": [
    "param_combination1 = {'simTime':5000, \n",
    "                     'nBlocks': 4, #list([1,2,3,4,5,6,7,8,9,10]),#round(4*nBlocks*0.1)\n",
    "                     'nMacroEnbSites': 1, #list([1,2,3,4,5,6,7,8,9,10]),\n",
    "                     'nMacroEnbSitesX': 1,\n",
    "                     'macroUeDensity': 0.00001,#1000000 [p * 0.5 for p in range(0.0001, 0.01)]\n",
    "                     'homeEnbDeploymentRatio': 1.0,\n",
    "                     'homeEnbActivationRatio': 1.0,\n",
    "                     'homeUesHomeEnbRatio': 1.0,\n",
    "                     'outdoorUeMinSpeed': 1.0,#[j * 2.0 for j in range(2.0, 10.0)]\n",
    "                     'outdoorUeMaxSpeed': 1.0,\n",
    "                     'handoverAlgorithm': 'A3',\n",
    "                     'Hysteresis': [j * 1.0 for j in np.arange(0.0, 3.2, 0.2)],\n",
    "                     'TimeToTrigger':  list([0.0, 40.0, 64.0, 80.0, 100.0, 128.0, 160.0, 256.0, 320.0, 480.0, 512.0]),\n",
    "                     'SrsPeriodicity': 80,\n",
    "                     'generateRem': 0,\n",
    "                     'RngRun': [1]\n",
    "                    }"
   ]
  },
  {
   "cell_type": "code",
   "execution_count": 61,
   "id": "a13218cc",
   "metadata": {},
   "outputs": [
    {
     "name": "stdout",
     "output_type": "stream",
     "text": [
      "     Hysteresis  TimeToTrigger  num_HOs  num_HFJs\n",
      "0           0.0            0.0       11         6\n",
      "1           0.0           40.0       12         7\n",
      "2           0.0           64.0       12         3\n",
      "3           0.0           80.0       11         6\n",
      "4           0.0          100.0       12         3\n",
      "..          ...            ...      ...       ...\n",
      "171         3.0          160.0       10         6\n",
      "172         3.0          256.0       11         3\n",
      "173         3.0          320.0       10         7\n",
      "174         3.0          480.0       10         7\n",
      "175         3.0          512.0       11         4\n",
      "\n",
      "[176 rows x 4 columns]\n"
     ]
    }
   ],
   "source": [
    "def get_average_throughput(result_rngrun1):\n",
    "    if result_rngrun1['output']['stderr'] != \"\":\n",
    "        num_HOs = -1\n",
    "        num_RLFs = -1\n",
    "        num_HFMRs = -1\n",
    "        num_HFNPs = -1\n",
    "        num_HFJs = -1\n",
    "        num_HFLs = -1\n",
    "    else:\n",
    "        split_result_rngrun1 = result_rngrun1['output']['stdout'].split(\"\\n\")\n",
    "        num_HOs = 0\n",
    "        num_RLFs = 0\n",
    "        num_HFMRs = 0\n",
    "        num_HFNPs = 0\n",
    "        num_HFJs = 0\n",
    "        num_HFLs = 0\n",
    "        for line in split_result_rngrun1:\n",
    "            event = line.split(\":\",1)[0]\n",
    "            if event == \"Handover_start\":\n",
    "                num_HOs += 1\n",
    "            elif event == \"Handover_Failure_NoPreamble\":\n",
    "                num_HFNPs += 1\n",
    "            elif event == \"Handover_Failure_JoiningTimeout\":\n",
    "                num_HFJs += 1\n",
    "            elif event == \"Handover_Failure_MaxRach\":\n",
    "                num_HFMRs += 1\n",
    "            elif event == \"Handover_Failure_LeavingTimeout\":\n",
    "                num_HFLs += 1\n",
    "            elif event == \"Radio_link_failure_detected\":\n",
    "                num_RLFs += 1\n",
    "    return [num_HOs, num_HFJs]\n",
    "\n",
    "#[num_HOs, num_RLFs, num_HFNPs, num_HFJs, num_HFMRs, num_HFLs]\n",
    "# the result of generate dataframe\n",
    "results_rngrun1 = campaign.get_results_as_dataframe(get_average_throughput, \n",
    "                                            ['num_HOs','num_HFJs'], \n",
    "                                            params = param_combination1, drop_constant_columns=True)\n",
    "print(results_rngrun1)"
   ]
  },
  {
   "cell_type": "markdown",
   "id": "acbaa4e6",
   "metadata": {},
   "source": [
    "# RngRun 2"
   ]
  },
  {
   "cell_type": "code",
   "execution_count": 62,
   "id": "3f8f6d77",
   "metadata": {},
   "outputs": [],
   "source": [
    "campaign_dir2 = 'rngrun2/rngrun2'\n",
    "campaign = sem.CampaignManager.load(campaign_dir2, check_repo=False)"
   ]
  },
  {
   "cell_type": "code",
   "execution_count": 63,
   "id": "364a006f",
   "metadata": {},
   "outputs": [],
   "source": [
    "import numpy as np\n",
    "param_combination2 = {'simTime':5000, \n",
    "                     'nBlocks': 4, #list([1,2,3,4,5,6,7,8,9,10]),#round(4*nBlocks*0.1)\n",
    "                     'nMacroEnbSites': 1, #list([1,2,3,4,5,6,7,8,9,10]),\n",
    "                     'nMacroEnbSitesX': 1,\n",
    "                     'macroUeDensity': 0.00001,#1000000 [p * 0.5 for p in range(0.0001, 0.01)]\n",
    "                     'homeEnbDeploymentRatio': 1.0,\n",
    "                     'homeEnbActivationRatio': 1.0,\n",
    "                     'homeUesHomeEnbRatio': 1.0,\n",
    "                     'outdoorUeMinSpeed': 1.0,#[j * 2.0 for j in range(2.0, 10.0)]\n",
    "                     'outdoorUeMaxSpeed': 1.0,\n",
    "                     'handoverAlgorithm': 'A3',\n",
    "                     'Hysteresis': [j * 1.0 for j in np.arange(0.0, 3.2, 0.2)],\n",
    "                     'TimeToTrigger':  list([0.0, 40.0, 64.0, 80.0, 100.0, 128.0, 160.0, 256.0, 320.0, 480.0, 512.0]),\n",
    "                     'SrsPeriodicity': 80,\n",
    "                     'generateRem': 0,\n",
    "                     'RngRun': [2]\n",
    "                    }"
   ]
  },
  {
   "cell_type": "code",
   "execution_count": 64,
   "id": "8cdfb8ea",
   "metadata": {},
   "outputs": [
    {
     "name": "stdout",
     "output_type": "stream",
     "text": [
      "     Hysteresis  TimeToTrigger  num_HOs  num_HFJs\n",
      "0           0.0            0.0        7         4\n",
      "1           0.0           40.0        7         7\n",
      "2           0.0           64.0        7         4\n",
      "3           0.0           80.0        7         4\n",
      "4           0.0          100.0        7         4\n",
      "..          ...            ...      ...       ...\n",
      "171         3.0          160.0        4         1\n",
      "172         3.0          256.0        4         1\n",
      "173         3.0          320.0        4         2\n",
      "174         3.0          480.0        4         2\n",
      "175         3.0          512.0        4         3\n",
      "\n",
      "[176 rows x 4 columns]\n"
     ]
    }
   ],
   "source": [
    "def get_average_throughput(results_rngrun2):\n",
    "    if results_rngrun2['output']['stderr'] != \"\":\n",
    "        num_HOs = -1\n",
    "        num_RLFs = -1\n",
    "        num_HFMRs = -1\n",
    "        num_HFNPs = -1\n",
    "        num_HFJs = -1\n",
    "        num_HFLs = -1\n",
    "    else:\n",
    "        split_results_rngrun2 = results_rngrun2['output']['stdout'].split(\"\\n\")\n",
    "        num_HOs = 0\n",
    "        num_RLFs = 0\n",
    "        num_HFMRs = 0\n",
    "        num_HFNPs = 0\n",
    "        num_HFJs = 0\n",
    "        num_HFLs = 0\n",
    "        for line in split_results_rngrun2:\n",
    "            event = line.split(\":\",1)[0]\n",
    "            if event == \"Handover_start\":\n",
    "                num_HOs += 1\n",
    "            elif event == \"Handover_Failure_NoPreamble\":\n",
    "                num_HFNPs += 1\n",
    "            elif event == \"Handover_Failure_JoiningTimeout\":\n",
    "                num_HFJs += 1\n",
    "            elif event == \"Handover_Failure_MaxRach\":\n",
    "                num_HFMRs += 1\n",
    "            elif event == \"Handover_Failure_LeavingTimeout\":\n",
    "                num_HFLs += 1\n",
    "            elif event == \"Radio_link_failure_detected\":\n",
    "                num_RLFs += 1\n",
    "    return [num_HOs, num_HFJs]\n",
    "\n",
    "#[num_HOs, num_RLFs, num_HFNPs, num_HFJs, num_HFMRs, num_HFLs]\n",
    "# the result of generate dataframe\n",
    "results_rngrun2 = campaign.get_results_as_dataframe(get_average_throughput, \n",
    "                                            ['num_HOs','num_HFJs'], \n",
    "                                            params = param_combination2, drop_constant_columns=True)\n",
    "print(results_rngrun2)"
   ]
  },
  {
   "cell_type": "markdown",
   "id": "53baf606",
   "metadata": {},
   "source": [
    "# RngRun 3"
   ]
  },
  {
   "cell_type": "code",
   "execution_count": 67,
   "id": "b6a4e58e",
   "metadata": {},
   "outputs": [],
   "source": [
    "campaign_dir3 = 'rngrun3/rngrun3'\n",
    "campaign = sem.CampaignManager.load(campaign_dir3, check_repo=False)"
   ]
  },
  {
   "cell_type": "code",
   "execution_count": 68,
   "id": "550dc546",
   "metadata": {},
   "outputs": [],
   "source": [
    "import numpy as np\n",
    "param_combination3 = {'simTime':5000, \n",
    "                     'nBlocks': 4, #list([1,2,3,4,5,6,7,8,9,10]),#round(4*nBlocks*0.1)\n",
    "                     'nMacroEnbSites': 1, #list([1,2,3,4,5,6,7,8,9,10]),\n",
    "                     'nMacroEnbSitesX': 1,\n",
    "                     'macroUeDensity': 0.00001,#1000000 [p * 0.5 for p in range(0.0001, 0.01)]\n",
    "                     'homeEnbDeploymentRatio': 1.0,\n",
    "                     'homeEnbActivationRatio': 1.0,\n",
    "                     'homeUesHomeEnbRatio': 1.0,\n",
    "                     'outdoorUeMinSpeed': 1.0,#[j * 2.0 for j in range(2.0, 10.0)]\n",
    "                     'outdoorUeMaxSpeed': 1.0,\n",
    "                     'handoverAlgorithm': 'A3',\n",
    "                     'Hysteresis': [j * 1.0 for j in np.arange(0.0, 3.2, 0.2)],\n",
    "                     'TimeToTrigger':  list([0.0, 40.0, 64.0, 80.0, 100.0, 128.0, 160.0, 256.0, 320.0, 480.0, 512.0]),\n",
    "                     'SrsPeriodicity': 80,\n",
    "                     'generateRem': 0,\n",
    "                     'RngRun': [3]\n",
    "                    }"
   ]
  },
  {
   "cell_type": "code",
   "execution_count": 69,
   "id": "321bc8f9",
   "metadata": {
    "scrolled": false
   },
   "outputs": [
    {
     "name": "stdout",
     "output_type": "stream",
     "text": [
      "     Hysteresis  TimeToTrigger  num_HOs  num_HFJs\n",
      "0           0.0            0.0       23         3\n",
      "1           0.0           40.0       23         5\n",
      "2           0.0           64.0       23         4\n",
      "3           0.0           80.0       23         3\n",
      "4           0.0          100.0       23         3\n",
      "..          ...            ...      ...       ...\n",
      "171         3.0          160.0       19         4\n",
      "172         3.0          256.0       19         4\n",
      "173         3.0          320.0       19         4\n",
      "174         3.0          480.0       19         5\n",
      "175         3.0          512.0       19         4\n",
      "\n",
      "[176 rows x 4 columns]\n"
     ]
    }
   ],
   "source": [
    "def get_average_throughput(results_rngrun3):\n",
    "    if results_rngrun3['output']['stderr'] != \"\":\n",
    "        num_HOs = -1\n",
    "        num_RLFs = -1\n",
    "        num_HFMRs = -1\n",
    "        num_HFNPs = -1\n",
    "        num_HFJs = -1\n",
    "        num_HFLs = -1\n",
    "    else:\n",
    "        split_results_rngrun3 = results_rngrun3['output']['stdout'].split(\"\\n\")\n",
    "        num_HOs = 0\n",
    "        num_RLFs = 0\n",
    "        num_HFMRs = 0\n",
    "        num_HFNPs = 0\n",
    "        num_HFJs = 0\n",
    "        num_HFLs = 0\n",
    "        for line in split_results_rngrun3:\n",
    "            event = line.split(\":\",1)[0]\n",
    "            if event == \"Handover_start\":\n",
    "                num_HOs += 1\n",
    "            elif event == \"Handover_Failure_NoPreamble\":\n",
    "                num_HFNPs += 1\n",
    "            elif event == \"Handover_Failure_JoiningTimeout\":\n",
    "                num_HFJs += 1\n",
    "            elif event == \"Handover_Failure_MaxRach\":\n",
    "                num_HFMRs += 1\n",
    "            elif event == \"Handover_Failure_LeavingTimeout\":\n",
    "                num_HFLs += 1\n",
    "            elif event == \"Radio_link_failure_detected\":\n",
    "                num_RLFs += 1\n",
    "    return [num_HOs, num_HFJs]\n",
    "\n",
    "# the result of generate dataframe\n",
    "results_rngrun3 = campaign.get_results_as_dataframe(get_average_throughput, \n",
    "                                            ['num_HOs', 'num_HFJs'], \n",
    "                                            params = param_combination3, drop_constant_columns=True)\n",
    "print(results_rngrun3)"
   ]
  },
  {
   "cell_type": "markdown",
   "id": "bf0b3d3a",
   "metadata": {},
   "source": [
    "# RngRun 4"
   ]
  },
  {
   "cell_type": "code",
   "execution_count": 72,
   "id": "5c3b6c44",
   "metadata": {
    "scrolled": true
   },
   "outputs": [],
   "source": [
    "campaign_dir4 = 'rngrun4/rngrun4'\n",
    "campaign = sem.CampaignManager.load(campaign_dir4, check_repo=False)"
   ]
  },
  {
   "cell_type": "code",
   "execution_count": 73,
   "id": "ff6f3246",
   "metadata": {},
   "outputs": [],
   "source": [
    "import numpy as np\n",
    "param_combination4 = {'simTime':5000, \n",
    "                     'nBlocks': 4, #list([1,2,3,4,5,6,7,8,9,10]),#round(4*nBlocks*0.1)\n",
    "                     'nMacroEnbSites': 1, #list([1,2,3,4,5,6,7,8,9,10]),\n",
    "                     'nMacroEnbSitesX': 1,\n",
    "                     'macroUeDensity': 0.00001,#1000000 [p * 0.5 for p in range(0.0001, 0.01)]\n",
    "                     'homeEnbDeploymentRatio': 1.0,\n",
    "                     'homeEnbActivationRatio': 1.0,\n",
    "                     'homeUesHomeEnbRatio': 1.0,\n",
    "                     'outdoorUeMinSpeed': 1.0,#[j * 2.0 for j in range(2.0, 10.0)]\n",
    "                     'outdoorUeMaxSpeed': 1.0,\n",
    "                     'handoverAlgorithm': 'A3',\n",
    "                     'Hysteresis': [j * 1.0 for j in np.arange(0.0, 3.2, 0.2)],\n",
    "                     'TimeToTrigger':  list([0.0, 40.0, 64.0, 80.0, 100.0, 128.0, 160.0, 256.0, 320.0, 480.0, 512.0]),\n",
    "                     'SrsPeriodicity': 80,\n",
    "                     'generateRem': 0,\n",
    "                     'RngRun': [4]\n",
    "                    }"
   ]
  },
  {
   "cell_type": "code",
   "execution_count": 74,
   "id": "a4fa72c7",
   "metadata": {},
   "outputs": [
    {
     "name": "stdout",
     "output_type": "stream",
     "text": [
      "     Hysteresis  TimeToTrigger  num_HOs  num_HFJs\n",
      "0           0.0            0.0       10         7\n",
      "1           0.0           40.0       10         3\n",
      "2           0.0           64.0       10         2\n",
      "3           0.0           80.0       10         7\n",
      "4           0.0          100.0       10         2\n",
      "..          ...            ...      ...       ...\n",
      "171         3.0          160.0        8         4\n",
      "172         3.0          256.0        8         3\n",
      "173         3.0          320.0        8         4\n",
      "174         3.0          480.0        8         4\n",
      "175         3.0          512.0        8         4\n",
      "\n",
      "[176 rows x 4 columns]\n"
     ]
    }
   ],
   "source": [
    "def get_average_throughput(results_rngrun4):\n",
    "    if results_rngrun4['output']['stderr'] != \"\":\n",
    "        num_HOs = -1\n",
    "        num_RLFs = -1\n",
    "        num_HFMRs = -1\n",
    "        num_HFNPs = -1\n",
    "        num_HFJs = -1\n",
    "        num_HFLs = -1\n",
    "    else:\n",
    "        split_results_rngrun4 = results_rngrun4['output']['stdout'].split(\"\\n\")\n",
    "        num_HOs = 0\n",
    "        num_RLFs = 0\n",
    "        num_HFMRs = 0\n",
    "        num_HFNPs = 0\n",
    "        num_HFJs = 0\n",
    "        num_HFLs = 0\n",
    "        for line in split_results_rngrun4:\n",
    "            event = line.split(\":\",1)[0]\n",
    "            if event == \"Handover_start\":\n",
    "                num_HOs += 1\n",
    "            elif event == \"Handover_Failure_NoPreamble\":\n",
    "                num_HFNPs += 1\n",
    "            elif event == \"Handover_Failure_JoiningTimeout\":\n",
    "                num_HFJs += 1\n",
    "            elif event == \"Handover_Failure_MaxRach\":\n",
    "                num_HFMRs += 1\n",
    "            elif event == \"Handover_Failure_LeavingTimeout\":\n",
    "                num_HFLs += 1\n",
    "            elif event == \"Radio_link_failure_detected\":\n",
    "                num_RLFs += 1\n",
    "    return [num_HOs, num_HFJs]\n",
    "\n",
    "# the result of generate dataframe\n",
    "results_rngrun4 = campaign.get_results_as_dataframe(get_average_throughput, \n",
    "                                            ['num_HOs','num_HFJs'], \n",
    "                                            params = param_combination4, drop_constant_columns=True)\n",
    "print(results_rngrun4)"
   ]
  },
  {
   "cell_type": "markdown",
   "id": "f80aa6b1",
   "metadata": {},
   "source": [
    "# RngRun 5"
   ]
  },
  {
   "cell_type": "code",
   "execution_count": 77,
   "id": "13cfea28",
   "metadata": {},
   "outputs": [],
   "source": [
    "campaign_dir5 = 'rngrun5/rngrun5'\n",
    "campaign = sem.CampaignManager.load(campaign_dir5, check_repo=False)"
   ]
  },
  {
   "cell_type": "code",
   "execution_count": 78,
   "id": "76ed8238",
   "metadata": {},
   "outputs": [],
   "source": [
    "import numpy as np\n",
    "param_combination5 = {'simTime':5000, \n",
    "                     'nBlocks': 4, #list([1,2,3,4,5,6,7,8,9,10]),#round(4*nBlocks*0.1)\n",
    "                     'nMacroEnbSites': 1, #list([1,2,3,4,5,6,7,8,9,10]),\n",
    "                     'nMacroEnbSitesX': 1,\n",
    "                     'macroUeDensity': 0.00001,#1000000 [p * 0.5 for p in range(0.0001, 0.01)]\n",
    "                     'homeEnbDeploymentRatio': 1.0,\n",
    "                     'homeEnbActivationRatio': 1.0,\n",
    "                     'homeUesHomeEnbRatio': 1.0,\n",
    "                     'outdoorUeMinSpeed': 1.0,#[j * 2.0 for j in range(2.0, 10.0)]\n",
    "                     'outdoorUeMaxSpeed': 1.0,\n",
    "                     'handoverAlgorithm': 'A3',\n",
    "                     'Hysteresis': [j * 1.0 for j in np.arange(0.0, 3.2, 0.2)],\n",
    "                     'TimeToTrigger':  list([0.0, 40.0, 64.0, 80.0, 100.0, 128.0, 160.0, 256.0, 320.0, 480.0, 512.0]),\n",
    "                     'SrsPeriodicity': 80,\n",
    "                     'generateRem': 0,\n",
    "                     'RngRun': [5]\n",
    "                    }"
   ]
  },
  {
   "cell_type": "code",
   "execution_count": 79,
   "id": "1788639a",
   "metadata": {},
   "outputs": [
    {
     "name": "stdout",
     "output_type": "stream",
     "text": [
      "     Hysteresis  TimeToTrigger  num_HOs  num_HFJs\n",
      "0           0.0            0.0       32         9\n",
      "1           0.0           40.0       32         6\n",
      "2           0.0           64.0       32         5\n",
      "3           0.0           80.0       32         8\n",
      "4           0.0          100.0       32         5\n",
      "..          ...            ...      ...       ...\n",
      "171         3.0          160.0       24         9\n",
      "172         3.0          256.0       24         9\n",
      "173         3.0          320.0       24         9\n",
      "174         3.0          480.0       24        10\n",
      "175         3.0          512.0       24        10\n",
      "\n",
      "[176 rows x 4 columns]\n"
     ]
    }
   ],
   "source": [
    "def get_average_throughput(results_rngrun5):\n",
    "    if results_rngrun5['output']['stderr'] != \"\":\n",
    "        num_HOs = -1\n",
    "        num_RLFs = -1\n",
    "        num_HFMRs = -1\n",
    "        num_HFNPs = -1\n",
    "        num_HFJs = -1\n",
    "        num_HFLs = -1\n",
    "    else:\n",
    "        split_results_rngrun5 = results_rngrun5['output']['stdout'].split(\"\\n\")\n",
    "        num_HOs = 0\n",
    "        num_RLFs = 0\n",
    "        num_HFMRs = 0\n",
    "        num_HFNPs = 0\n",
    "        num_HFJs = 0\n",
    "        num_HFLs = 0\n",
    "        for line in split_results_rngrun5:\n",
    "            event = line.split(\":\",1)[0]\n",
    "            if event == \"Handover_start\":\n",
    "                num_HOs += 1\n",
    "            elif event == \"Handover_Failure_NoPreamble\":\n",
    "                num_HFNPs += 1\n",
    "            elif event == \"Handover_Failure_JoiningTimeout\":\n",
    "                num_HFJs += 1\n",
    "            elif event == \"Handover_Failure_MaxRach\":\n",
    "                num_HFMRs += 1\n",
    "            elif event == \"Handover_Failure_LeavingTimeout\":\n",
    "                num_HFLs += 1\n",
    "            elif event == \"Radio_link_failure_detected\":\n",
    "                num_RLFs += 1\n",
    "    return [num_HOs, num_HFJs]\n",
    "\n",
    "# the result of generate dataframe\n",
    "results_rngrun5 = campaign.get_results_as_dataframe(get_average_throughput, \n",
    "                                            ['num_HOs','num_HFJs'], \n",
    "                                            params = param_combination5, drop_constant_columns=True)\n",
    "print(results_rngrun5)"
   ]
  },
  {
   "cell_type": "markdown",
   "id": "55def39b",
   "metadata": {},
   "source": [
    "# RngRun6"
   ]
  },
  {
   "cell_type": "code",
   "execution_count": 80,
   "id": "a016b9c3",
   "metadata": {},
   "outputs": [],
   "source": [
    "campaign_dir6 = 'rngrun6/rngrun6'\n",
    "campaign = sem.CampaignManager.load(campaign_dir6, check_repo=False)"
   ]
  },
  {
   "cell_type": "code",
   "execution_count": 81,
   "id": "7dd756fa",
   "metadata": {},
   "outputs": [],
   "source": [
    "import numpy as np\n",
    "param_combination6 = {'simTime':5000, \n",
    "                     'nBlocks': 4, #list([1,2,3,4,5,6,7,8,9,10]),#round(4*nBlocks*0.1)\n",
    "                     'nMacroEnbSites': 1, #list([1,2,3,4,5,6,7,8,9,10]),\n",
    "                     'nMacroEnbSitesX': 1,\n",
    "                     'macroUeDensity': 0.00001,#1000000 [p * 0.5 for p in range(0.0001, 0.01)]\n",
    "                     'homeEnbDeploymentRatio': 1.0,\n",
    "                     'homeEnbActivationRatio': 1.0,\n",
    "                     'homeUesHomeEnbRatio': 1.0,\n",
    "                     'outdoorUeMinSpeed': 1.0,#[j * 2.0 for j in range(2.0, 10.0)]\n",
    "                     'outdoorUeMaxSpeed': 1.0,\n",
    "                     'handoverAlgorithm': 'A3',\n",
    "                     'Hysteresis': [j * 1.0 for j in np.arange(0.0, 3.2, 0.2)],\n",
    "                     'TimeToTrigger':  list([0.0, 40.0, 64.0, 80.0, 100.0, 128.0, 160.0, 256.0, 320.0, 480.0, 512.0]),\n",
    "                     'SrsPeriodicity': 80,\n",
    "                     'generateRem': 0,\n",
    "                     'RngRun': [6]\n",
    "                    }"
   ]
  },
  {
   "cell_type": "code",
   "execution_count": 82,
   "id": "c1ceff39",
   "metadata": {
    "scrolled": true
   },
   "outputs": [
    {
     "name": "stdout",
     "output_type": "stream",
     "text": [
      "     Hysteresis  TimeToTrigger  num_HOs  num_HFJs\n",
      "0           0.0            0.0       10         5\n",
      "1           0.0           40.0       10         6\n",
      "2           0.0           64.0       10         2\n",
      "3           0.0           80.0       10         5\n",
      "4           0.0          100.0       10         3\n",
      "..          ...            ...      ...       ...\n",
      "171         3.0          160.0        7         6\n",
      "172         3.0          256.0        6         1\n",
      "173         3.0          320.0        6         4\n",
      "174         3.0          480.0        6         5\n",
      "175         3.0          512.0        6         1\n",
      "\n",
      "[176 rows x 4 columns]\n"
     ]
    }
   ],
   "source": [
    "def get_average_throughput(results_rngrun6):\n",
    "    if results_rngrun6['output']['stderr'] != \"\":\n",
    "        num_HOs = -1\n",
    "        num_RLFs = -1\n",
    "        num_HFMRs = -1\n",
    "        num_HFNPs = -1\n",
    "        num_HFJs = -1\n",
    "        num_HFLs = -1\n",
    "    else:\n",
    "        split_results_rngrun6 = results_rngrun6['output']['stdout'].split(\"\\n\")\n",
    "        num_HOs = 0\n",
    "        num_RLFs = 0\n",
    "        num_HFMRs = 0\n",
    "        num_HFNPs = 0\n",
    "        num_HFJs = 0\n",
    "        num_HFLs = 0\n",
    "        for line in split_results_rngrun6:\n",
    "            event = line.split(\":\",1)[0]\n",
    "            if event == \"Handover_start\":\n",
    "                num_HOs += 1\n",
    "            elif event == \"Handover_Failure_NoPreamble\":\n",
    "                num_HFNPs += 1\n",
    "            elif event == \"Handover_Failure_JoiningTimeout\":\n",
    "                num_HFJs += 1\n",
    "            elif event == \"Handover_Failure_MaxRach\":\n",
    "                num_HFMRs += 1\n",
    "            elif event == \"Handover_Failure_LeavingTimeout\":\n",
    "                num_HFLs += 1\n",
    "            elif event == \"Radio_link_failure_detected\":\n",
    "                num_RLFs += 1\n",
    "    return [num_HOs, num_HFJs]\n",
    "\n",
    "# the result of generate dataframe\n",
    "results_rngrun6 = campaign.get_results_as_dataframe(get_average_throughput, \n",
    "                                            ['num_HOs', 'num_HFJs'], \n",
    "                                            params = param_combination6, drop_constant_columns=True)\n",
    "print(results_rngrun6)"
   ]
  },
  {
   "cell_type": "markdown",
   "id": "5966537f",
   "metadata": {},
   "source": [
    "# RngRun7"
   ]
  },
  {
   "cell_type": "code",
   "execution_count": 83,
   "id": "c857928b",
   "metadata": {},
   "outputs": [],
   "source": [
    "campaign_dir7 = 'rngrun7/rngrun7'\n",
    "campaign = sem.CampaignManager.load(campaign_dir7, check_repo=False)"
   ]
  },
  {
   "cell_type": "code",
   "execution_count": 84,
   "id": "6cbfbbef",
   "metadata": {},
   "outputs": [],
   "source": [
    "import numpy as np\n",
    "param_combination7 = {'simTime':5000, \n",
    "                     'nBlocks': 4, #list([1,2,3,4,5,6,7,8,9,10]),#round(4*nBlocks*0.1)\n",
    "                     'nMacroEnbSites': 1, #list([1,2,3,4,5,6,7,8,9,10]),\n",
    "                     'nMacroEnbSitesX': 1,\n",
    "                     'macroUeDensity': 0.00001,#1000000 [p * 0.5 for p in range(0.0001, 0.01)]\n",
    "                     'homeEnbDeploymentRatio': 1.0,\n",
    "                     'homeEnbActivationRatio': 1.0,\n",
    "                     'homeUesHomeEnbRatio': 1.0,\n",
    "                     'outdoorUeMinSpeed': 1.0,#[j * 2.0 for j in range(2.0, 10.0)]\n",
    "                     'outdoorUeMaxSpeed': 1.0,\n",
    "                     'handoverAlgorithm': 'A3',\n",
    "                     'Hysteresis': [j * 1.0 for j in np.arange(0.0, 3.2, 0.2)],\n",
    "                     'TimeToTrigger':  list([0.0, 40.0, 64.0, 80.0, 100.0, 128.0, 160.0, 256.0, 320.0, 480.0, 512.0]),\n",
    "                     'SrsPeriodicity': 80,\n",
    "                     'generateRem': 0,\n",
    "                     'RngRun': [7]\n",
    "                    }"
   ]
  },
  {
   "cell_type": "code",
   "execution_count": 85,
   "id": "6be27dde",
   "metadata": {},
   "outputs": [
    {
     "name": "stdout",
     "output_type": "stream",
     "text": [
      "     Hysteresis  TimeToTrigger  num_HOs  num_HFJs\n",
      "0           0.0            0.0       23         9\n",
      "1           0.0           40.0       23         8\n",
      "2           0.0           64.0       23         6\n",
      "3           0.0           80.0       23         8\n",
      "4           0.0          100.0       23         8\n",
      "..          ...            ...      ...       ...\n",
      "171         3.0          160.0       22         9\n",
      "172         3.0          256.0       22        11\n",
      "173         3.0          320.0       22        11\n",
      "174         3.0          480.0       22        10\n",
      "175         3.0          512.0       22        11\n",
      "\n",
      "[176 rows x 4 columns]\n"
     ]
    }
   ],
   "source": [
    "def get_average_throughput(results_rngrun7):\n",
    "    if results_rngrun7['output']['stderr'] != \"\":\n",
    "        num_HOs = -1\n",
    "        num_RLFs = -1\n",
    "        num_HFMRs = -1\n",
    "        num_HFNPs = -1\n",
    "        num_HFJs = -1\n",
    "        num_HFLs = -1\n",
    "    else:\n",
    "        split_results_rngrun7 = results_rngrun7['output']['stdout'].split(\"\\n\")\n",
    "        num_HOs = 0\n",
    "        num_RLFs = 0\n",
    "        num_HFMRs = 0\n",
    "        num_HFNPs = 0\n",
    "        num_HFJs = 0\n",
    "        num_HFLs = 0\n",
    "        for line in split_results_rngrun7:\n",
    "            event = line.split(\":\",1)[0]\n",
    "            if event == \"Handover_start\":\n",
    "                num_HOs += 1\n",
    "            elif event == \"Handover_Failure_NoPreamble\":\n",
    "                num_HFNPs += 1\n",
    "            elif event == \"Handover_Failure_JoiningTimeout\":\n",
    "                num_HFJs += 1\n",
    "            elif event == \"Handover_Failure_MaxRach\":\n",
    "                num_HFMRs += 1\n",
    "            elif event == \"Handover_Failure_LeavingTimeout\":\n",
    "                num_HFLs += 1\n",
    "            elif event == \"Radio_link_failure_detected\":\n",
    "                num_RLFs += 1\n",
    "    return [num_HOs, num_HFJs]\n",
    "\n",
    "# the result of generate dataframe\n",
    "results_rngrun7 = campaign.get_results_as_dataframe(get_average_throughput, \n",
    "                                            ['num_HOs','num_HFJs'], \n",
    "                                            params = param_combination7, drop_constant_columns=True)\n",
    "print(results_rngrun7)"
   ]
  },
  {
   "cell_type": "markdown",
   "id": "39a8555b",
   "metadata": {},
   "source": [
    "# RngRun9"
   ]
  },
  {
   "cell_type": "code",
   "execution_count": 86,
   "id": "fb90e5ed",
   "metadata": {},
   "outputs": [],
   "source": [
    "campaign_dir9 = 'rngrun9/rngrun9'\n",
    "campaign = sem.CampaignManager.load(campaign_dir9, check_repo=False)"
   ]
  },
  {
   "cell_type": "code",
   "execution_count": 87,
   "id": "2b3af109",
   "metadata": {},
   "outputs": [],
   "source": [
    "import numpy as np\n",
    "param_combination9 = {'simTime':5000, \n",
    "                     'nBlocks': 4, #list([1,2,3,4,5,6,7,8,9,10]),#round(4*nBlocks*0.1)\n",
    "                     'nMacroEnbSites': 1, #list([1,2,3,4,5,6,7,8,9,10]),\n",
    "                     'nMacroEnbSitesX': 1,\n",
    "                     'macroUeDensity': 0.00001,#1000000 [p * 0.5 for p in range(0.0001, 0.01)]\n",
    "                     'homeEnbDeploymentRatio': 1.0,\n",
    "                     'homeEnbActivationRatio': 1.0,\n",
    "                     'homeUesHomeEnbRatio': 1.0,\n",
    "                     'outdoorUeMinSpeed': 1.0,#[j * 2.0 for j in range(2.0, 10.0)]\n",
    "                     'outdoorUeMaxSpeed': 1.0,\n",
    "                     'handoverAlgorithm': 'A3',\n",
    "                     'Hysteresis': [j * 1.0 for j in np.arange(0.0, 3.2, 0.2)],\n",
    "                     'TimeToTrigger':  list([0.0, 40.0, 64.0, 80.0, 100.0, 128.0, 160.0, 256.0, 320.0, 480.0, 512.0]),\n",
    "                     'SrsPeriodicity': 80,\n",
    "                     'generateRem': 0,\n",
    "                     'RngRun': [9]\n",
    "                    }"
   ]
  },
  {
   "cell_type": "code",
   "execution_count": 88,
   "id": "4a84a62a",
   "metadata": {},
   "outputs": [
    {
     "name": "stdout",
     "output_type": "stream",
     "text": [
      "     Hysteresis  TimeToTrigger  num_HOs  num_HFJs\n",
      "0           0.0            0.0        9         5\n",
      "1           0.0           40.0        9         6\n",
      "2           0.0           64.0        9         3\n",
      "3           0.0           80.0        9         5\n",
      "4           0.0          100.0        9         3\n",
      "..          ...            ...      ...       ...\n",
      "171         3.0          160.0        8         4\n",
      "172         3.0          256.0        8         2\n",
      "173         3.0          320.0        8         5\n",
      "174         3.0          480.0        8         4\n",
      "175         3.0          512.0        8         3\n",
      "\n",
      "[176 rows x 4 columns]\n"
     ]
    }
   ],
   "source": [
    "def get_average_throughput(results_rngrun9):\n",
    "    if results_rngrun9['output']['stderr'] != \"\":\n",
    "        num_HOs = -1\n",
    "        num_RLFs = -1\n",
    "        num_HFMRs = -1\n",
    "        num_HFNPs = -1\n",
    "        num_HFJs = -1\n",
    "        num_HFLs = -1\n",
    "    else:\n",
    "        split_results_rngrun9 = results_rngrun9['output']['stdout'].split(\"\\n\")\n",
    "        num_HOs = 0\n",
    "        num_RLFs = 0\n",
    "        num_HFMRs = 0\n",
    "        num_HFNPs = 0\n",
    "        num_HFJs = 0\n",
    "        num_HFLs = 0\n",
    "        for line in split_results_rngrun9:\n",
    "            event = line.split(\":\",1)[0]\n",
    "            if event == \"Handover_start\":\n",
    "                num_HOs += 1\n",
    "            elif event == \"Handover_Failure_NoPreamble\":\n",
    "                num_HFNPs += 1\n",
    "            elif event == \"Handover_Failure_JoiningTimeout\":\n",
    "                num_HFJs += 1\n",
    "            elif event == \"Handover_Failure_MaxRach\":\n",
    "                num_HFMRs += 1\n",
    "            elif event == \"Handover_Failure_LeavingTimeout\":\n",
    "                num_HFLs += 1\n",
    "            elif event == \"Radio_link_failure_detected\":\n",
    "                num_RLFs += 1\n",
    "    return [num_HOs, num_HFJs]\n",
    "\n",
    "# the result of generate dataframe\n",
    "results_rngrun9 = campaign.get_results_as_dataframe(get_average_throughput, \n",
    "                                            ['num_HOs','num_HFJs'], \n",
    "                                            params = param_combination9, drop_constant_columns=True)\n",
    "print(results_rngrun9)"
   ]
  },
  {
   "cell_type": "markdown",
   "id": "8d884163",
   "metadata": {},
   "source": [
    "# RngRun10"
   ]
  },
  {
   "cell_type": "code",
   "execution_count": 91,
   "id": "70d7fc44",
   "metadata": {},
   "outputs": [],
   "source": [
    "campaign_dir10 = 'rngrun10/rngrun10'\n",
    "campaign = sem.CampaignManager.load(campaign_dir10, check_repo=False)"
   ]
  },
  {
   "cell_type": "code",
   "execution_count": 92,
   "id": "da5094e2",
   "metadata": {},
   "outputs": [],
   "source": [
    "import numpy as np\n",
    "param_combination10 = {'simTime':5000, \n",
    "                     'nBlocks': 4, #list([1,2,3,4,5,6,7,8,9,10]),#round(4*nBlocks*0.1)\n",
    "                     'nMacroEnbSites': 1, #list([1,2,3,4,5,6,7,8,9,10]),\n",
    "                     'nMacroEnbSitesX': 1,\n",
    "                     'macroUeDensity': 0.00001,#1000000 [p * 0.5 for p in range(0.0001, 0.01)]\n",
    "                     'homeEnbDeploymentRatio': 1.0,\n",
    "                     'homeEnbActivationRatio': 1.0,\n",
    "                     'homeUesHomeEnbRatio': 1.0,\n",
    "                     'outdoorUeMinSpeed': 1.0,#[j * 2.0 for j in range(2.0, 10.0)]\n",
    "                     'outdoorUeMaxSpeed': 1.0,\n",
    "                     'handoverAlgorithm': 'A3',\n",
    "                     'Hysteresis': [j * 1.0 for j in np.arange(0.0, 3.2, 0.2)],\n",
    "                     'TimeToTrigger':  list([0.0, 40.0, 64.0, 80.0, 100.0, 128.0, 160.0, 256.0, 320.0, 480.0, 512.0]),\n",
    "                     'SrsPeriodicity': 80,\n",
    "                     'generateRem': 0,\n",
    "                     'RngRun': [10]\n",
    "                    }"
   ]
  },
  {
   "cell_type": "code",
   "execution_count": 93,
   "id": "2ceb6abc",
   "metadata": {},
   "outputs": [
    {
     "name": "stdout",
     "output_type": "stream",
     "text": [
      "     Hysteresis  TimeToTrigger  num_HOs  num_HFJs\n",
      "0           0.0            0.0       22         8\n",
      "1           0.0           40.0       22         6\n",
      "2           0.0           64.0       22         4\n",
      "3           0.0           80.0       22         8\n",
      "4           0.0          100.0       22         5\n",
      "..          ...            ...      ...       ...\n",
      "171         3.0          160.0       20         8\n",
      "172         3.0          256.0       20         7\n",
      "173         3.0          320.0       20         6\n",
      "174         3.0          480.0       20         6\n",
      "175         3.0          512.0       20         4\n",
      "\n",
      "[176 rows x 4 columns]\n"
     ]
    }
   ],
   "source": [
    "def get_average_throughput(results_rngrun10):\n",
    "    if results_rngrun10['output']['stderr'] != \"\":\n",
    "        num_HOs = -1\n",
    "        num_RLFs = -1\n",
    "        num_HFMRs = -1\n",
    "        num_HFNPs = -1\n",
    "        num_HFJs = -1\n",
    "        num_HFLs = -1\n",
    "    else:\n",
    "        split_results_rngrun10 = results_rngrun10['output']['stdout'].split(\"\\n\")\n",
    "        num_HOs = 0\n",
    "        num_RLFs = 0\n",
    "        num_HFMRs = 0\n",
    "        num_HFNPs = 0\n",
    "        num_HFJs = 0\n",
    "        num_HFLs = 0\n",
    "        for line in split_results_rngrun10:\n",
    "            event = line.split(\":\",1)[0]\n",
    "            if event == \"Handover_start\":\n",
    "                num_HOs += 1\n",
    "            elif event == \"Handover_Failure_NoPreamble\":\n",
    "                num_HFNPs += 1\n",
    "            elif event == \"Handover_Failure_JoiningTimeout\":\n",
    "                num_HFJs += 1\n",
    "            elif event == \"Handover_Failure_MaxRach\":\n",
    "                num_HFMRs += 1\n",
    "            elif event == \"Handover_Failure_LeavingTimeout\":\n",
    "                num_HFLs += 1\n",
    "            elif event == \"Radio_link_failure_detected\":\n",
    "                num_RLFs += 1\n",
    "    return [num_HOs, num_HFJs]\n",
    "\n",
    "# the result of generate dataframe\n",
    "results_rngrun10 = campaign.get_results_as_dataframe(get_average_throughput, \n",
    "                                            ['num_HOs','num_HFJs'], \n",
    "                                            params = param_combination10, drop_constant_columns=True)\n",
    "print(results_rngrun10)\n",
    "results_rngrun10.to_csv('seed10', sep='\\t')"
   ]
  },
  {
   "cell_type": "code",
   "execution_count": 34,
   "id": "d102f8d0",
   "metadata": {
    "scrolled": true
   },
   "outputs": [
    {
     "data": {
      "text/html": [
       "<div>\n",
       "<style scoped>\n",
       "    .dataframe tbody tr th:only-of-type {\n",
       "        vertical-align: middle;\n",
       "    }\n",
       "\n",
       "    .dataframe tbody tr th {\n",
       "        vertical-align: top;\n",
       "    }\n",
       "\n",
       "    .dataframe thead th {\n",
       "        text-align: right;\n",
       "    }\n",
       "</style>\n",
       "<table border=\"1\" class=\"dataframe\">\n",
       "  <thead>\n",
       "    <tr style=\"text-align: right;\">\n",
       "      <th></th>\n",
       "      <th>aaa</th>\n",
       "      <th>bbb</th>\n",
       "    </tr>\n",
       "  </thead>\n",
       "  <tbody>\n",
       "    <tr>\n",
       "      <th>0</th>\n",
       "      <td>1</td>\n",
       "      <td>100</td>\n",
       "    </tr>\n",
       "    <tr>\n",
       "      <th>1</th>\n",
       "      <td>2</td>\n",
       "      <td>200</td>\n",
       "    </tr>\n",
       "    <tr>\n",
       "      <th>2</th>\n",
       "      <td>3</td>\n",
       "      <td>300</td>\n",
       "    </tr>\n",
       "  </tbody>\n",
       "</table>\n",
       "</div>"
      ],
      "text/plain": [
       "   aaa  bbb\n",
       "0    1  100\n",
       "1    2  200\n",
       "2    3  300"
      ]
     },
     "execution_count": 34,
     "metadata": {},
     "output_type": "execute_result"
    }
   ],
   "source": [
    "import pandas as pd\n",
    "df_a = pd.DataFrame(\n",
    "    {\n",
    "        'aaa':[1,2,3],\n",
    "        'bbb':[100,200,300]\n",
    "    }\n",
    ")\n",
    "df_b = pd.DataFrame(\n",
    "    {\n",
    "        'aaa':[4,5,6],\n",
    "        'bbb':[400,500,600]\n",
    "    }\n",
    ")\n",
    "df_a\n"
   ]
  },
  {
   "cell_type": "markdown",
   "id": "4f643e24",
   "metadata": {},
   "source": [
    "# Mean"
   ]
  },
  {
   "cell_type": "code",
   "execution_count": 94,
   "id": "37d39ff2",
   "metadata": {},
   "outputs": [],
   "source": [
    "results_rngrun_ave =  (results_rngrun1 +\n",
    "                       results_rngrun2 + \n",
    "                       results_rngrun3 + \n",
    "                       results_rngrun4 + \n",
    "                       results_rngrun5 +\n",
    "                       results_rngrun6 + \n",
    "                       results_rngrun7 + \n",
    "                       results_rngrun9 + \n",
    "                       results_rngrun10)/9\n",
    "results_rngrun_ave\n",
    "results_rngrun_ave.to_csv('seed10_ave', sep='\\t')"
   ]
  },
  {
   "cell_type": "code",
   "execution_count": 95,
   "id": "85938b6c",
   "metadata": {},
   "outputs": [
    {
     "data": {
      "text/plain": [
       "<matplotlib.legend.Legend at 0x7f62e0c47f70>"
      ]
     },
     "execution_count": 95,
     "metadata": {},
     "output_type": "execute_result"
    },
    {
     "data": {
      "image/png": "[encoded data removed]",
      "text/plain": [
       "<Figure size 700x500 with 1 Axes>"
      ]
     },
     "metadata": {},
     "output_type": "display_data"
    }
   ],
   "source": [
    "results_Hys1 = results_rngrun_ave[(results_rngrun_ave['TimeToTrigger'] == 256.0)]\n",
    "plt.rcParams.update({'font.size':14})\n",
    "fig = plt.figure(figsize=(7, 5))\n",
    "ax = plt.axes()\n",
    "ax.plot(results_Hys1['Hysteresis'], results_Hys1['num_HOs'], color = 'blue')\n",
    "ax.plot(results_Hys1['Hysteresis'], results_Hys1['num_HFJs'], color = 'red')\n",
    "#ax.plot(results_Hys['Hysteresis'], results_Hys['num_RLFs'], color = 'black')\n",
    "ax.grid()\n",
    "ax.set_xlabel('Hysteresis')\n",
    "ax.set_ylabel('Number of HOs and HFJs')\n",
    "ax.set_title('TimeToTrigger = 256 ms, speed = 1 m/s')\n",
    "ax.legend(['num_HOs', 'num_HFJs','num_RLFs'])"
   ]
  },
  {
   "cell_type": "code",
   "execution_count": 96,
   "id": "00bb2d6f",
   "metadata": {},
   "outputs": [
    {
     "data": {
      "text/plain": [
       "<matplotlib.legend.Legend at 0x7f62e0b92550>"
      ]
     },
     "execution_count": 96,
     "metadata": {},
     "output_type": "execute_result"
    },
    {
     "data": {
      "image/png": "[encoded data removed]",
      "text/plain": [
       "<Figure size 700x500 with 1 Axes>"
      ]
     },
     "metadata": {},
     "output_type": "display_data"
    }
   ],
   "source": [
    "results_Hys2 = results_rngrun_ave[(results_rngrun_ave['TimeToTrigger'] == 100.0)]\n",
    "plt.rcParams.update({'font.size':14})\n",
    "fig = plt.figure(figsize=(7, 5))\n",
    "ax = plt.axes()\n",
    "ax.plot(results_Hys2['Hysteresis'], results_Hys2['num_HOs'], color = 'blue')\n",
    "ax.plot(results_Hys2['Hysteresis'], results_Hys2['num_HFJs'], color = 'red')\n",
    "#ax.plot(results_Hys['Hysteresis'], results_Hys['num_RLFs'], color = 'black')\n",
    "ax.grid()\n",
    "ax.set_xlabel('Hysteresis')\n",
    "ax.set_ylabel('Number of HOs, HFJs')\n",
    "ax.set_title('TimeToTrigger = 100 ms, speed = 1 m/s')\n",
    "ax.legend(['num_HOs', 'num_HFJs'])"
   ]
  },
  {
   "cell_type": "code",
   "execution_count": 97,
   "id": "ec8155ad",
   "metadata": {
    "scrolled": false
   },
   "outputs": [
    {
     "name": "stdout",
     "output_type": "stream",
     "text": [
      "     Hysteresis  TimeToTrigger    num_HOs  num_HFJs  HO_fail_pro\n",
      "0           0.0            0.0  16.333333  6.222222     0.380952\n",
      "1           0.0           40.0  16.444444  6.000000     0.364865\n",
      "2           0.0           64.0  16.444444  3.666667     0.222973\n",
      "3           0.0           80.0  16.333333  6.000000     0.367347\n",
      "4           0.0          100.0  16.444444  4.000000     0.243243\n",
      "..          ...            ...        ...       ...          ...\n",
      "171         3.0          160.0  13.555556  5.666667     0.418033\n",
      "172         3.0          256.0  13.555556  4.555556     0.336066\n",
      "173         3.0          320.0  13.444444  5.777778     0.429752\n",
      "174         3.0          480.0  13.444444  5.888889     0.438017\n",
      "175         3.0          512.0  13.555556  4.888889     0.360656\n",
      "\n",
      "[176 rows x 5 columns]\n"
     ]
    }
   ],
   "source": [
    "results_rngrun_ave[\"HO_fail_pro\"] = results_rngrun_ave[\"num_HFJs\"]/results_rngrun_ave[\"num_HOs\"]\n",
    "print(results_rngrun_ave)"
   ]
  },
  {
   "cell_type": "code",
   "execution_count": 98,
   "id": "422c51dc",
   "metadata": {
    "scrolled": false
   },
   "outputs": [
    {
     "data": {
      "text/plain": [
       "<matplotlib.legend.Legend at 0x7f62e0b849d0>"
      ]
     },
     "execution_count": 98,
     "metadata": {},
     "output_type": "execute_result"
    },
    {
     "data": {
      "image/png": "[encoded data removed]",
      "text/plain": [
       "<Figure size 700x500 with 1 Axes>"
      ]
     },
     "metadata": {},
     "output_type": "display_data"
    }
   ],
   "source": [
    "results_Hys_hofail1 = results_rngrun_ave[(results_rngrun_ave['TimeToTrigger'] == 256.0)]\n",
    "plt.rcParams.update({'font.size':14})\n",
    "fig = plt.figure(figsize=(7, 5))\n",
    "ax = plt.axes()\n",
    "ax.plot(results_Hys_hofail1['Hysteresis'], results_Hys_hofail1['HO_fail_pro'], color = 'red')\n",
    "ax.grid()\n",
    "ax.set_xlabel('Hysteresis')\n",
    "ax.set_ylabel('Handover failure probability')\n",
    "ax.set_title('TimeToTrigger = 256 ms, speed = 1 m/s')\n",
    "ax.legend(['ns-3'])"
   ]
  },
  {
   "cell_type": "code",
   "execution_count": 99,
   "id": "293057d3",
   "metadata": {
    "scrolled": true
   },
   "outputs": [
    {
     "data": {
      "text/plain": [
       "<matplotlib.legend.Legend at 0x7f62e0af69a0>"
      ]
     },
     "execution_count": 99,
     "metadata": {},
     "output_type": "execute_result"
    },
    {
     "data": {
      "image/png": "[encoded data removed]",
      "text/plain": [
       "<Figure size 700x500 with 1 Axes>"
      ]
     },
     "metadata": {},
     "output_type": "display_data"
    }
   ],
   "source": [
    "results_Hys_hofail2 = results_rngrun_ave[(results_rngrun_ave['TimeToTrigger'] == 100.0)]\n",
    "plt.rcParams.update({'font.size':14})\n",
    "fig = plt.figure(figsize=(7, 5))\n",
    "ax = plt.axes()\n",
    "ax.plot(results_Hys_hofail2['Hysteresis'], results_Hys_hofail2['HO_fail_pro'], color = 'red')\n",
    "ax.grid()\n",
    "ax.set_xlabel('Hysteresis')\n",
    "ax.set_ylabel('Handover failure probability')\n",
    "ax.set_title('TimeToTrigger = 100 ms, speed = 1 m/s')\n",
    "ax.legend(['ns-3'])"
   ]
  },
  {
   "cell_type": "code",
   "execution_count": null,
   "id": "f2f0681b",
   "metadata": {},
   "outputs": [],
   "source": []
  }
 ],
 "metadata": {
  "kernelspec": {
   "display_name": "Python 3 (ipykernel)",
   "language": "python",
   "name": "python3"
  },
  "language_info": {
   "codemirror_mode": {
    "name": "ipython",
    "version": 3
   },
   "file_extension": ".py",
   "mimetype": "text/x-python",
   "name": "python",
   "nbconvert_exporter": "python",
   "pygments_lexer": "ipython3",
   "version": "3.9.13"
  }
 },
 "nbformat": 4,
 "nbformat_minor": 5
}
