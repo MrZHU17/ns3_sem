{
 "cells": [
  {
   "cell_type": "markdown",
   "id": "2ce2107a",
   "metadata": {},
   "source": [
    "# Import the ns3 source script"
   ]
  },
  {
   "cell_type": "code",
   "execution_count": 14,
   "id": "03600836",
   "metadata": {
    "scrolled": true
   },
   "outputs": [
    {
     "name": "stdout",
     "output_type": "stream",
     "text": [
      "--- Campaign info ---\n",
      "script: lena_hofailure\n",
      "params: {'simTime': '50', 'MacroPower': 43.0, 'SmallPower': 20.0, 'nBlocks': '1', 'nMacroEnbSites': '1', 'macroUeDensity': '1e-05', 'homeEnbDeploymentRatio': '0.2', 'homeEnbActivationRatio': '0.5', 'homeUesHomeEnbRatio': '1', 'macroEnbDlEarfcn': '100', 'homeEnbDlEarfcn': '100', 'macroEnbBandwidth': '25', 'homeEnbBandwidth': '25', 'generateRem': 'false', 'epc': 'true', 'useUdp': 'true', 'outdoorUeSpeed': '5', 'handoverAlgorithm': 'A3', 'Hysteresis': 3.0, 'TimeToTrigger': 256.0, 'ServingCellThreshold': 20.0, 'NeighbourCellOffset': 5.0, 'SrsPeriodicity': 80.0, 'epcDl': 'true', 'epcUl': 'true', 'fadingTrace': '', 'homeEnbTxPowerDbm': '20', 'interSiteDistance': '500', 'macroEnbTxPowerDbm': '43', 'nMacroEnbSitesX': '1', 'numBearersPerUe': '1', 'remRbId': '-1', 'srsPeriodicity': '80'}\n",
      "HEAD: 80f1dc6191d4ae11b480b025d917339525a17fc4\n",
      "Runner type: <class 'sem.parallelrunner.ParallelRunner'>\n",
      "-----------\n"
     ]
    }
   ],
   "source": [
    "import sys\n",
    "sys.path.append(\"../../../../ns3_sem\")\n",
    "import sem\n",
    "import pprint\n",
    "import matplotlib.pyplot as plt\n",
    "import seaborn as sns\n",
    "import numpy\n",
    "ns_path = '../../../../../ns3-dev-hofailure_RACH'\n",
    "script = 'lena_hofailure'\n",
    "campaign_dir = 'rngrun1'\n",
    "campaign = sem.CampaignManager.new(ns_path, script, campaign_dir, overwrite=True)\n",
    "print(campaign)"
   ]
  },
  {
   "cell_type": "markdown",
   "id": "508cbffd",
   "metadata": {},
   "source": [
    "## Params"
   ]
  },
  {
   "cell_type": "code",
   "execution_count": 22,
   "id": "c3a6dbf4",
   "metadata": {
    "scrolled": false
   },
   "outputs": [],
   "source": [
    "import numpy as np\n",
    "param_combination = {'simTime':3000, \n",
    "                     'MacroPower':46,\n",
    "                     'SmallPower':24,\n",
    "                     'nBlocks': 5, #list([1,2,3,4,5,6,7,8,9,10]),#round(4*nBlocks*0.1)\n",
    "                     'nMacroEnbSites': 1, #list([1,2,3,4,5,6,7,8,9,10]),\n",
    "                     'nMacroEnbSitesX': 1,\n",
    "                     'macroUeDensity': 0.0000025,#4000x4000 [p * 0.5 for p in range(0.0001, 0.01)]\n",
    "                     'homeEnbDeploymentRatio': 1.0,\n",
    "                     'homeEnbActivationRatio': 1.0,\n",
    "                     'homeUesHomeEnbRatio': 1.0,\n",
    "                     'outdoorUeSpeed': list([1.0,5.0,10.0]),#[j * 2.0 for j in range(2.0, 10.0)]\n",
    "                     'handoverAlgorithm': 'A3',\n",
    "                     'Hysteresis': [j * 1.0 for j in np.arange(0.0, 3.2, 0.5)],\n",
    "                     'TimeToTrigger':  list([40.0, 64.0, 80.0, 100.0, 128.0, 160.0, 256.0]),\n",
    "                     'SrsPeriodicity': 80,\n",
    "                     'generateRem': 0,\n",
    "                     'RngRun': [1]\n",
    "                    }"
   ]
  },
  {
   "cell_type": "markdown",
   "id": "0fa845d8",
   "metadata": {},
   "source": [
    "# Running the simulation with the params"
   ]
  },
  {
   "cell_type": "code",
   "execution_count": 16,
   "id": "6dd2add3",
   "metadata": {
    "scrolled": false
   },
   "outputs": [
    {
     "name": "stderr",
     "output_type": "stream",
     "text": [
      "Running simulations: 100%|████████████████████████████████████████████████████████████████████████████| 147/147 [10:14:21<00:00, 250.76s/simulation]\n"
     ]
    }
   ],
   "source": [
    "campaign.run_missing_simulations(param_combination, stop_on_errors=False)"
   ]
  },
  {
   "cell_type": "markdown",
   "id": "dcbbd247",
   "metadata": {},
   "source": [
    "# Load the results"
   ]
  },
  {
   "cell_type": "code",
   "execution_count": 43,
   "id": "e8ebcc93",
   "metadata": {},
   "outputs": [],
   "source": [
    "import sys\n",
    "sys.path.append(\"../../../../../ns3_sem\")\n",
    "import sem\n",
    "import pprint\n",
    "import matplotlib.pyplot as plt\n",
    "from scipy.interpolate import interp1d\n",
    "import seaborn as sns\n",
    "import numpy\n",
    "import numpy as np"
   ]
  },
  {
   "cell_type": "code",
   "execution_count": 44,
   "id": "497ea21c",
   "metadata": {
    "scrolled": true
   },
   "outputs": [],
   "source": [
    "campaign_dir = 'rngrun1/'\n",
    "campaign = sem.CampaignManager.load(campaign_dir, check_repo=False)"
   ]
  },
  {
   "cell_type": "code",
   "execution_count": 45,
   "id": "fd1d0920",
   "metadata": {},
   "outputs": [],
   "source": [
    "param_combination = {'simTime':3000, \n",
    "                     'MacroPower':46,\n",
    "                     'SmallPower':24,\n",
    "                     'nBlocks': 5, #list([1,2,3,4,5,6,7,8,9,10]),#round(4*nBlocks*0.1)\n",
    "                     'nMacroEnbSites': 1, #list([1,2,3,4,5,6,7,8,9,10]),\n",
    "                     'nMacroEnbSitesX': 1,\n",
    "                     'macroUeDensity': 0.0000025,#4000x4000 [p * 0.5 for p in range(0.0001, 0.01)]\n",
    "                     'homeEnbDeploymentRatio': 1.0,\n",
    "                     'homeEnbActivationRatio': 1.0,\n",
    "                     'homeUesHomeEnbRatio': 1.0,\n",
    "                     'outdoorUeSpeed': list([1.0,5.0,10.0]),#[j * 2.0 for j in range(2.0, 10.0)]\n",
    "                     'handoverAlgorithm': 'A3',\n",
    "                     'Hysteresis': [j * 1.0 for j in np.arange(0.0, 3.2, 0.5)],\n",
    "                     'TimeToTrigger':  list([40.0, 64.0, 80.0, 100.0, 128.0, 160.0, 256.0]),\n",
    "                     'SrsPeriodicity': 80,\n",
    "                     'generateRem': 0,\n",
    "                     'RngRun': [1]\n",
    "                    }"
   ]
  },
  {
   "cell_type": "markdown",
   "id": "82553310",
   "metadata": {},
   "source": [
    "# Summarize the result"
   ]
  },
  {
   "cell_type": "code",
   "execution_count": 37,
   "id": "241cb924",
   "metadata": {},
   "outputs": [],
   "source": [
    "def get_average_res(result):\n",
    "    if result['output']['stderr'] != \"\":\n",
    "        num_HOs = -1\n",
    "        num_RLFs = -1\n",
    "        num_HFJs = -1\n",
    "        num_HFLs = -1\n",
    "    else:\n",
    "        split_results = result['output']['stdout'].split(\"\\n\")\n",
    "        num_HOs = 0\n",
    "        num_SMhos = 0\n",
    "        num_SMho_fail = 0\n",
    "        num_MSho_fail = 0\n",
    "        num_MShos = 0\n",
    "        num_RLFs = 0\n",
    "        num_HFJs = 0\n",
    "        num_HFLs = 0\n",
    "    \n",
    "    for line in split_results:\n",
    "        num_HOs += line.count(\"Handover_start\")\n",
    "        num_SMhos += line.count(\"Small to Macro\")\n",
    "        num_SMho_fail += line.count(\"targetCellId 1\")\n",
    "        num_MShos += line.count(\"Macro to Small\")\n",
    "        num_HFJs += line.count(\"Handover_Failure_JoiningTimeout\")\n",
    "        num_RLFs += line.count(\"Radio_link_failure_detected\")\n",
    "    \n",
    "    num_MSho_fail = num_HOs - num_SMho_fail\n",
    "    \n",
    "    return [num_HOs, num_SMhos, num_SMho_fail, \n",
    "            num_MShos, num_MSho_fail, num_RLFs, num_HFJs, num_HFLs]"
   ]
  },
  {
   "cell_type": "markdown",
   "id": "33b3df4e",
   "metadata": {},
   "source": [
    "# the result of generate dataframe"
   ]
  },
  {
   "cell_type": "code",
   "execution_count": 38,
   "id": "593c54e1",
   "metadata": {
    "scrolled": false
   },
   "outputs": [
    {
     "name": "stdout",
     "output_type": "stream",
     "text": [
      "     outdoorUeSpeed  Hysteresis  TimeToTrigger  num_HOs  num_SMhos  \\\n",
      "0               1.0         0.0           40.0        4          4   \n",
      "1               1.0         0.0           64.0        4          4   \n",
      "2               1.0         0.0           80.0        4          4   \n",
      "3               1.0         0.0          100.0        4          4   \n",
      "4               1.0         0.0          128.0        4          4   \n",
      "..              ...         ...            ...      ...        ...   \n",
      "142            10.0         3.0           80.0       39         37   \n",
      "143            10.0         3.0          100.0       39         37   \n",
      "144            10.0         3.0          128.0       39         37   \n",
      "145            10.0         3.0          160.0       39         37   \n",
      "146            10.0         3.0          256.0       39         37   \n",
      "\n",
      "     num_SMho_fail  num_MShos  num_MSho_fail  num_RLFs  num_HFJs  \n",
      "0                2          0              2         4         2  \n",
      "1                0          0              4         4         0  \n",
      "2                2          0              2         4         2  \n",
      "3                0          0              4         4         0  \n",
      "4                0          0              4         4         0  \n",
      "..             ...        ...            ...       ...       ...  \n",
      "142             16          2             23        37        17  \n",
      "143             19          2             20        37        20  \n",
      "144             19          2             20        37        20  \n",
      "145             18          2             21        37        19  \n",
      "146             19          2             20        37        20  \n",
      "\n",
      "[147 rows x 10 columns]\n"
     ]
    }
   ],
   "source": [
    "results = campaign.get_results_as_dataframe(get_average_res, \n",
    "                                            ['num_HOs', 'num_SMhos','num_SMho_fail',\n",
    "                                             'num_MShos','num_MSho_fail','num_RLFs','num_HFJs','num_HFLs'], \n",
    "                                            params = param_combination, drop_constant_columns=True)\n",
    "print(results)"
   ]
  },
  {
   "cell_type": "markdown",
   "id": "bcdee482",
   "metadata": {},
   "source": [
    "# Plot the result"
   ]
  },
  {
   "cell_type": "code",
   "execution_count": 49,
   "id": "9d48dfc1",
   "metadata": {},
   "outputs": [
    {
     "data": {
      "image/png": "[encoded data removed]",
      "text/plain": [
       "<Figure size 648x504 with 1 Axes>"
      ]
     },
     "metadata": {
      "needs_background": "light"
     },
     "output_type": "display_data"
    },
    {
     "data": {
      "text/plain": [
       "\"\\nplt.rcParams.update({'font.size':14})\\nfig = plt.figure(figsize=(9, 7))\\nax = plt.axes()\\n#ax.plot(results_Hys['Hysteresis'], results_Hys['num_HOs'], color = 'blue')\\nax.plot(results_Hys['Hysteresis'], results_Hys['num_SMhos'], color = 'blue')\\nax.plot(results_Hys['Hysteresis'], results_Hys['num_MShos'], color = 'green')\\nax.plot(results_Hys['Hysteresis'], results_Hys['num_SMho_fail'], color = 'red')\\nax.plot(results_Hys['Hysteresis'], results_Hys['num_MSho_fail'], color = 'orange')\\n\\n#ax.plot(results_Hys['Hysteresis'], results_Hys['num_RLFs'], color = 'black')\\nax.grid()\\nax.set_xlabel('Hysteresis')\\nax.set_ylabel('Number of S->M and M->S handover')\\nax.set_title('TimeToTrigger = 100 ms, speed = 5 m/s')\\nax.legend(['num_SMhos', 'num_MShos','num_SMho_fail','num_MSho_fail'])\\n\""
      ]
     },
     "execution_count": 49,
     "metadata": {},
     "output_type": "execute_result"
    }
   ],
   "source": [
    "from scipy.interpolate import interp1d\n",
    "\n",
    "results_Hys = results[(results['TimeToTrigger'] == 100.0) & (results['outdoorUeSpeed'] == 10.0)]\n",
    "\n",
    "x_data = results_Hys['Hysteresis'].to_numpy()\n",
    "y_data1 = results_Hys['num_SMhos'].to_numpy()\n",
    "y_data2 = results_Hys['num_MShos'].to_numpy()\n",
    "y_data3 = results_Hys['num_SMho_fail'].to_numpy()\n",
    "y_data4 = results_Hys['num_MSho_fail'].to_numpy()\n",
    "\n",
    "sorted_indices = np.argsort(x_data)\n",
    "x_data = x_data[sorted_indices]\n",
    "y_data1 = y_data1[sorted_indices]\n",
    "y_data2 = y_data2[sorted_indices]\n",
    "y_data3 = y_data3[sorted_indices]\n",
    "y_data4 = y_data4[sorted_indices]\n",
    "\n",
    "interp_func1 = interp1d(x_data, y_data1, kind='cubic', fill_value=\"extrapolate\")\n",
    "interp_func2 = interp1d(x_data, y_data2, kind='cubic', fill_value=\"extrapolate\")\n",
    "interp_func3 = interp1d(x_data, y_data3, kind='cubic', fill_value=\"extrapolate\")\n",
    "interp_func4 = interp1d(x_data, y_data4, kind='cubic', fill_value=\"extrapolate\")\n",
    "\n",
    "x_smooth = np.linspace(x_data.min(), x_data.max(), 300)\n",
    "y_smooth1 = interp_func1(x_smooth)\n",
    "y_smooth2 = interp_func2(x_smooth)\n",
    "y_smooth3 = interp_func3(x_smooth)\n",
    "y_smooth4 = interp_func4(x_smooth)\n",
    "\n",
    "fig = plt.figure(figsize=(9, 7))\n",
    "plt.plot(x_smooth, y_smooth1, label='num_SMhos')\n",
    "plt.plot(x_smooth, y_smooth2, label='num_MShos')\n",
    "plt.plot(x_smooth, y_smooth3, label='num_SMho_fail')\n",
    "plt.plot(x_smooth, y_smooth4, label='num_MSho_fail')\n",
    "\n",
    "plt.grid()\n",
    "plt.xlabel('Hysteresis')\n",
    "plt.ylabel('Number of ...')\n",
    "plt.title('TimeToTrigger = 100 ms, speed = 5 m/s')\n",
    "plt.legend(['num_SMhos', 'num_MShos','num_SMho_fail','num_MSho_fail'])\n",
    "plt.show()\n",
    "\"\"\"\n",
    "plt.rcParams.update({'font.size':14})\n",
    "fig = plt.figure(figsize=(9, 7))\n",
    "ax = plt.axes()\n",
    "#ax.plot(results_Hys['Hysteresis'], results_Hys['num_HOs'], color = 'blue')\n",
    "ax.plot(results_Hys['Hysteresis'], results_Hys['num_SMhos'], color = 'blue')\n",
    "ax.plot(results_Hys['Hysteresis'], results_Hys['num_MShos'], color = 'green')\n",
    "ax.plot(results_Hys['Hysteresis'], results_Hys['num_SMho_fail'], color = 'red')\n",
    "ax.plot(results_Hys['Hysteresis'], results_Hys['num_MSho_fail'], color = 'orange')\n",
    "\n",
    "#ax.plot(results_Hys['Hysteresis'], results_Hys['num_RLFs'], color = 'black')\n",
    "ax.grid()\n",
    "ax.set_xlabel('Hysteresis')\n",
    "ax.set_ylabel('Number of S->M and M->S handover')\n",
    "ax.set_title('TimeToTrigger = 100 ms, speed = 5 m/s')\n",
    "ax.legend(['num_SMhos', 'num_MShos','num_SMho_fail','num_MSho_fail'])\n",
    "\"\"\""
   ]
  },
  {
   "cell_type": "code",
   "execution_count": null,
   "id": "5da995e5",
   "metadata": {},
   "outputs": [],
   "source": []
  }
 ],
 "metadata": {
  "kernelspec": {
   "display_name": "Python 3 (ipykernel)",
   "language": "python",
   "name": "python3"
  },
  "language_info": {
   "codemirror_mode": {
    "name": "ipython",
    "version": 3
   },
   "file_extension": ".py",
   "mimetype": "text/x-python",
   "name": "python",
   "nbconvert_exporter": "python",
   "pygments_lexer": "ipython3",
   "version": "3.8.7"
  }
 },
 "nbformat": 4,
 "nbformat_minor": 5
}
