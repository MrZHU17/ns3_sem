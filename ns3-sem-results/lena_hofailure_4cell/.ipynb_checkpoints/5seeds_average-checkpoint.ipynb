{
 "cells": [
  {
   "cell_type": "code",
   "execution_count": null,
   "id": "12cf2c7f",
   "metadata": {},
   "outputs": [],
   "source": [
    "import sys\n",
    "sys.path.append(\"../../../ns3_sem\")\n",
    "import sem\n",
    "import pprint\n",
    "import matplotlib.pyplot as plt\n",
    "import seaborn as sns\n",
    "import numpy\n",
    "import numpy as np"
   ]
  },
  {
   "cell_type": "markdown",
   "id": "751043ea",
   "metadata": {},
   "source": [
    "# RngRun 1"
   ]
  },
  {
   "cell_type": "code",
   "execution_count": null,
   "id": "8fc51860",
   "metadata": {},
   "outputs": [],
   "source": [
    "campaign_dir = 'rngrun1/rngrun1'\n",
    "campaign = sem.CampaignManager.load(campaign_dir, check_repo=False)"
   ]
  },
  {
   "cell_type": "code",
   "execution_count": null,
   "id": "e1d1f323",
   "metadata": {},
   "outputs": [],
   "source": [
    "param_combination = {'simTime':1000, \n",
    "                     'nBlocks': 4, #list([1,2,3,4,5,6,7,8,9,10]),#round(4*nBlocks*0.1)\n",
    "                     'nMacroEnbSites': 1, #list([1,2,3,4,5,6,7,8,9,10]),\n",
    "                     'nMacroEnbSitesX': 1,\n",
    "                     'macroUeDensity': 0.00001,#1000000 [p * 0.5 for p in range(0.0001, 0.01)]\n",
    "                     'homeEnbDeploymentRatio': 1.0,\n",
    "                     'homeEnbActivationRatio': 1.0,\n",
    "                     'homeUesHomeEnbRatio': 1.0,\n",
    "                     'outdoorUeMinSpeed': 5.0,#[j * 2.0 for j in range(2.0, 10.0)]\n",
    "                     'outdoorUeMaxSpeed': 5.0,\n",
    "                     'handoverAlgorithm': 'A3',\n",
    "                     'Hysteresis': [j * 1.0 for j in np.arange(0.0, 3.2, 0.2)],\n",
    "                     'TimeToTrigger':  list([0.0, 40.0, 64.0, 80.0, 100.0, 128.0, 160.0, 256.0, 320.0, 480.0, 512.0]),\n",
    "                     'SrsPeriodicity': 80,\n",
    "                     'generateRem': 0,\n",
    "                     'RngRun': [1]\n",
    "                    }"
   ]
  },
  {
   "cell_type": "code",
   "execution_count": null,
   "id": "b0bb3e9c",
   "metadata": {},
   "outputs": [],
   "source": [
    "def get_average_throughput(results_rngrun1):\n",
    "    if results_rngrun1['output']['stderr'] != \"\":\n",
    "        num_HOs = -1\n",
    "        num_RLFs = -1\n",
    "        num_HFMRs = -1\n",
    "        num_HFNPs = -1\n",
    "        num_HFJs = -1\n",
    "        num_HFLs = -1\n",
    "    else:\n",
    "        split_results_rngrun1 = results_rngrun1['output']['stdout'].split(\"\\n\")\n",
    "        num_HOs = 0\n",
    "        num_RLFs = 0\n",
    "        num_HFMRs = 0\n",
    "        num_HFNPs = 0\n",
    "        num_HFJs = 0\n",
    "        num_HFLs = 0\n",
    "        for line in split_results_rngrun1:\n",
    "            event = line.split(\":\",1)[0]\n",
    "            if event == \"Handover_start\":\n",
    "                num_HOs += 1\n",
    "            elif event == \"Handover_Failure_NoPreamble\":\n",
    "                num_HFNPs += 1\n",
    "            elif event == \"Handover_Failure_JoiningTimeout\":\n",
    "                num_HFJs += 1\n",
    "            elif event == \"Handover_Failure_MaxRach\":\n",
    "                num_HFMRs += 1\n",
    "            elif event == \"Handover_Failure_LeavingTimeout\":\n",
    "                num_HFLs += 1\n",
    "            elif event == \"Radio_link_failure_detected\":\n",
    "                num_RLFs += 1\n",
    "    return [num_HOs, num_RLFs, num_HFNPs, num_HFJs, num_HFMRs, num_HFLs]\n",
    "\n",
    "# the result of generate dataframe\n",
    "results_rngrun1 = campaign.get_results_as_dataframe(get_average_throughput, \n",
    "                                            ['num_HOs', 'num_RLFs','num_HFNPs','num_HFJs','num_HFMRs','num_HFLs'], \n",
    "                                            params = param_combination, drop_constant_columns=True)\n",
    "print(results_rngrun1)"
   ]
  },
  {
   "cell_type": "markdown",
   "id": "eb0b0b52",
   "metadata": {},
   "source": [
    "# RngRun 2"
   ]
  },
  {
   "cell_type": "code",
   "execution_count": null,
   "id": "a2f7e0c7",
   "metadata": {},
   "outputs": [],
   "source": [
    "campaign_dir = 'rngrun2/rngrun2'\n",
    "campaign = sem.CampaignManager.load(campaign_dir, check_repo=False)"
   ]
  },
  {
   "cell_type": "code",
   "execution_count": null,
   "id": "6af9d024",
   "metadata": {},
   "outputs": [],
   "source": [
    "param_combination = {'simTime':1000, \n",
    "                     'nBlocks': 4, #list([1,2,3,4,5,6,7,8,9,10]),#round(4*nBlocks*0.1)\n",
    "                     'nMacroEnbSites': 1, #list([1,2,3,4,5,6,7,8,9,10]),\n",
    "                     'nMacroEnbSitesX': 1,\n",
    "                     'macroUeDensity': 0.00001,#1000000 [p * 0.5 for p in range(0.0001, 0.01)]\n",
    "                     'homeEnbDeploymentRatio': 1.0,\n",
    "                     'homeEnbActivationRatio': 1.0,\n",
    "                     'homeUesHomeEnbRatio': 1.0,\n",
    "                     'outdoorUeMinSpeed': 5.0,#[j * 2.0 for j in range(2.0, 10.0)]\n",
    "                     'outdoorUeMaxSpeed': 5.0,\n",
    "                     'handoverAlgorithm': 'A3',\n",
    "                     'Hysteresis': [j * 1.0 for j in np.arange(0.0, 3.2, 0.2)],\n",
    "                     'TimeToTrigger':  list([0.0, 40.0, 64.0, 80.0, 100.0, 128.0, 160.0, 256.0, 320.0, 480.0, 512.0]),\n",
    "                     'SrsPeriodicity': 80,\n",
    "                     'generateRem': 0,\n",
    "                     'RngRun': [2]\n",
    "                    }"
   ]
  },
  {
   "cell_type": "code",
   "execution_count": null,
   "id": "fc950786",
   "metadata": {},
   "outputs": [],
   "source": [
    "def get_average_throughput(results_rngrun2):\n",
    "    if results_rngrun2['output']['stderr'] != \"\":\n",
    "        num_HOs = -1\n",
    "        num_RLFs = -1\n",
    "        num_HFMRs = -1\n",
    "        num_HFNPs = -1\n",
    "        num_HFJs = -1\n",
    "        num_HFLs = -1\n",
    "    else:\n",
    "        split_results_rngrun2 = results_rngrun2['output']['stdout'].split(\"\\n\")\n",
    "        num_HOs = 0\n",
    "        num_RLFs = 0\n",
    "        num_HFMRs = 0\n",
    "        num_HFNPs = 0\n",
    "        num_HFJs = 0\n",
    "        num_HFLs = 0\n",
    "        for line in split_results_rngrun2:\n",
    "            event = line.split(\":\",1)[0]\n",
    "            if event == \"Handover_start\":\n",
    "                num_HOs += 1\n",
    "            elif event == \"Handover_Failure_NoPreamble\":\n",
    "                num_HFNPs += 1\n",
    "            elif event == \"Handover_Failure_JoiningTimeout\":\n",
    "                num_HFJs += 1\n",
    "            elif event == \"Handover_Failure_MaxRach\":\n",
    "                num_HFMRs += 1\n",
    "            elif event == \"Handover_Failure_LeavingTimeout\":\n",
    "                num_HFLs += 1\n",
    "            elif event == \"Radio_link_failure_detected\":\n",
    "                num_RLFs += 1\n",
    "    return [num_HOs, num_RLFs, num_HFNPs, num_HFJs, num_HFMRs, num_HFLs]\n",
    "\n",
    "# the result of generate dataframe\n",
    "results_rngrun2 = campaign.get_results_as_dataframe(get_average_throughput, \n",
    "                                            ['num_HOs', 'num_RLFs','num_HFNPs','num_HFJs','num_HFMRs','num_HFLs'], \n",
    "                                            params = param_combination, drop_constant_columns=True)\n",
    "print(results_rngrun2)"
   ]
  },
  {
   "cell_type": "markdown",
   "id": "881f6b7b",
   "metadata": {},
   "source": [
    "# RngRun 3"
   ]
  },
  {
   "cell_type": "code",
   "execution_count": null,
   "id": "0b572462",
   "metadata": {},
   "outputs": [],
   "source": [
    "campaign_dir = 'rngrun3/rngrun3'\n",
    "campaign = sem.CampaignManager.load(campaign_dir, check_repo=False)"
   ]
  },
  {
   "cell_type": "code",
   "execution_count": null,
   "id": "70d0b212",
   "metadata": {},
   "outputs": [],
   "source": [
    "param_combination = {'simTime':1000, \n",
    "                     'nBlocks': 4, #list([1,2,3,4,5,6,7,8,9,10]),#round(4*nBlocks*0.1)\n",
    "                     'nMacroEnbSites': 1, #list([1,2,3,4,5,6,7,8,9,10]),\n",
    "                     'nMacroEnbSitesX': 1,\n",
    "                     'macroUeDensity': 0.00001,#1000000 [p * 0.5 for p in range(0.0001, 0.01)]\n",
    "                     'homeEnbDeploymentRatio': 1.0,\n",
    "                     'homeEnbActivationRatio': 1.0,\n",
    "                     'homeUesHomeEnbRatio': 1.0,\n",
    "                     'outdoorUeMinSpeed': 5.0,#[j * 2.0 for j in range(2.0, 10.0)]\n",
    "                     'outdoorUeMaxSpeed': 5.0,\n",
    "                     'handoverAlgorithm': 'A3',\n",
    "                     'Hysteresis': [j * 1.0 for j in np.arange(0.0, 3.2, 0.2)],\n",
    "                     'TimeToTrigger':  list([0.0, 40.0, 64.0, 80.0, 100.0, 128.0, 160.0, 256.0, 320.0, 480.0, 512.0]),\n",
    "                     'SrsPeriodicity': 80,\n",
    "                     'generateRem': 0,\n",
    "                     'RngRun': [3]\n",
    "                    }"
   ]
  },
  {
   "cell_type": "code",
   "execution_count": null,
   "id": "dfb1949e",
   "metadata": {},
   "outputs": [],
   "source": [
    "def get_average_throughput(results_rngrun3):\n",
    "    if results_rngrun3['output']['stderr'] != \"\":\n",
    "        num_HOs = -1\n",
    "        num_RLFs = -1\n",
    "        num_HFMRs = -1\n",
    "        num_HFNPs = -1\n",
    "        num_HFJs = -1\n",
    "        num_HFLs = -1\n",
    "    else:\n",
    "        split_results_rngrun3 = results_rngrun3['output']['stdout'].split(\"\\n\")\n",
    "        num_HOs = 0\n",
    "        num_RLFs = 0\n",
    "        num_HFMRs = 0\n",
    "        num_HFNPs = 0\n",
    "        num_HFJs = 0\n",
    "        num_HFLs = 0\n",
    "        for line in split_results_rngrun3:\n",
    "            event = line.split(\":\",1)[0]\n",
    "            if event == \"Handover_start\":\n",
    "                num_HOs += 1\n",
    "            elif event == \"Handover_Failure_NoPreamble\":\n",
    "                num_HFNPs += 1\n",
    "            elif event == \"Handover_Failure_JoiningTimeout\":\n",
    "                num_HFJs += 1\n",
    "            elif event == \"Handover_Failure_MaxRach\":\n",
    "                num_HFMRs += 1\n",
    "            elif event == \"Handover_Failure_LeavingTimeout\":\n",
    "                num_HFLs += 1\n",
    "            elif event == \"Radio_link_failure_detected\":\n",
    "                num_RLFs += 1\n",
    "    return [num_HOs, num_RLFs, num_HFNPs, num_HFJs, num_HFMRs, num_HFLs]\n",
    "\n",
    "# the result of generate dataframe\n",
    "results_rngrun3 = campaign.get_results_as_dataframe(get_average_throughput, \n",
    "                                            ['num_HOs', 'num_RLFs','num_HFNPs','num_HFJs','num_HFMRs','num_HFLs'], \n",
    "                                            params = param_combination, drop_constant_columns=True)\n",
    "print(results_rngrun3)"
   ]
  },
  {
   "cell_type": "markdown",
   "id": "5510b24a",
   "metadata": {},
   "source": [
    "# RngRun 4"
   ]
  },
  {
   "cell_type": "code",
   "execution_count": 9,
   "id": "0ab577b8",
   "metadata": {},
   "outputs": [],
   "source": []
  },
  {
   "cell_type": "code",
   "execution_count": 10,
   "id": "e1ba8aac",
   "metadata": {
    "scrolled": true
   },
   "outputs": [],
   "source": [
    "campaign_dir = 'rngrun4/rngrun4'\n",
    "campaign = sem.CampaignManager.load(campaign_dir, check_repo=False)"
   ]
  },
  {
   "cell_type": "code",
   "execution_count": 11,
   "id": "6e479f2a",
   "metadata": {},
   "outputs": [],
   "source": [
    "param_combination = {'simTime':1000, \n",
    "                     'nBlocks': 4, #list([1,2,3,4,5,6,7,8,9,10]),#round(4*nBlocks*0.1)\n",
    "                     'nMacroEnbSites': 1, #list([1,2,3,4,5,6,7,8,9,10]),\n",
    "                     'nMacroEnbSitesX': 1,\n",
    "                     'macroUeDensity': 0.00001,#1000000 [p * 0.5 for p in range(0.0001, 0.01)]\n",
    "                     'homeEnbDeploymentRatio': 1.0,\n",
    "                     'homeEnbActivationRatio': 1.0,\n",
    "                     'homeUesHomeEnbRatio': 1.0,\n",
    "                     'outdoorUeMinSpeed': 5.0,#[j * 2.0 for j in range(2.0, 10.0)]\n",
    "                     'outdoorUeMaxSpeed': 5.0,\n",
    "                     'handoverAlgorithm': 'A3',\n",
    "                     'Hysteresis': [j * 1.0 for j in np.arange(0.0, 3.2, 0.2)],\n",
    "                     'TimeToTrigger':  list([0.0, 40.0, 64.0, 80.0, 100.0, 128.0, 160.0, 256.0, 320.0, 480.0, 512.0]),\n",
    "                     'SrsPeriodicity': 80,\n",
    "                     'generateRem': 0,\n",
    "                     'RngRun': [4]\n",
    "                    }"
   ]
  },
  {
   "cell_type": "code",
   "execution_count": 12,
   "id": "d4cc0927",
   "metadata": {},
   "outputs": [
    {
     "name": "stdout",
     "output_type": "stream",
     "text": [
      "     Hysteresis  TimeToTrigger  num_HOs  num_RLFs  num_HFJs\n",
      "0           0.0            0.0       11         9         9\n",
      "1           0.0           40.0       11         9         9\n",
      "2           0.0           64.0       11         9         9\n",
      "3           0.0           80.0       11         9         9\n",
      "4           0.0          100.0       11         9         9\n",
      "..          ...            ...      ...       ...       ...\n",
      "171         3.0          160.0        8        10         6\n",
      "172         3.0          256.0        7        10         6\n",
      "173         3.0          320.0        7        10         7\n",
      "174         3.0          480.0        7        10         7\n",
      "175         3.0          512.0        7        10         7\n",
      "\n",
      "[176 rows x 5 columns]\n"
     ]
    }
   ],
   "source": [
    "def get_average_throughput(results_rngrun4):\n",
    "    if results_rngrun4['output']['stderr'] != \"\":\n",
    "        num_HOs = -1\n",
    "        num_RLFs = -1\n",
    "        num_HFMRs = -1\n",
    "        num_HFNPs = -1\n",
    "        num_HFJs = -1\n",
    "        num_HFLs = -1\n",
    "    else:\n",
    "        split_results_rngrun4 = results_rngrun4['output']['stdout'].split(\"\\n\")\n",
    "        num_HOs = 0\n",
    "        num_RLFs = 0\n",
    "        num_HFMRs = 0\n",
    "        num_HFNPs = 0\n",
    "        num_HFJs = 0\n",
    "        num_HFLs = 0\n",
    "        for line in split_results_rngrun4:\n",
    "            event = line.split(\":\",1)[0]\n",
    "            if event == \"Handover_start\":\n",
    "                num_HOs += 1\n",
    "            elif event == \"Handover_Failure_NoPreamble\":\n",
    "                num_HFNPs += 1\n",
    "            elif event == \"Handover_Failure_JoiningTimeout\":\n",
    "                num_HFJs += 1\n",
    "            elif event == \"Handover_Failure_MaxRach\":\n",
    "                num_HFMRs += 1\n",
    "            elif event == \"Handover_Failure_LeavingTimeout\":\n",
    "                num_HFLs += 1\n",
    "            elif event == \"Radio_link_failure_detected\":\n",
    "                num_RLFs += 1\n",
    "    return [num_HOs, num_RLFs, num_HFNPs, num_HFJs, num_HFMRs, num_HFLs]\n",
    "\n",
    "# the result of generate dataframe\n",
    "results_rngrun4 = campaign.get_results_as_dataframe(get_average_throughput, \n",
    "                                            ['num_HOs', 'num_RLFs','num_HFNPs','num_HFJs','num_HFMRs','num_HFLs'], \n",
    "                                            params = param_combination, drop_constant_columns=True)\n",
    "print(results_rngrun4)"
   ]
  },
  {
   "cell_type": "code",
   "execution_count": null,
   "id": "9a0e5a7c",
   "metadata": {},
   "outputs": [],
   "source": []
  }
 ],
 "metadata": {
  "kernelspec": {
   "display_name": "Python 3 (ipykernel)",
   "language": "python",
   "name": "python3"
  },
  "language_info": {
   "codemirror_mode": {
    "name": "ipython",
    "version": 3
   },
   "file_extension": ".py",
   "mimetype": "text/x-python",
   "name": "python",
   "nbconvert_exporter": "python",
   "pygments_lexer": "ipython3",
   "version": "3.9.13"
  }
 },
 "nbformat": 4,
 "nbformat_minor": 5
}
