{
 "cells": [
  {
   "cell_type": "code",
   "execution_count": 29,
   "id": "45fb03c5",
   "metadata": {
    "scrolled": true
   },
   "outputs": [
    {
     "name": "stdout",
     "output_type": "stream",
     "text": [
      "--- Campaign info ---\n",
      "script: lena_hofailure\n",
      "params: {'simTime': '50', 'nBlocks': '1', 'nMacroEnbSites': '1', 'macroUeDensity': '1e-05', 'homeEnbDeploymentRatio': '0.2', 'homeEnbActivationRatio': '0.5', 'homeUesHomeEnbRatio': '1', 'macroEnbDlEarfcn': '100', 'homeEnbDlEarfcn': '100', 'macroEnbBandwidth': '25', 'homeEnbBandwidth': '25', 'generateRem': 'false', 'epc': 'true', 'useUdp': 'true', 'outdoorUeMinSpeed': '0', 'outdoorUeMaxSpeed': '0', 'handoverAlgorithm': 'A3', 'Hysteresis': 3.0, 'TimeToTrigger': 256.0, 'ServingCellThreshold': 20.0, 'NeighbourCellOffset': 5.0, 'SrsPeriodicity': 80.0, 'epcDl': 'true', 'epcUl': 'true', 'fadingTrace': '', 'homeEnbTxPowerDbm': '20', 'interSiteDistance': '500', 'macroEnbTxPowerDbm': '43', 'nMacroEnbSitesX': '1', 'numBearersPerUe': '1', 'remRbId': '-1', 'srsPeriodicity': '80'}\n",
      "HEAD: c6d9a9f8115a3ba83d26aafe492241a40bf89c29\n",
      "Runner type: <class 'sem.parallelrunner.ParallelRunner'>\n",
      "-----------\n"
     ]
    }
   ],
   "source": [
    "import sys\n",
    "sys.path.append(\"../../../../ns3_sem\")\n",
    "import sem\n",
    "import pprint\n",
    "import matplotlib.pyplot as plt\n",
    "import seaborn as sns\n",
    "import numpy\n",
    "ns_path = '../../../../../ns3-dev-hofailure_RACH'\n",
    "script = 'lena_hofailure'\n",
    "campaign_dir = 'rngrun1'\n",
    "campaign = sem.CampaignManager.new(ns_path, script, campaign_dir, overwrite=True)\n",
    "print(campaign)"
   ]
  },
  {
   "cell_type": "code",
   "execution_count": 30,
   "id": "5afa3d37",
   "metadata": {},
   "outputs": [],
   "source": [
    "import numpy as np\n",
    "param_combination = {'simTime':5000, \n",
    "                     'nBlocks': 4, #list([1,2,3,4,5,6,7,8,9,10]),#round(4*nBlocks*0.1)\n",
    "                     'nMacroEnbSites': 1, #list([1,2,3,4,5,6,7,8,9,10]),\n",
    "                     'nMacroEnbSitesX': 1,\n",
    "                     'macroUeDensity': 0.00001,#1000000 [p * 0.5 for p in range(0.0001, 0.01)]\n",
    "                     'homeEnbDeploymentRatio': 1.0,\n",
    "                     'homeEnbActivationRatio': 1.0,\n",
    "                     'homeUesHomeEnbRatio': 1.0,\n",
    "                     'outdoorUeMinSpeed': 1.0,\n",
    "                     'outdoorUeMaxSpeed': 1.0,\n",
    "                     'handoverAlgorithm': 'A2A4',\n",
    "                     'ServingCellThreshold':[j for j in np.arange(0.0, 5.0, 0.5)],\n",
    "                     'NeighbourCellOffset':[i for i in np.arange(0.0, 5.0, 0.5)],\n",
    "                     #'Hysteresis': [j * 1.0 for j in np.arange(0.0, 3.2, 0.2)],\n",
    "                     #'TimeToTrigger':  list([0.0, 40.0, 64.0, 80.0, 100.0, 128.0, 160.0, 256.0, 320.0, 480.0, 512.0]),\n",
    "                     'SrsPeriodicity': 80,\n",
    "                     'generateRem': 0,\n",
    "                     'RngRun': [1]\n",
    "                    }"
   ]
  },
  {
   "cell_type": "code",
   "execution_count": 31,
   "id": "cf973017",
   "metadata": {
    "scrolled": false
   },
   "outputs": [
    {
     "name": "stderr",
     "output_type": "stream",
     "text": [
      "Running simulations:   0%|                                                                               | 0/100 [02:12<?, ?simulation/s]\n"
     ]
    },
    {
     "ename": "KeyboardInterrupt",
     "evalue": "",
     "output_type": "error",
     "traceback": [
      "\u001b[0;31m---------------------------------------------------------------------------\u001b[0m",
      "\u001b[0;31mIndexError\u001b[0m                                Traceback (most recent call last)",
      "\u001b[0;32m~/anaconda3/lib/python3.9/multiprocessing/pool.py\u001b[0m in \u001b[0;36mnext\u001b[0;34m(self, timeout)\u001b[0m\n\u001b[1;32m    852\u001b[0m             \u001b[0;32mtry\u001b[0m\u001b[0;34m:\u001b[0m\u001b[0;34m\u001b[0m\u001b[0;34m\u001b[0m\u001b[0m\n\u001b[0;32m--> 853\u001b[0;31m                 \u001b[0mitem\u001b[0m \u001b[0;34m=\u001b[0m \u001b[0mself\u001b[0m\u001b[0;34m.\u001b[0m\u001b[0m_items\u001b[0m\u001b[0;34m.\u001b[0m\u001b[0mpopleft\u001b[0m\u001b[0;34m(\u001b[0m\u001b[0;34m)\u001b[0m\u001b[0;34m\u001b[0m\u001b[0;34m\u001b[0m\u001b[0m\n\u001b[0m\u001b[1;32m    854\u001b[0m             \u001b[0;32mexcept\u001b[0m \u001b[0mIndexError\u001b[0m\u001b[0;34m:\u001b[0m\u001b[0;34m\u001b[0m\u001b[0;34m\u001b[0m\u001b[0m\n",
      "\u001b[0;31mIndexError\u001b[0m: pop from an empty deque",
      "\nDuring handling of the above exception, another exception occurred:\n",
      "\u001b[0;31mKeyboardInterrupt\u001b[0m                         Traceback (most recent call last)",
      "\u001b[0;32m/tmp/ipykernel_28783/397893466.py\u001b[0m in \u001b[0;36m<module>\u001b[0;34m\u001b[0m\n\u001b[0;32m----> 1\u001b[0;31m \u001b[0mcampaign\u001b[0m\u001b[0;34m.\u001b[0m\u001b[0mrun_missing_simulations\u001b[0m\u001b[0;34m(\u001b[0m\u001b[0mparam_combination\u001b[0m\u001b[0;34m,\u001b[0m \u001b[0mstop_on_errors\u001b[0m\u001b[0;34m=\u001b[0m\u001b[0;32mFalse\u001b[0m\u001b[0;34m)\u001b[0m\u001b[0;34m\u001b[0m\u001b[0;34m\u001b[0m\u001b[0m\n\u001b[0m",
      "\u001b[0;32m~/anaconda3/lib/python3.9/site-packages/sem/manager.py\u001b[0m in \u001b[0;36mrun_missing_simulations\u001b[0;34m(self, param_list, runs, condition_checking_function, stop_on_errors)\u001b[0m\n\u001b[1;32m    506\u001b[0m                     stop_on_errors=stop_on_errors)\n\u001b[1;32m    507\u001b[0m             \u001b[0;32melse\u001b[0m\u001b[0;34m:\u001b[0m\u001b[0;34m\u001b[0m\u001b[0;34m\u001b[0m\u001b[0m\n\u001b[0;32m--> 508\u001b[0;31m                 self.run_simulations(\n\u001b[0m\u001b[1;32m    509\u001b[0m                     \u001b[0mself\u001b[0m\u001b[0;34m.\u001b[0m\u001b[0mget_missing_simulations\u001b[0m\u001b[0;34m(\u001b[0m\u001b[0mparam_list\u001b[0m\u001b[0;34m,\u001b[0m \u001b[0mruns\u001b[0m\u001b[0;34m)\u001b[0m\u001b[0;34m,\u001b[0m\u001b[0;34m\u001b[0m\u001b[0;34m\u001b[0m\u001b[0m\n\u001b[1;32m    510\u001b[0m                     stop_on_errors=stop_on_errors)\n",
      "\u001b[0;32m~/anaconda3/lib/python3.9/site-packages/sem/manager.py\u001b[0m in \u001b[0;36mrun_simulations\u001b[0;34m(self, param_list, show_progress, stop_on_errors)\u001b[0m\n\u001b[1;32m    350\u001b[0m             \u001b[0mresult_generator\u001b[0m \u001b[0;34m=\u001b[0m \u001b[0mresults\u001b[0m\u001b[0;34m\u001b[0m\u001b[0;34m\u001b[0m\u001b[0m\n\u001b[1;32m    351\u001b[0m \u001b[0;34m\u001b[0m\u001b[0m\n\u001b[0;32m--> 352\u001b[0;31m         \u001b[0mself\u001b[0m\u001b[0;34m.\u001b[0m\u001b[0mrun_and_save_results\u001b[0m\u001b[0;34m(\u001b[0m\u001b[0mresult_generator\u001b[0m\u001b[0;34m)\u001b[0m\u001b[0;34m\u001b[0m\u001b[0;34m\u001b[0m\u001b[0m\n\u001b[0m\u001b[1;32m    353\u001b[0m \u001b[0;34m\u001b[0m\u001b[0m\n\u001b[1;32m    354\u001b[0m     \u001b[0;32mdef\u001b[0m \u001b[0mrun_and_save_results\u001b[0m\u001b[0;34m(\u001b[0m\u001b[0mself\u001b[0m\u001b[0;34m,\u001b[0m \u001b[0mresult_generator\u001b[0m\u001b[0;34m,\u001b[0m \u001b[0mbatch_results\u001b[0m\u001b[0;34m=\u001b[0m\u001b[0;32mTrue\u001b[0m\u001b[0;34m)\u001b[0m\u001b[0;34m:\u001b[0m\u001b[0;34m\u001b[0m\u001b[0;34m\u001b[0m\u001b[0m\n",
      "\u001b[0;32m~/anaconda3/lib/python3.9/site-packages/sem/manager.py\u001b[0m in \u001b[0;36mrun_and_save_results\u001b[0;34m(self, result_generator, batch_results)\u001b[0m\n\u001b[1;32m    360\u001b[0m         \u001b[0mlast_save_time\u001b[0m \u001b[0;34m=\u001b[0m \u001b[0mdatetime\u001b[0m\u001b[0;34m.\u001b[0m\u001b[0mnow\u001b[0m\u001b[0;34m(\u001b[0m\u001b[0;34m)\u001b[0m\u001b[0;34m\u001b[0m\u001b[0;34m\u001b[0m\u001b[0m\n\u001b[1;32m    361\u001b[0m \u001b[0;34m\u001b[0m\u001b[0m\n\u001b[0;32m--> 362\u001b[0;31m         \u001b[0;32mfor\u001b[0m \u001b[0mresult\u001b[0m \u001b[0;32min\u001b[0m \u001b[0mresult_generator\u001b[0m\u001b[0;34m:\u001b[0m\u001b[0;34m\u001b[0m\u001b[0;34m\u001b[0m\u001b[0m\n\u001b[0m\u001b[1;32m    363\u001b[0m \u001b[0;34m\u001b[0m\u001b[0m\n\u001b[1;32m    364\u001b[0m             \u001b[0mresults_batch\u001b[0m \u001b[0;34m+=\u001b[0m \u001b[0;34m[\u001b[0m\u001b[0mresult\u001b[0m\u001b[0;34m]\u001b[0m\u001b[0;34m\u001b[0m\u001b[0;34m\u001b[0m\u001b[0m\n",
      "\u001b[0;32m~/anaconda3/lib/python3.9/site-packages/tqdm/std.py\u001b[0m in \u001b[0;36m__iter__\u001b[0;34m(self)\u001b[0m\n\u001b[1;32m   1193\u001b[0m \u001b[0;34m\u001b[0m\u001b[0m\n\u001b[1;32m   1194\u001b[0m         \u001b[0;32mtry\u001b[0m\u001b[0;34m:\u001b[0m\u001b[0;34m\u001b[0m\u001b[0;34m\u001b[0m\u001b[0m\n\u001b[0;32m-> 1195\u001b[0;31m             \u001b[0;32mfor\u001b[0m \u001b[0mobj\u001b[0m \u001b[0;32min\u001b[0m \u001b[0miterable\u001b[0m\u001b[0;34m:\u001b[0m\u001b[0;34m\u001b[0m\u001b[0;34m\u001b[0m\u001b[0m\n\u001b[0m\u001b[1;32m   1196\u001b[0m                 \u001b[0;32myield\u001b[0m \u001b[0mobj\u001b[0m\u001b[0;34m\u001b[0m\u001b[0;34m\u001b[0m\u001b[0m\n\u001b[1;32m   1197\u001b[0m                 \u001b[0;31m# Update and possibly print the progressbar.\u001b[0m\u001b[0;34m\u001b[0m\u001b[0;34m\u001b[0m\u001b[0m\n",
      "\u001b[0;32m~/anaconda3/lib/python3.9/site-packages/sem/parallelrunner.py\u001b[0m in \u001b[0;36mrun_simulations\u001b[0;34m(self, parameter_list, data_folder, stop_on_errors)\u001b[0m\n\u001b[1;32m     20\u001b[0m         \u001b[0mself\u001b[0m\u001b[0;34m.\u001b[0m\u001b[0mstop_on_errors\u001b[0m \u001b[0;34m=\u001b[0m \u001b[0mstop_on_errors\u001b[0m\u001b[0;34m\u001b[0m\u001b[0;34m\u001b[0m\u001b[0m\n\u001b[1;32m     21\u001b[0m         \u001b[0;32mwith\u001b[0m \u001b[0mPool\u001b[0m\u001b[0;34m(\u001b[0m\u001b[0mprocesses\u001b[0m\u001b[0;34m=\u001b[0m\u001b[0mself\u001b[0m\u001b[0;34m.\u001b[0m\u001b[0mmax_parallel_processes\u001b[0m\u001b[0;34m)\u001b[0m \u001b[0;32mas\u001b[0m \u001b[0mpool\u001b[0m\u001b[0;34m:\u001b[0m\u001b[0;34m\u001b[0m\u001b[0;34m\u001b[0m\u001b[0m\n\u001b[0;32m---> 22\u001b[0;31m             for result in pool.imap_unordered(self.launch_simulation,\n\u001b[0m\u001b[1;32m     23\u001b[0m                                               parameter_list):\n\u001b[1;32m     24\u001b[0m                 \u001b[0;32myield\u001b[0m \u001b[0mresult\u001b[0m\u001b[0;34m\u001b[0m\u001b[0;34m\u001b[0m\u001b[0m\n",
      "\u001b[0;32m~/anaconda3/lib/python3.9/multiprocessing/pool.py\u001b[0m in \u001b[0;36mnext\u001b[0;34m(self, timeout)\u001b[0m\n\u001b[1;32m    856\u001b[0m                     \u001b[0mself\u001b[0m\u001b[0;34m.\u001b[0m\u001b[0m_pool\u001b[0m \u001b[0;34m=\u001b[0m \u001b[0;32mNone\u001b[0m\u001b[0;34m\u001b[0m\u001b[0;34m\u001b[0m\u001b[0m\n\u001b[1;32m    857\u001b[0m                     \u001b[0;32mraise\u001b[0m \u001b[0mStopIteration\u001b[0m \u001b[0;32mfrom\u001b[0m \u001b[0;32mNone\u001b[0m\u001b[0;34m\u001b[0m\u001b[0;34m\u001b[0m\u001b[0m\n\u001b[0;32m--> 858\u001b[0;31m                 \u001b[0mself\u001b[0m\u001b[0;34m.\u001b[0m\u001b[0m_cond\u001b[0m\u001b[0;34m.\u001b[0m\u001b[0mwait\u001b[0m\u001b[0;34m(\u001b[0m\u001b[0mtimeout\u001b[0m\u001b[0;34m)\u001b[0m\u001b[0;34m\u001b[0m\u001b[0;34m\u001b[0m\u001b[0m\n\u001b[0m\u001b[1;32m    859\u001b[0m                 \u001b[0;32mtry\u001b[0m\u001b[0;34m:\u001b[0m\u001b[0;34m\u001b[0m\u001b[0;34m\u001b[0m\u001b[0m\n\u001b[1;32m    860\u001b[0m                     \u001b[0mitem\u001b[0m \u001b[0;34m=\u001b[0m \u001b[0mself\u001b[0m\u001b[0;34m.\u001b[0m\u001b[0m_items\u001b[0m\u001b[0;34m.\u001b[0m\u001b[0mpopleft\u001b[0m\u001b[0;34m(\u001b[0m\u001b[0;34m)\u001b[0m\u001b[0;34m\u001b[0m\u001b[0;34m\u001b[0m\u001b[0m\n",
      "\u001b[0;32m~/anaconda3/lib/python3.9/threading.py\u001b[0m in \u001b[0;36mwait\u001b[0;34m(self, timeout)\u001b[0m\n\u001b[1;32m    310\u001b[0m         \u001b[0;32mtry\u001b[0m\u001b[0;34m:\u001b[0m    \u001b[0;31m# restore state no matter what (e.g., KeyboardInterrupt)\u001b[0m\u001b[0;34m\u001b[0m\u001b[0;34m\u001b[0m\u001b[0m\n\u001b[1;32m    311\u001b[0m             \u001b[0;32mif\u001b[0m \u001b[0mtimeout\u001b[0m \u001b[0;32mis\u001b[0m \u001b[0;32mNone\u001b[0m\u001b[0;34m:\u001b[0m\u001b[0;34m\u001b[0m\u001b[0;34m\u001b[0m\u001b[0m\n\u001b[0;32m--> 312\u001b[0;31m                 \u001b[0mwaiter\u001b[0m\u001b[0;34m.\u001b[0m\u001b[0macquire\u001b[0m\u001b[0;34m(\u001b[0m\u001b[0;34m)\u001b[0m\u001b[0;34m\u001b[0m\u001b[0;34m\u001b[0m\u001b[0m\n\u001b[0m\u001b[1;32m    313\u001b[0m                 \u001b[0mgotit\u001b[0m \u001b[0;34m=\u001b[0m \u001b[0;32mTrue\u001b[0m\u001b[0;34m\u001b[0m\u001b[0;34m\u001b[0m\u001b[0m\n\u001b[1;32m    314\u001b[0m             \u001b[0;32melse\u001b[0m\u001b[0;34m:\u001b[0m\u001b[0;34m\u001b[0m\u001b[0;34m\u001b[0m\u001b[0m\n",
      "\u001b[0;31mKeyboardInterrupt\u001b[0m: "
     ]
    }
   ],
   "source": [
    "campaign.run_missing_simulations(param_combination, stop_on_errors=False)"
   ]
  },
  {
   "cell_type": "code",
   "execution_count": 20,
   "id": "59892f69",
   "metadata": {},
   "outputs": [],
   "source": [
    "def get_simple_result(result_rngrun1):\n",
    "    if result_rngrun1['output']['stderr'] != \"\":\n",
    "        num_HOs = -1\n",
    "        num_RLFs = -1\n",
    "        num_HFMRs = -1\n",
    "        num_HFNPs = -1\n",
    "        num_HFJs = -1\n",
    "        num_HFLs = -1\n",
    "    else:\n",
    "        split_result_rngrun1 = result_rngrun1['output']['stdout'].split(\"\\n\")\n",
    "        num_HOs = 0\n",
    "        num_RLFs = 0\n",
    "        num_HFMRs = 0\n",
    "        num_HFNPs = 0\n",
    "        num_HFJs = 0\n",
    "        num_HFLs = 0\n",
    "        for line in split_result_rngrun1:\n",
    "            event = line.split(\":\",1)[0]\n",
    "            if event == \"Handover_start\":\n",
    "                num_HOs += 1\n",
    "            elif event == \"Handover_Failure_NoPreamble\":\n",
    "                num_HFNPs += 1\n",
    "            elif event == \"Handover_Failure_JoiningTimeout\":\n",
    "                num_HFJs += 1\n",
    "            elif event == \"Handover_Failure_MaxRach\":\n",
    "                num_HFMRs += 1\n",
    "            elif event == \"Handover_Failure_LeavingTimeout\":\n",
    "                num_HFLs += 1\n",
    "            elif event == \"Radio_link_failure_detected\":\n",
    "                num_RLFs += 1\n",
    "    return [num_HOs, num_HFJs]"
   ]
  },
  {
   "cell_type": "code",
   "execution_count": 21,
   "id": "298fd855",
   "metadata": {},
   "outputs": [
    {
     "name": "stdout",
     "output_type": "stream",
     "text": [
      "    ServingCellThreshold  NeighbourCellOffset\n",
      "0                    0.0                  0.0\n",
      "1                    0.0                  2.0\n",
      "2                    0.0                  4.0\n",
      "3                    0.0                  6.0\n",
      "4                    0.0                  8.0\n",
      "..                   ...                  ...\n",
      "95                  18.0                 10.0\n",
      "96                  18.0                 12.0\n",
      "97                  18.0                 14.0\n",
      "98                  18.0                 16.0\n",
      "99                  18.0                 18.0\n",
      "\n",
      "[100 rows x 2 columns]\n"
     ]
    }
   ],
   "source": [
    "results_rngrun1 = campaign.get_results_as_dataframe(get_simple_result, \n",
    "                                            ['num_HOs','num_HFJs'], \n",
    "                                            params = param_combination, drop_constant_columns=True)\n",
    "print(results_rngrun1)"
   ]
  },
  {
   "cell_type": "code",
   "execution_count": null,
   "id": "c45bd535",
   "metadata": {},
   "outputs": [],
   "source": [
    "results_Hys1 = results_rngrun_ave[(results_rngrun_ave['TimeToTrigger'] == 256.0)]\n",
    "plt.rcParams.update({'font.size':14})\n",
    "fig = plt.figure(figsize=(7, 5))\n",
    "ax = plt.axes()\n",
    "ax.plot(results_Hys1['Hysteresis'], results_Hys1['num_HOs'], color = 'blue')\n",
    "ax.plot(results_Hys1['Hysteresis'], results_Hys1['num_HFJs'], color = 'red')\n",
    "#ax.plot(results_Hys['Hysteresis'], results_Hys['num_RLFs'], color = 'black')\n",
    "ax.grid()\n",
    "ax.set_xlabel('Hysteresis')\n",
    "ax.set_ylabel('Number of HOs and HFJs')\n",
    "ax.set_title('TimeToTrigger = 256 ms, speed = 1 m/s')\n",
    "ax.legend(['num_HOs', 'num_HFJs','num_RLFs'])"
   ]
  },
  {
   "cell_type": "code",
   "execution_count": 28,
   "id": "ab4d656e",
   "metadata": {},
   "outputs": [
    {
     "data": {
      "text/plain": [
       "[0.0,\n",
       " 0.1,\n",
       " 0.2,\n",
       " 0.30000000000000004,\n",
       " 0.4,\n",
       " 0.5,\n",
       " 0.6000000000000001,\n",
       " 0.7000000000000001,\n",
       " 0.8,\n",
       " 0.9,\n",
       " 1.0,\n",
       " 1.1,\n",
       " 1.2000000000000002,\n",
       " 1.3,\n",
       " 1.4000000000000001,\n",
       " 1.5,\n",
       " 1.6,\n",
       " 1.7000000000000002,\n",
       " 1.8,\n",
       " 1.9000000000000001,\n",
       " 2.0,\n",
       " 2.1,\n",
       " 2.2,\n",
       " 2.3000000000000003,\n",
       " 2.4000000000000004,\n",
       " 2.5,\n",
       " 2.6,\n",
       " 2.7,\n",
       " 2.8000000000000003,\n",
       " 2.9000000000000004]"
      ]
     },
     "execution_count": 28,
     "metadata": {},
     "output_type": "execute_result"
    }
   ],
   "source": [
    "j = [j for j in np.arange(0.0, 5.0, 0.5)]\n",
    "j"
   ]
  },
  {
   "cell_type": "code",
   "execution_count": null,
   "id": "6fecc18b",
   "metadata": {},
   "outputs": [],
   "source": []
  }
 ],
 "metadata": {
  "kernelspec": {
   "display_name": "Python 3 (ipykernel)",
   "language": "python",
   "name": "python3"
  },
  "language_info": {
   "codemirror_mode": {
    "name": "ipython",
    "version": 3
   },
   "file_extension": ".py",
   "mimetype": "text/x-python",
   "name": "python",
   "nbconvert_exporter": "python",
   "pygments_lexer": "ipython3",
   "version": "3.9.13"
  }
 },
 "nbformat": 4,
 "nbformat_minor": 5
}
