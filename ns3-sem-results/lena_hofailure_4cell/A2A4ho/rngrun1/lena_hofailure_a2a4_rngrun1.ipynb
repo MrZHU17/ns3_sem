{
 "cells": [
  {
   "cell_type": "code",
   "execution_count": 6,
   "id": "45fb03c5",
   "metadata": {
    "scrolled": true
   },
   "outputs": [
    {
     "name": "stdout",
     "output_type": "stream",
     "text": [
      "--- Campaign info ---\n",
      "script: lena_hofailure\n",
      "params: {'simTime': '50', 'MacroPower': 43.0, 'SmallPower': 20.0, 'nBlocks': '1', 'nMacroEnbSites': '1', 'macroUeDensity': '1e-05', 'homeEnbDeploymentRatio': '0.2', 'homeEnbActivationRatio': '0.5', 'homeUesHomeEnbRatio': '1', 'macroEnbDlEarfcn': '100', 'homeEnbDlEarfcn': '100', 'macroEnbBandwidth': '25', 'homeEnbBandwidth': '25', 'generateRem': 'false', 'epc': 'true', 'useUdp': 'true', 'outdoorUeSpeed': 5.0, 'handoverAlgorithm': 'A3', 'Hysteresis': 3.0, 'TimeToTrigger': 256.0, 'ServingCellThreshold': 20.0, 'NeighbourCellOffset': 5.0, 'SrsPeriodicity': 80.0, 'epcDl': 'true', 'epcUl': 'true', 'fadingTrace': '', 'homeEnbTxPowerDbm': '20', 'interSiteDistance': '500', 'macroEnbTxPowerDbm': '43', 'nMacroEnbSitesX': '1', 'numBearersPerUe': '1', 'outdoorUeMaxSpeed': '0', 'outdoorUeMinSpeed': '0', 'remRbId': '-1', 'srsPeriodicity': '80'}\n",
      "HEAD: 736d80875a8a14c7d82ec804b2c90c43bcdfd718\n",
      "Runner type: <class 'sem.parallelrunner.ParallelRunner'>\n",
      "-----------\n"
     ]
    }
   ],
   "source": [
    "import sys\n",
    "sys.path.append(\"../../../../ns3_sem\")\n",
    "import sem\n",
    "import pprint\n",
    "import matplotlib.pyplot as plt\n",
    "import seaborn as sns\n",
    "import numpy\n",
    "ns_path = '../../../../../ns3-dev-hofailure_RACH'\n",
    "script = 'lena_hofailure'\n",
    "campaign_dir = 'rngrun1'\n",
    "campaign = sem.CampaignManager.new(ns_path, script, campaign_dir, overwrite=True)\n",
    "print(campaign)"
   ]
  },
  {
   "cell_type": "code",
   "execution_count": 7,
   "id": "5afa3d37",
   "metadata": {},
   "outputs": [],
   "source": [
    "import numpy as np\n",
    "param_combination = {'simTime':500, \n",
    "                     'nBlocks': 4, #list([1,2,3,4,5,6,7,8,9,10]),#round(4*nBlocks*0.1)\n",
    "                     'nMacroEnbSites': 1, #list([1,2,3,4,5,6,7,8,9,10]),\n",
    "                     'nMacroEnbSitesX': 1,\n",
    "                     'homeEnbDeploymentRatio': 1.0,\n",
    "                     'homeEnbActivationRatio': 1.0,\n",
    "                     'homeUesHomeEnbRatio': 1.0,\n",
    "                     'outdoorUeSpeed': 5.0,\n",
    "                     'handoverAlgorithm': 'A2A4',\n",
    "                     'ServingCellThreshold':[j for j in np.arange(0.0, 20.0, 1.0)],\n",
    "                     'NeighbourCellOffset':[i for i in np.arange(0.0, 20.0, 1.0)],\n",
    "                     'SrsPeriodicity': 80,\n",
    "                     'generateRem': 0,\n",
    "                     'RngRun': [1]\n",
    "                    }"
   ]
  },
  {
   "cell_type": "code",
   "execution_count": 8,
   "id": "cf973017",
   "metadata": {
    "scrolled": false
   },
   "outputs": [
    {
     "name": "stderr",
     "output_type": "stream",
     "text": [
      "Running simulations: 100%|███████████████████████████████████████████████████████████████████████████████████████████████████████████████████████████████████| 400/400 [8:02:59<00:00, 72.45s/simulation]\n"
     ]
    }
   ],
   "source": [
    "campaign.run_missing_simulations(param_combination, stop_on_errors=False)"
   ]
  },
  {
   "cell_type": "code",
   "execution_count": 20,
   "id": "59892f69",
   "metadata": {},
   "outputs": [],
   "source": [
    "def get_average_res(result):\n",
    "    if result['output']['stderr'] != \"\":\n",
    "        num_HOs = -1\n",
    "        num_RLFs = -1\n",
    "        num_HFJs = -1\n",
    "        num_HFLs = -1\n",
    "    else:\n",
    "        split_results = result['output']['stdout'].split(\"\\n\")\n",
    "        num_HOs = 0\n",
    "        num_SMhos = 0\n",
    "        num_SMho_fail = 0\n",
    "        num_MSho_fail = 0\n",
    "        num_MShos = 0\n",
    "        num_RLFs = 0\n",
    "        num_HFJs = 0\n",
    "        num_HFLs = 0\n",
    "    \n",
    "    for line in split_results:\n",
    "        num_HOs += line.count(\"Handover_start\")\n",
    "        num_SMhos += line.count(\"Small to Macro\")\n",
    "        num_SMho_fail += line.count(\"targetCellId 1\")\n",
    "        num_MShos += line.count(\"Macro to Small\")\n",
    "        num_HFJs += line.count(\"Handover_Failure_JoiningTimeout\")\n",
    "        num_RLFs += line.count(\"Radio_link_failure_detected\")\n",
    "        for\n",
    "    #num_MSho_fail = num_HFJs - num_SMho_fail + num_RLFs\n",
    "    #num_MShos = num_MShos + num_RLFs\n",
    "    \n",
    "    return [num_HOs, num_SMhos, num_SMho_fail, \n",
    "            num_MShos, num_MSho_fail, num_RLFs, num_HFJs, num_HFLs]"
   ]
  },
  {
   "cell_type": "code",
   "execution_count": 21,
   "id": "298fd855",
   "metadata": {},
   "outputs": [
    {
     "name": "stdout",
     "output_type": "stream",
     "text": [
      "    ServingCellThreshold  NeighbourCellOffset\n",
      "0                    0.0                  0.0\n",
      "1                    0.0                  2.0\n",
      "2                    0.0                  4.0\n",
      "3                    0.0                  6.0\n",
      "4                    0.0                  8.0\n",
      "..                   ...                  ...\n",
      "95                  18.0                 10.0\n",
      "96                  18.0                 12.0\n",
      "97                  18.0                 14.0\n",
      "98                  18.0                 16.0\n",
      "99                  18.0                 18.0\n",
      "\n",
      "[100 rows x 2 columns]\n"
     ]
    }
   ],
   "source": [
    "results_rngrun1 = campaign.get_results_as_dataframe(get_simple_result, \n",
    "                                            ['num_HOs','num_HFJs'], \n",
    "                                            params = param_combination, drop_constant_columns=True)\n",
    "print(results_rngrun1)"
   ]
  },
  {
   "cell_type": "code",
   "execution_count": null,
   "id": "c45bd535",
   "metadata": {},
   "outputs": [],
   "source": [
    "results_Hys1 = results_rngrun_ave[(results_rngrun_ave['TimeToTrigger'] == 256.0)]\n",
    "plt.rcParams.update({'font.size':14})\n",
    "fig = plt.figure(figsize=(7, 5))\n",
    "ax = plt.axes()\n",
    "ax.plot(results_Hys1['Hysteresis'], results_Hys1['num_HOs'], color = 'blue')\n",
    "ax.plot(results_Hys1['Hysteresis'], results_Hys1['num_HFJs'], color = 'red')\n",
    "#ax.plot(results_Hys['Hysteresis'], results_Hys['num_RLFs'], color = 'black')\n",
    "ax.grid()\n",
    "ax.set_xlabel('Hysteresis')\n",
    "ax.set_ylabel('Number of HOs and HFJs')\n",
    "ax.set_title('TimeToTrigger = 256 ms, speed = 1 m/s')\n",
    "ax.legend(['num_HOs', 'num_HFJs','num_RLFs'])"
   ]
  },
  {
   "cell_type": "code",
   "execution_count": 28,
   "id": "ab4d656e",
   "metadata": {},
   "outputs": [
    {
     "data": {
      "text/plain": [
       "[0.0,\n",
       " 0.1,\n",
       " 0.2,\n",
       " 0.30000000000000004,\n",
       " 0.4,\n",
       " 0.5,\n",
       " 0.6000000000000001,\n",
       " 0.7000000000000001,\n",
       " 0.8,\n",
       " 0.9,\n",
       " 1.0,\n",
       " 1.1,\n",
       " 1.2000000000000002,\n",
       " 1.3,\n",
       " 1.4000000000000001,\n",
       " 1.5,\n",
       " 1.6,\n",
       " 1.7000000000000002,\n",
       " 1.8,\n",
       " 1.9000000000000001,\n",
       " 2.0,\n",
       " 2.1,\n",
       " 2.2,\n",
       " 2.3000000000000003,\n",
       " 2.4000000000000004,\n",
       " 2.5,\n",
       " 2.6,\n",
       " 2.7,\n",
       " 2.8000000000000003,\n",
       " 2.9000000000000004]"
      ]
     },
     "execution_count": 28,
     "metadata": {},
     "output_type": "execute_result"
    }
   ],
   "source": [
    "j = [j for j in np.arange(0.0, 5.0, 0.5)]\n",
    "j"
   ]
  },
  {
   "cell_type": "code",
   "execution_count": 2,
   "id": "6fecc18b",
   "metadata": {
    "scrolled": true
   },
   "outputs": [
    {
     "data": {
      "text/plain": [
       "[0.0, 0.5, 1.0, 1.5, 2.0, 2.5, 3.0, 3.5, 4.0, 4.5]"
      ]
     },
     "execution_count": 2,
     "metadata": {},
     "output_type": "execute_result"
    }
   ],
   "source": [
    "import numpy as np\n",
    "[j for j in np.arange(0.0, 5.0, 0.5)]"
   ]
  },
  {
   "cell_type": "code",
   "execution_count": 3,
   "id": "ef5fb312",
   "metadata": {},
   "outputs": [
    {
     "data": {
      "text/plain": [
       "[0.0, 1.0, 2.0, 3.0, 4.0, 5.0, 6.0, 7.0, 8.0, 9.0]"
      ]
     },
     "execution_count": 3,
     "metadata": {},
     "output_type": "execute_result"
    }
   ],
   "source": [
    "[j for j in np.arange(0.0, 10.0, 1.0)]"
   ]
  },
  {
   "cell_type": "code",
   "execution_count": null,
   "id": "bc5af1c9",
   "metadata": {},
   "outputs": [],
   "source": []
  }
 ],
 "metadata": {
  "kernelspec": {
   "display_name": "Python 3 (ipykernel)",
   "language": "python",
   "name": "python3"
  },
  "language_info": {
   "codemirror_mode": {
    "name": "ipython",
    "version": 3
   },
   "file_extension": ".py",
   "mimetype": "text/x-python",
   "name": "python",
   "nbconvert_exporter": "python",
   "pygments_lexer": "ipython3",
   "version": "3.9.13"
  }
 },
 "nbformat": 4,
 "nbformat_minor": 5
}
