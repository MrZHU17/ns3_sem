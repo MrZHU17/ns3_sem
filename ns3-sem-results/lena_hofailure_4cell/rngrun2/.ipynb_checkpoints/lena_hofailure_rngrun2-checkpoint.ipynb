{
 "cells": [
  {
   "cell_type": "code",
   "execution_count": 3,
   "id": "d542e137",
   "metadata": {},
   "outputs": [
    {
     "ename": "ModuleNotFoundError",
     "evalue": "No module named 'sem'",
     "output_type": "error",
     "traceback": [
      "\u001b[0;31m---------------------------------------------------------------------------\u001b[0m",
      "\u001b[0;31mModuleNotFoundError\u001b[0m                       Traceback (most recent call last)",
      "\u001b[0;32m/tmp/ipykernel_21491/386359064.py\u001b[0m in \u001b[0;36m<module>\u001b[0;34m\u001b[0m\n\u001b[1;32m      2\u001b[0m \u001b[0;32mimport\u001b[0m \u001b[0msys\u001b[0m\u001b[0;34m\u001b[0m\u001b[0;34m\u001b[0m\u001b[0m\n\u001b[1;32m      3\u001b[0m \u001b[0msys\u001b[0m\u001b[0;34m.\u001b[0m\u001b[0mpath\u001b[0m\u001b[0;34m.\u001b[0m\u001b[0mappend\u001b[0m\u001b[0;34m(\u001b[0m\u001b[0;34m\"../../../ns3_sem\"\u001b[0m\u001b[0;34m)\u001b[0m\u001b[0;34m\u001b[0m\u001b[0;34m\u001b[0m\u001b[0m\n\u001b[0;32m----> 4\u001b[0;31m \u001b[0;32mimport\u001b[0m \u001b[0msem\u001b[0m\u001b[0;34m\u001b[0m\u001b[0;34m\u001b[0m\u001b[0m\n\u001b[0m\u001b[1;32m      5\u001b[0m \u001b[0;32mimport\u001b[0m \u001b[0mpprint\u001b[0m\u001b[0;34m\u001b[0m\u001b[0;34m\u001b[0m\u001b[0m\n\u001b[1;32m      6\u001b[0m \u001b[0;32mimport\u001b[0m \u001b[0mmatplotlib\u001b[0m\u001b[0;34m.\u001b[0m\u001b[0mpyplot\u001b[0m \u001b[0;32mas\u001b[0m \u001b[0mplt\u001b[0m\u001b[0;34m\u001b[0m\u001b[0;34m\u001b[0m\u001b[0m\n",
      "\u001b[0;31mModuleNotFoundError\u001b[0m: No module named 'sem'"
     ]
    }
   ],
   "source": [
    "# Import the ns3 source script\n",
    "import sys\n",
    "sys.path.append(\"../../../ns3_sem\")\n",
    "import sem\n",
    "import pprint\n",
    "import matplotlib.pyplot as plt\n",
    "import seaborn as sns\n",
    "import numpy\n",
    "ns_path = '../../../../ns3-dev-hofailure_RACH'\n",
    "script = 'lena_hofailure'\n",
    "campaign_dir = 'rngrun2'\n",
    "campaign = sem.CampaignManager.new(ns_path, script, campaign_dir, overwrite=True)\n",
    "print(campaign)"
   ]
  },
  {
   "cell_type": "code",
   "execution_count": null,
   "id": "921ac577",
   "metadata": {},
   "outputs": [],
   "source": [
    "# Params\n",
    "import numpy as np\n",
    "param_combination = {'simTime':1000, \n",
    "                     'nBlocks': 4, #list([1,2,3,4,5,6,7,8,9,10]),#round(4*nBlocks*0.1)\n",
    "                     'nMacroEnbSites': 1, #list([1,2,3,4,5,6,7,8,9,10]),\n",
    "                     'nMacroEnbSitesX': 1,\n",
    "                     'macroUeDensity': 0.00001,#1000000 [p * 0.5 for p in range(0.0001, 0.01)]\n",
    "                     'homeEnbDeploymentRatio': 1.0,\n",
    "                     'homeEnbActivationRatio': 1.0,\n",
    "                     'homeUesHomeEnbRatio': 1.0,\n",
    "                     'outdoorUeMinSpeed': 5.0,#[j * 2.0 for j in range(2.0, 10.0)]\n",
    "                     'outdoorUeMaxSpeed': 5.0,\n",
    "                     'handoverAlgorithm': 'A3',\n",
    "                     'Hysteresis': [j * 1.0 for j in np.arange(0.0, 3.2, 0.2)],\n",
    "                     'TimeToTrigger':  list([0.0, 40.0, 64.0, 80.0, 100.0, 128.0, 160.0, 256.0, 320.0, 480.0, 512.0]),\n",
    "                     'SrsPeriodicity': 80,\n",
    "                     'generateRem': 0,\n",
    "                     'RngRun': [2]\n",
    "                    }\n",
    "\n",
    "# Running the simulation with the params\n",
    "campaign.run_missing_simulations(param_combination, stop_on_errors=False)"
   ]
  },
  {
   "cell_type": "code",
   "execution_count": 1,
   "id": "07b2b35b",
   "metadata": {},
   "outputs": [
    {
     "ename": "NameError",
     "evalue": "name 'campaign' is not defined",
     "output_type": "error",
     "traceback": [
      "\u001b[0;31m---------------------------------------------------------------------------\u001b[0m",
      "\u001b[0;31mNameError\u001b[0m                                 Traceback (most recent call last)",
      "\u001b[0;32m/tmp/ipykernel_5369/718496852.py\u001b[0m in \u001b[0;36m<module>\u001b[0;34m\u001b[0m\n\u001b[1;32m     35\u001b[0m \u001b[0;31m# the result of generate dataframe\u001b[0m\u001b[0;34m\u001b[0m\u001b[0;34m\u001b[0m\u001b[0m\n\u001b[1;32m     36\u001b[0m \u001b[0;34m\u001b[0m\u001b[0m\n\u001b[0;32m---> 37\u001b[0;31m results2 = campaign.get_results_as_dataframe(get_average_throughput, \n\u001b[0m\u001b[1;32m     38\u001b[0m                                             \u001b[0;34m[\u001b[0m\u001b[0;34m'num_HOs'\u001b[0m\u001b[0;34m,\u001b[0m \u001b[0;34m'num_RLFs'\u001b[0m\u001b[0;34m,\u001b[0m\u001b[0;34m'num_HFNPs'\u001b[0m\u001b[0;34m,\u001b[0m\u001b[0;34m'num_HFJs'\u001b[0m\u001b[0;34m,\u001b[0m\u001b[0;34m'num_HFMRs'\u001b[0m\u001b[0;34m,\u001b[0m\u001b[0;34m'num_HFLs'\u001b[0m\u001b[0;34m]\u001b[0m\u001b[0;34m,\u001b[0m\u001b[0;34m\u001b[0m\u001b[0;34m\u001b[0m\u001b[0m\n\u001b[1;32m     39\u001b[0m                                             params = param_combination, drop_constant_columns=True)\n",
      "\u001b[0;31mNameError\u001b[0m: name 'campaign' is not defined"
     ]
    }
   ],
   "source": [
    "# Summarize the result\n",
    "\n",
    "def get_average_throughput(result2):\n",
    "    if result2['output']['stderr'] != \"\":\n",
    "        num_HOs = -1\n",
    "        num_RLFs = -1\n",
    "        num_HFMRs = -1\n",
    "        num_HFNPs = -1\n",
    "        num_HFJs = -1\n",
    "        num_HFLs = -1\n",
    "    else:\n",
    "        split_results = result2['output']['stdout'].split(\"\\n\")\n",
    "        num_HOs = 0\n",
    "        num_RLFs = 0\n",
    "        num_HFMRs = 0\n",
    "        num_HFNPs = 0\n",
    "        num_HFJs = 0\n",
    "        num_HFLs = 0\n",
    "        for line in split_results:\n",
    "            event = line.split(\":\",1)[0]\n",
    "            if event == \"Handover_start\":\n",
    "                num_HOs += 1\n",
    "            elif event == \"Handover_Failure_NoPreamble\":\n",
    "                num_HFNPs += 1\n",
    "            elif event == \"Handover_Failure_JoiningTimeout\":\n",
    "                num_HFJs += 1\n",
    "            elif event == \"Handover_Failure_MaxRach\":\n",
    "                num_HFMRs += 1\n",
    "            elif event == \"Handover_Failure_LeavingTimeout\":\n",
    "                num_HFLs += 1\n",
    "            elif event == \"Radio_link_failure_detected\":\n",
    "                num_RLFs += 1\n",
    "    return [num_HOs, num_RLFs, num_HFNPs, num_HFJs, num_HFMRs, num_HFLs]\n",
    "\n",
    "# the result of generate dataframe\n",
    "\n",
    "results2 = campaign.get_results_as_dataframe(get_average_throughput, \n",
    "                                            ['num_HOs', 'num_RLFs','num_HFNPs','num_HFJs','num_HFMRs','num_HFLs'], \n",
    "                                            params = param_combination, drop_constant_columns=True)\n",
    "print(results)\n",
    "\n",
    "# Plot the result\n",
    "\n",
    "#import pandas as pd\n",
    "#import numpy as np\n",
    "#import random\n",
    "\n",
    "#results.plot.bar('Hysteresis','num_HFJs')\n"
   ]
  },
  {
   "cell_type": "code",
   "execution_count": null,
   "id": "96f5136e",
   "metadata": {},
   "outputs": [],
   "source": []
  }
 ],
 "metadata": {
  "kernelspec": {
   "display_name": "Python 3 (ipykernel)",
   "language": "python",
   "name": "python3"
  },
  "language_info": {
   "codemirror_mode": {
    "name": "ipython",
    "version": 3
   },
   "file_extension": ".py",
   "mimetype": "text/x-python",
   "name": "python",
   "nbconvert_exporter": "python",
   "pygments_lexer": "ipython3",
   "version": "3.9.13"
  }
 },
 "nbformat": 4,
 "nbformat_minor": 5
}
