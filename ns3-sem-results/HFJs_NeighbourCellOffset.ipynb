{
 "cells": [
  {
   "cell_type": "code",
   "execution_count": null,
   "id": "2b0e78e6",
   "metadata": {},
   "outputs": [],
   "source": [
    "import sys\n",
    "sys.path.append(\"../../sem\")\n",
    "import sem\n",
    "import pprint\n",
    "import matplotlib.pyplot as plt\n",
    "import seaborn as sns\n",
    "import numpy\n",
    "ns_path = '../../ns3-dev-hofailure_RACH'\n",
    "script = 'hofailure_output'\n",
    "campaign_dir = '../HOF_joiningtimeout_test'\n",
    "campaign = sem.CampaignManager.new(ns_path, script, campaign_dir, overwrite=True)\n",
    "print(campaign)"
   ]
  },
  {
   "cell_type": "code",
   "execution_count": null,
   "id": "1405b40e",
   "metadata": {},
   "outputs": [],
   "source": [
    "param_combination = {'simTime':40, \n",
    "                     'numberOfUes': 20, \n",
    "                     'speed':16.0,\n",
    "                     'ServingCellThreshold':[j * 0.5 for j in range(0, 20)],\n",
    "                     'NeighbourCellOffset':[k * 0.1 for k in range(0, 3)],\n",
    "                     'RngRun': [1]\n",
    "                    }"
   ]
  },
  {
   "cell_type": "code",
   "execution_count": null,
   "id": "743494e7",
   "metadata": {},
   "outputs": [],
   "source": [
    "campaign.run_missing_simulations(param_combination, stop_on_errors=False)"
   ]
  },
  {
   "cell_type": "code",
   "execution_count": null,
   "id": "7a2d5943",
   "metadata": {},
   "outputs": [],
   "source": [
    "def get_average_throughput(result):    \n",
    "    if result['output']['stderr'] != \"\":\n",
    "        num_HOs = -1\n",
    "        num_RLFs = -1\n",
    "        num_HFMRs = -1\n",
    "        num_HFNPs = -1\n",
    "        num_HFJs = -1\n",
    "        num_HFLs = -1\n",
    "    else:\n",
    "        split_results = result['output']['stdout'].split(\"\\n\")\n",
    "        num_HOs = 0\n",
    "        num_RLFs = 0\n",
    "        num_HFMRs = 0\n",
    "        num_HFNPs = 0\n",
    "        num_HFJs = 0\n",
    "        num_HFLs = 0\n",
    "        for line in split_results:\n",
    "            event = line.split(\":\")[0]\n",
    "            if event == \"HO_start\":\n",
    "                num_HOs += 1\n",
    "            elif event == \"Radio link failure detected\":\n",
    "                num_RLFs += 1\n",
    "            elif event == \"Handover Failure Max Rach\":\n",
    "                num_HFMRs += 1\n",
    "            elif event == \"Handover Failure No Preamble\":\n",
    "                num_HFNPs += 1\n",
    "            elif event == \"Handover Failure Joining\":\n",
    "                num_HFJs += 1\t\n",
    "            elif event == \"Handover Failure Leaving\":\n",
    "                num_HFLs += 1\n",
    "    return [num_HOs, num_RLFs, num_HFMRs, num_HFNPs, num_HFJs, num_HFLs]"
   ]
  },
  {
   "cell_type": "code",
   "execution_count": null,
   "id": "4b5065f7",
   "metadata": {},
   "outputs": [],
   "source": [
    "results = campaign.get_results_as_dataframe(get_average_throughput, \n",
    "                                            ['Num_HOs', 'Num_RLFs', 'Num_HFMRs', 'Num_HFNPs', 'Num_HFJs', 'Num_HFLs'], \n",
    "                                            params = param_combination, drop_constant_columns=True)\n",
    "print(results)"
   ]
  }
 ],
 "metadata": {
  "kernelspec": {
   "display_name": "Python 3 (ipykernel)",
   "language": "python",
   "name": "python3"
  },
  "language_info": {
   "codemirror_mode": {
    "name": "ipython",
    "version": 3
   },
   "file_extension": ".py",
   "mimetype": "text/x-python",
   "name": "python",
   "nbconvert_exporter": "python",
   "pygments_lexer": "ipython3",
   "version": "3.9.13"
  }
 },
 "nbformat": 4,
 "nbformat_minor": 5
}
