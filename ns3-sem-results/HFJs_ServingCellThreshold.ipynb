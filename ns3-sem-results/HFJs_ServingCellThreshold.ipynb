{
 "cells": [
  {
   "cell_type": "markdown",
   "id": "2ce2107a",
   "metadata": {},
   "source": [
    "# Import the ns3 source script"
   ]
  },
  {
   "cell_type": "code",
   "execution_count": 53,
   "id": "03600836",
   "metadata": {
    "scrolled": false
   },
   "outputs": [
    {
     "name": "stderr",
     "output_type": "stream",
     "text": [
      "Building ns-3: 100%|████████████████████████████████████████████████████████████████████████████████████████████████████████████████| [00:09<00:00]\n"
     ]
    },
    {
     "name": "stdout",
     "output_type": "stream",
     "text": [
      "--- Campaign info ---\n",
      "script: hofailure_output\n",
      "params: {'simTime': 80.0, 'numberOfUes': 1.0, 'speed': 2.0, 'handoverAlgorithm': 'A3', 'Hysteresis': 3.0, 'TimeToTrigger': 256.0, 'ServingCellThreshold': 20.0, 'NeighbourCellOffset': 5.0}\n",
      "HEAD: 3b9db4dd0676e2b185b796dd9273979d6d7eda0e\n",
      "Runner type: <class 'sem.parallelrunner.ParallelRunner'>\n",
      "-----------\n"
     ]
    }
   ],
   "source": [
    "import sys\n",
    "sys.path.append(\"../../ns3_sem\")\n",
    "import sem\n",
    "import pprint\n",
    "import matplotlib.pyplot as plt\n",
    "import seaborn as sns\n",
    "import numpy\n",
    "ns_path = '../../ns3-dev-hofailure_RACH'\n",
    "script = 'hofailure_output'\n",
    "campaign_dir = '../HOF_joiningtimeout_test'\n",
    "campaign = sem.CampaignManager.new(ns_path, script, campaign_dir, overwrite=True)\n",
    "print(campaign)"
   ]
  },
  {
   "cell_type": "markdown",
   "id": "508cbffd",
   "metadata": {},
   "source": [
    "# Params"
   ]
  },
  {
   "cell_type": "code",
   "execution_count": 54,
   "id": "c3a6dbf4",
   "metadata": {
    "scrolled": false
   },
   "outputs": [],
   "source": [
    "param_combination = {'simTime':80, \n",
    "                     'numberOfUes': 1, \n",
    "                     'speed': 2.0,#[1.0, 2.0, 3.0, 4.0, 5.0, 6.0, 7.0, 8.0, 9.0, 10.0],\n",
    "                     'handoverAlgorithm': 'A3',\n",
    "                     'Hysteresis':  [i * 0.1 for i in range(0, 31)], \n",
    "                     'TimeToTrigger': list([0.0, 40.0, 64.0, 80.0, 100.0, 128.0, 160.0, 256.0, 320.0, 480.0, 640.0, 1024.0, 1280.0, 2560.0, 5120.0]),\n",
    "                     'ServingCellThreshold': 20, #[j * 0.5 for j in range(0, 61)],\n",
    "                     'NeighbourCellOffset':1.0,\n",
    "                     'RngRun': [1]\n",
    "                    }"
   ]
  },
  {
   "cell_type": "markdown",
   "id": "0fa845d8",
   "metadata": {},
   "source": [
    "# Running the simulation with the params"
   ]
  },
  {
   "cell_type": "code",
   "execution_count": 55,
   "id": "6dd2add3",
   "metadata": {
    "scrolled": false
   },
   "outputs": [
    {
     "name": "stderr",
     "output_type": "stream",
     "text": [
      "Running simulations: 100%|███████████████████████████████████████████████████████████████████████████████| 465/465 [11:08<00:00,  1.44s/simulation]\n"
     ]
    }
   ],
   "source": [
    "campaign.run_missing_simulations(param_combination, stop_on_errors=False)"
   ]
  },
  {
   "cell_type": "markdown",
   "id": "82553310",
   "metadata": {},
   "source": [
    "# Summarize the result"
   ]
  },
  {
   "cell_type": "code",
   "execution_count": 56,
   "id": "241cb924",
   "metadata": {},
   "outputs": [],
   "source": [
    "def get_average_throughput(result):\n",
    "    if result['output']['stderr'] != \"\":\n",
    "        num_HOs = -1\n",
    "        num_RLFs = -1\n",
    "        num_HFMRs = -1\n",
    "        num_HFNPs = -1\n",
    "        num_HFJs = -1\n",
    "        num_HFLs = -1\n",
    "    else:\n",
    "        split_results = result['output']['stdout'].split(\"\\n\")\n",
    "        num_HOs = 0\n",
    "        num_RLFs = 0\n",
    "        num_HFMRs = 0\n",
    "        num_HFNPs = 0\n",
    "        num_HFJs = 0\n",
    "        num_HFLs = 0\n",
    "        for line in split_results:\n",
    "            event = line.split(\":\")[0]\n",
    "            if event == \"HO_start\":\n",
    "                num_HOs += 1\n",
    "            elif event == \"RLF_detected\":\n",
    "                num_RLFs += 1\n",
    "            elif event == \"HO_Failure_NoPreamble\":\n",
    "                num_HFNPs += 1\n",
    "            elif event == \"HO_Failure_JoiningTimeout\":\n",
    "                num_HFJs += 1\n",
    "            elif event == \"HO_Failure_MaxRach\":\n",
    "                num_HFMRs += 1\n",
    "            elif event == \"HO_Failure_Leaving\":\n",
    "                num_HFLs += 1\n",
    "    return [num_HOs, num_RLFs, num_HFNPs, num_HFJs, num_HFMRs, num_HFLs]"
   ]
  },
  {
   "cell_type": "markdown",
   "id": "33b3df4e",
   "metadata": {},
   "source": [
    "# Generate dataframe of the result"
   ]
  },
  {
   "cell_type": "code",
   "execution_count": 57,
   "id": "593c54e1",
   "metadata": {},
   "outputs": [
    {
     "name": "stdout",
     "output_type": "stream",
     "text": [
      "     Hysteresis  TimeToTrigger  num_HOs  num_RLFs  num_HFJs\n",
      "0           0.0            0.0        4         0         0\n",
      "1           0.0           40.0        4         0         0\n",
      "2           0.0           64.0        4         0         0\n",
      "3           0.0           80.0        4         0         0\n",
      "4           0.0          100.0        4         0         0\n",
      "..          ...            ...      ...       ...       ...\n",
      "460         3.0          640.0        4         0         4\n",
      "461         3.0         1024.0        2         3         2\n",
      "462         3.0         1280.0        1         3         1\n",
      "463         3.0         2560.0        0         4         0\n",
      "464         3.0         5120.0        0         4         0\n",
      "\n",
      "[465 rows x 5 columns]\n"
     ]
    }
   ],
   "source": [
    "results = campaign.get_results_as_dataframe(get_average_throughput, \n",
    "                                            ['num_HOs', 'num_RLFs','num_HFNPs','num_HFJs','num_HFMRs','num_HFLs'], \n",
    "                                            params = param_combination, drop_constant_columns=True)\n",
    "print(results)"
   ]
  },
  {
   "cell_type": "markdown",
   "id": "bcdee482",
   "metadata": {},
   "source": [
    "# Plot the result"
   ]
  },
  {
   "cell_type": "code",
   "execution_count": 60,
   "id": "9d48dfc1",
   "metadata": {},
   "outputs": [
    {
     "data": {
      "text/plain": [
       "Text(0.5, 1.0, 'Number of HOs, RLFs, HFNPs, HFJs (TimeToTrigger = 256 ms, speed = 10 m/s)')"
      ]
     },
     "execution_count": 60,
     "metadata": {},
     "output_type": "execute_result"
    },
    {
     "data": {
      "image/png": "[encoded data removed]",
      "text/plain": [
       "<Figure size 1000x400 with 1 Axes>"
      ]
     },
     "metadata": {},
     "output_type": "display_data"
    }
   ],
   "source": [
    "results_Hys = results[#(results['speed'] == 5.0), \n",
    "                      (results['TimeToTrigger'] == 100.0)]\n",
    "#results[(results['NeighbourCellOffset'] == 0.5)]\n",
    "fig = plt.figure(figsize=(10, 4))\n",
    "ax = plt.axes()\n",
    "ax.plot(results_Hys['Hysteresis'], results_Hys['num_HOs'], color = 'black')\n",
    "ax.plot(results_Hys['Hysteresis'], results_Hys['num_RLFs'], color = 'red')\n",
    "ax.plot(results_Hys['Hysteresis'], results_Hys['num_HFJs'], color = 'green')\n",
    "#ax.plot(results_Hys['Hysteresis'], results_Hys['Num_HFNPs'], color = 'blue')\n",
    "ax.grid()\n",
    "ax.set_xlabel('Hysteresis')\n",
    "ax.set_ylabel('Number of HOs, RLFs, HFNPs, HFJs')\n",
    "ax.set_title('Number of HOs, RLFs, HFNPs, HFJs (TimeToTrigger = 256 ms, speed = 10 m/s)')\n",
    "#ax.legend(['Num_HOs', 'Num_RLFs','Num_HFJs'])#'Num_HFNPs'"
   ]
  },
  {
   "cell_type": "code",
   "execution_count": null,
   "id": "1082df11",
   "metadata": {},
   "outputs": [],
   "source": []
  }
 ],
 "metadata": {
  "kernelspec": {
   "display_name": "Python 3 (ipykernel)",
   "language": "python",
   "name": "python3"
  },
  "language_info": {
   "codemirror_mode": {
    "name": "ipython",
    "version": 3
   },
   "file_extension": ".py",
   "mimetype": "text/x-python",
   "name": "python",
   "nbconvert_exporter": "python",
   "pygments_lexer": "ipython3",
   "version": "3.9.13"
  }
 },
 "nbformat": 4,
 "nbformat_minor": 5
}
