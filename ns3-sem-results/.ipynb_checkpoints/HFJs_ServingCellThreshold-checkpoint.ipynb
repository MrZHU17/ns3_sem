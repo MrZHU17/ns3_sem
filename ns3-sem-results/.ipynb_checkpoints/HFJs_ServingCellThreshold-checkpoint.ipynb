{
 "cells": [
  {
   "cell_type": "markdown",
   "id": "2ce2107a",
   "metadata": {},
   "source": [
    "# Import the ns3 source script"
   ]
  },
  {
   "cell_type": "code",
   "execution_count": 41,
   "id": "03600836",
   "metadata": {
    "scrolled": true
   },
   "outputs": [
    {
     "name": "stderr",
     "output_type": "stream",
     "text": [
      "Building ns-3: 100%|██████████| [00:05<00:00]\n"
     ]
    },
    {
     "name": "stdout",
     "output_type": "stream",
     "text": [
      "--- Campaign info ---\n",
      "script: hofailure_output\n",
      "params: {'simTime': 30.0, 'numberOfUes': 20.0, 'speed': 16.0, 'ServingCellThreshold': 17.0, 'NeighbourCellOffset': 2.0}\n",
      "HEAD: f52bb473b62c29a5d526c845b3611c82174d577c\n",
      "Runner type: <class 'sem.parallelrunner.ParallelRunner'>\n",
      "-----------\n"
     ]
    }
   ],
   "source": [
    "import sys\n",
    "sys.path.append(\"../../sem\")\n",
    "import sem\n",
    "import pprint\n",
    "import matplotlib.pyplot as plt\n",
    "import seaborn as sns\n",
    "import numpy\n",
    "ns_path = '../../ns3-dev-hofailure_RACH'\n",
    "script = 'hofailure_output'\n",
    "campaign_dir = '../HOF_joiningtimeout_test'\n",
    "campaign = sem.CampaignManager.new(ns_path, script, campaign_dir, overwrite=True)\n",
    "print(campaign)"
   ]
  },
  {
   "cell_type": "markdown",
   "id": "508cbffd",
   "metadata": {},
   "source": [
    "# Params"
   ]
  },
  {
   "cell_type": "code",
   "execution_count": 42,
   "id": "c3a6dbf4",
   "metadata": {
    "scrolled": false
   },
   "outputs": [],
   "source": [
    "param_combination = {'simTime':40, \n",
    "                     'numberOfUes': 20, \n",
    "                     'speed':16.0,\n",
    "                     'ServingCellThreshold':[j * 0.5 for j in range(0, 20)],\n",
    "                     'NeighbourCellOffset':0.5,\n",
    "                     'RngRun': [1]\n",
    "                    }"
   ]
  },
  {
   "cell_type": "markdown",
   "id": "0fa845d8",
   "metadata": {},
   "source": [
    "# Running the simulation with the params"
   ]
  },
  {
   "cell_type": "code",
   "execution_count": 43,
   "id": "6dd2add3",
   "metadata": {
    "scrolled": false
   },
   "outputs": [
    {
     "name": "stderr",
     "output_type": "stream",
     "text": [
      "Running simulations: 100%|██████████| 57/57 [13:21<00:00, 14.05s/simulation]  \n"
     ]
    }
   ],
   "source": [
    "campaign.run_missing_simulations(param_combination, stop_on_errors=False)"
   ]
  },
  {
   "cell_type": "code",
   "execution_count": null,
   "id": "d0c18cdb",
   "metadata": {},
   "outputs": [],
   "source": []
  },
  {
   "cell_type": "markdown",
   "id": "82553310",
   "metadata": {},
   "source": [
    "# Summarize the result"
   ]
  },
  {
   "cell_type": "code",
   "execution_count": 45,
   "id": "241cb924",
   "metadata": {},
   "outputs": [],
   "source": [
    "def get_average_throughput(result):    \n",
    "    if result['output']['stderr'] != \"\":\n",
    "        num_HOs = -1\n",
    "        num_RLFs = -1\n",
    "        num_HFMRs = -1\n",
    "        num_HFNPs = -1\n",
    "        num_HFJs = -1\n",
    "        num_HFLs = -1\n",
    "    else:\n",
    "        split_results = result['output']['stdout'].split(\"\\n\")\n",
    "        num_HOs = 0\n",
    "        num_RLFs = 0\n",
    "        num_HFMRs = 0\n",
    "        num_HFNPs = 0\n",
    "        num_HFJs = 0\n",
    "        num_HFLs = 0\n",
    "        for line in split_results:\n",
    "            event = line.split(\":\")[0]\n",
    "            if event == \"HO_start\":\n",
    "                num_HOs += 1\n",
    "            elif event == \"Radio link failure detected\":\n",
    "                num_RLFs += 1\n",
    "            elif event == \"Handover Failure Max Rach\":\n",
    "                num_HFMRs += 1\n",
    "            elif event == \"Handover Failure No Preamble\":\n",
    "                num_HFNPs += 1\n",
    "            elif event == \"Handover Failure Joining\":\n",
    "                num_HFJs += 1\t\n",
    "            elif event == \"Handover Failure Leaving\":\n",
    "                num_HFLs += 1\n",
    "    return [num_HOs, num_RLFs, num_HFMRs, num_HFNPs, num_HFJs, num_HFLs]"
   ]
  },
  {
   "cell_type": "code",
   "execution_count": 47,
   "id": "593c54e1",
   "metadata": {},
   "outputs": [
    {
     "name": "stdout",
     "output_type": "stream",
     "text": [
      "    ServingCellThreshold  NeighbourCellOffset  Num_RLFs  Num_HFJs\n",
      "0                    0.5                  0.0        32        26\n",
      "1                    0.5                  0.1        32        26\n",
      "2                    0.5                  0.2        32        26\n",
      "3                    1.0                  0.0        32        26\n",
      "4                    1.0                  0.1        32        26\n",
      "5                    1.0                  0.2        32        26\n",
      "6                    1.5                  0.0        32        26\n",
      "7                    1.5                  0.1        32        26\n",
      "8                    1.5                  0.2        32        26\n",
      "9                    2.0                  0.0        32        26\n",
      "10                   2.0                  0.1        32        26\n",
      "11                   2.0                  0.2        32        26\n",
      "12                   2.5                  0.0        32        26\n",
      "13                   2.5                  0.1        32        26\n",
      "14                   2.5                  0.2        32        26\n",
      "15                   3.0                  0.0        32        26\n",
      "16                   3.0                  0.1        32        26\n",
      "17                   3.0                  0.2        32        26\n",
      "18                   3.5                  0.0        32        26\n",
      "19                   3.5                  0.1        32        26\n",
      "20                   3.5                  0.2        32        26\n",
      "21                   4.0                  0.0        32        26\n",
      "22                   4.0                  0.1        32        26\n",
      "23                   4.0                  0.2        32        26\n",
      "24                   4.5                  0.0        32        26\n",
      "25                   4.5                  0.1        32        26\n",
      "26                   4.5                  0.2        32        26\n",
      "27                   5.0                  0.0        29        23\n",
      "28                   5.0                  0.1        29        23\n",
      "29                   5.0                  0.2        29        23\n",
      "30                   5.5                  0.0        29        23\n",
      "31                   5.5                  0.1        29        23\n",
      "32                   5.5                  0.2        29        23\n",
      "33                   6.0                  0.0        29        23\n",
      "34                   6.0                  0.1        29        23\n",
      "35                   6.0                  0.2        29        23\n",
      "36                   6.5                  0.0        29        23\n",
      "37                   6.5                  0.1        29        23\n",
      "38                   6.5                  0.2        29        23\n",
      "39                   7.0                  0.0        29        23\n",
      "40                   7.0                  0.1        29        23\n",
      "41                   7.0                  0.2        29        23\n",
      "42                   7.5                  0.0        29        23\n",
      "43                   7.5                  0.1        29        23\n",
      "44                   7.5                  0.2        29        23\n",
      "45                   8.0                  0.0        29        23\n",
      "46                   8.0                  0.1        29        23\n",
      "47                   8.0                  0.2        29        23\n",
      "48                   8.5                  0.0        29        23\n",
      "49                   8.5                  0.1        29        23\n",
      "50                   8.5                  0.2        29        23\n",
      "51                   9.0                  0.0        29        23\n",
      "52                   9.0                  0.1        29        23\n",
      "53                   9.0                  0.2        29        23\n",
      "54                   9.5                  0.0        29        23\n",
      "55                   9.5                  0.1        29        23\n",
      "56                   9.5                  0.2        29        23\n"
     ]
    }
   ],
   "source": [
    "results = campaign.get_results_as_dataframe(get_average_throughput, \n",
    "                                            ['Num_HOs', 'Num_RLFs', 'Num_HFMRs', 'Num_HFNPs', 'Num_HFJs', 'Num_HFLs'], \n",
    "                                            params = param_combination, drop_constant_columns=True)\n",
    "print(results)"
   ]
  },
  {
   "cell_type": "code",
   "execution_count": null,
   "id": "59192099",
   "metadata": {},
   "outputs": [],
   "source": []
  }
 ],
 "metadata": {
  "kernelspec": {
   "display_name": "Python 3 (ipykernel)",
   "language": "python",
   "name": "python3"
  },
  "language_info": {
   "codemirror_mode": {
    "name": "ipython",
    "version": 3
   },
   "file_extension": ".py",
   "mimetype": "text/x-python",
   "name": "python",
   "nbconvert_exporter": "python",
   "pygments_lexer": "ipython3",
   "version": "3.9.13"
  }
 },
 "nbformat": 4,
 "nbformat_minor": 5
}
