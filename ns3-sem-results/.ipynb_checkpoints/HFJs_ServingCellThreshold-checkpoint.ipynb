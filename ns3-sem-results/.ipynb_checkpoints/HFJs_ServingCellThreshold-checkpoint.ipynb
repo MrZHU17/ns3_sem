{
 "cells": [
  {
   "cell_type": "markdown",
   "id": "2ce2107a",
   "metadata": {},
   "source": [
    "# Import the ns3 source script"
   ]
  },
  {
   "cell_type": "code",
   "execution_count": 4,
   "id": "03600836",
   "metadata": {
    "scrolled": true
   },
   "outputs": [
    {
     "name": "stderr",
     "output_type": "stream",
     "text": [
      "Building ns-3: 100%|█████████████████████████████████████████████████████████████████████████████████████████████████████████████████████████████████████████████| [00:06<00:00]"
     ]
    },
    {
     "name": "stdout",
     "output_type": "stream",
     "text": [
      "--- Campaign info ---\n",
      "script: hofailure_output\n",
      "params: {'simTime': 30.0, 'numberOfUes': 20.0, 'speed': 16.0, 'handoverAlgorithm': 'A2A4', 'Hysteresis': 3.0, 'TimeToTrigger': 256.0, 'ServingCellThreshold': 17.0, 'NeighbourCellOffset': 2.0}\n",
      "HEAD: 8198095f90e12478089dae2da7cea9b08346f20c\n",
      "Runner type: <class 'sem.parallelrunner.ParallelRunner'>\n",
      "-----------\n"
     ]
    },
    {
     "name": "stderr",
     "output_type": "stream",
     "text": [
      "\n"
     ]
    }
   ],
   "source": [
    "import sys\n",
    "sys.path.append(\"../../ns3_sem\")\n",
    "import sem\n",
    "import pprint\n",
    "import matplotlib.pyplot as plt\n",
    "import seaborn as sns\n",
    "import numpy\n",
    "ns_path = '../../ns3-dev-HOfailure_RACH'\n",
    "script = 'hofailure_output'\n",
    "campaign_dir = '../HOF_joiningtimeout_test'\n",
    "campaign = sem.CampaignManager.new(ns_path, script, campaign_dir, overwrite=True)\n",
    "print(campaign)"
   ]
  },
  {
   "cell_type": "markdown",
   "id": "508cbffd",
   "metadata": {},
   "source": [
    "# Params"
   ]
  },
  {
   "cell_type": "code",
   "execution_count": 11,
   "id": "c3a6dbf4",
   "metadata": {
    "scrolled": false
   },
   "outputs": [],
   "source": [
    "param_combination = {'simTime':30, \n",
    "                     'numberOfUes': 20, \n",
    "                     'speed':16.0,\n",
    "                     'handoverAlgorithm': 'A3',\n",
    "                     'Hysteresis': [i * 0.1 for i in range(0, 51)], \n",
    "                     'TimeToTrigger': 256.0,\n",
    "                     'ServingCellThreshold': 20, #[j * 0.5 for j in range(0, 61)],\n",
    "                     'NeighbourCellOffset':1.0,\n",
    "                     'RngRun': [1]\n",
    "                    }"
   ]
  },
  {
   "cell_type": "markdown",
   "id": "0fa845d8",
   "metadata": {},
   "source": [
    "# Running the simulation with the params"
   ]
  },
  {
   "cell_type": "code",
   "execution_count": 13,
   "id": "6dd2add3",
   "metadata": {
    "scrolled": false
   },
   "outputs": [],
   "source": [
    "campaign.run_missing_simulations(param_combination, stop_on_errors=False)"
   ]
  },
  {
   "cell_type": "markdown",
   "id": "82553310",
   "metadata": {},
   "source": [
    "# Summarize the result"
   ]
  },
  {
   "cell_type": "code",
   "execution_count": 14,
   "id": "241cb924",
   "metadata": {},
   "outputs": [],
   "source": [
    "def get_average_throughput(result):\n",
    "    if result['output']['stderr'] != \"\":\n",
    "        num_HOs = -1\n",
    "        num_RLFs = -1\n",
    "        num_HFMRs = -1\n",
    "        num_HFNPs = -1\n",
    "        num_HFJs = -1\n",
    "        num_HFLs = -1\n",
    "    else:\n",
    "        split_results = result['output']['stdout'].split(\"\\n\")\n",
    "        num_HOs = 0\n",
    "        num_RLFs = 0\n",
    "        num_HFMRs = 0\n",
    "        num_HFNPs = 0\n",
    "        num_HFJs = 0\n",
    "        num_HFLs = 0\n",
    "        for line in split_results:\n",
    "            event = line.split(\":\")[0]\n",
    "            if event == \"HO_start\":\n",
    "                num_HOs += 1\n",
    "            elif event == \"Radio link failure detected\":\n",
    "                num_RLFs += 1\n",
    "            elif event == \"Handover Failure No Preamble\":\n",
    "                num_HFNPs += 1\n",
    "            elif event == \"Handover Failure Joiningtimeout\":\n",
    "                num_HFJs += 1\n",
    "            elif event == \"Handover Failure Max Rach\":\n",
    "                num_HFMRs += 1\n",
    "            elif event == \"Handover Failure Leaving\":\n",
    "                num_HFLs += 1\n",
    "    return [num_HOs, num_RLFs, num_HFNPs, num_HFJs, num_HFMRs, num_HFLs]"
   ]
  },
  {
   "cell_type": "markdown",
   "id": "33b3df4e",
   "metadata": {},
   "source": [
    "# Generate dataframe of the result"
   ]
  },
  {
   "cell_type": "code",
   "execution_count": 15,
   "id": "593c54e1",
   "metadata": {
    "scrolled": false
   },
   "outputs": [
    {
     "name": "stdout",
     "output_type": "stream",
     "text": [
      "    Hysteresis  Num_HOs  Num_RLFs  Num_HFJs\n",
      "0          0.0       42        16        24\n",
      "1          0.1       42        16        24\n",
      "2          0.2       42        16        24\n",
      "3          0.3       43        17        22\n",
      "4          0.4       43        17        22\n",
      "5          0.5       43        17        22\n",
      "6          0.6       43        17        22\n",
      "7          0.7       43        17        22\n",
      "8          0.8       40        22        16\n",
      "9          0.9       40        22        16\n",
      "10         1.0       40        22        16\n",
      "11         1.1       40        22        16\n",
      "12         1.2       40        22        16\n",
      "13         1.3       40        22        16\n",
      "14         1.4       40        22        16\n",
      "15         1.5       40        22        16\n",
      "16         1.6       40        22        16\n",
      "17         1.7       40        22        16\n",
      "18         1.8       40        22        16\n",
      "19         1.9       40        22        16\n",
      "20         2.0       40        22        16\n",
      "21         2.1       40        22        16\n",
      "22         2.2       40        22        16\n",
      "23         2.3       30        27        21\n",
      "24         2.4       30        27        21\n",
      "25         2.5       30        27        21\n",
      "26         2.6       30        27        21\n",
      "27         2.7       30        27        21\n",
      "28         2.8       30        26        20\n",
      "29         2.9       30        26        20\n",
      "30         3.0       30        26        20\n",
      "31         3.1       30        26        20\n",
      "32         3.2       30        26        20\n",
      "33         3.3       30        26        20\n",
      "34         3.4       30        26        20\n",
      "35         3.5       30        26        20\n",
      "36         3.6       30        26        20\n",
      "37         3.7       30        26        20\n",
      "38         3.8       30        26        20\n",
      "39         3.9       30        26        20\n",
      "40         4.0       30        26        20\n",
      "41         4.1       30        26        20\n",
      "42         4.2       30        26        20\n",
      "43         4.3       30        26        20\n",
      "44         4.4       30        26        20\n",
      "45         4.5       30        26        20\n",
      "46         4.6       30        26        20\n",
      "47         4.7       30        26        20\n",
      "48         4.8       30        26        20\n",
      "49         4.9       30        26        20\n",
      "50         5.0       30        26        20\n"
     ]
    }
   ],
   "source": [
    "results = campaign.get_results_as_dataframe(get_average_throughput, \n",
    "                                            ['Num_HOs', 'Num_RLFs','Num_HFNPs','Num_HFJs','Num_HFMRs','Num_HFLs'], \n",
    "                                            params = param_combination, drop_constant_columns=True)\n",
    "print(results)"
   ]
  },
  {
   "cell_type": "markdown",
   "id": "bcdee482",
   "metadata": {},
   "source": [
    "# Plot the result"
   ]
  },
  {
   "cell_type": "code",
   "execution_count": 19,
   "id": "9d48dfc1",
   "metadata": {},
   "outputs": [
    {
     "data": {
      "text/plain": [
       "<matplotlib.legend.Legend at 0x7f0bf0798d90>"
      ]
     },
     "execution_count": 19,
     "metadata": {},
     "output_type": "execute_result"
    },
    {
     "data": {
      "image/png": "[encoded data removed]",
      "text/plain": [
       "<Figure size 720x288 with 1 Axes>"
      ]
     },
     "metadata": {
      "needs_background": "light"
     },
     "output_type": "display_data"
    }
   ],
   "source": [
    "results_scThr = results\n",
    "#results[(results['NeighbourCellOffset'] == 0.5)]\n",
    "fig = plt.figure(figsize=(10, 4))\n",
    "ax = plt.axes()\n",
    "ax.plot(results_scThr['Hysteresis'], results_scThr['Num_HOs'], color = 'black')\n",
    "ax.plot(results_scThr['Hysteresis'], results_scThr['Num_RLFs'], color = 'red')\n",
    "#ax.plot(results_scThr['Hysteresis'], results_scThr['Num_HFNPs'], color = 'blue')\n",
    "ax.plot(results_scThr['Hysteresis'], results_scThr['Num_HFJs'], color = 'green')\n",
    "ax.grid()\n",
    "ax.set_xlabel('Hysteresis')\n",
    "ax.set_ylabel('Number of HOs, RLFs, HFNPs, HFJs')\n",
    "ax.set_title('Number of HOs, RLFs, HFNPs, HFJs (TimeToTrigger = 256 ms, speed = 16 m/s)')\n",
    "ax.legend(['Num_HOs', 'Num_RLFs','Num_HFJs'])#'Num_HFNPs'"
   ]
  },
  {
   "cell_type": "code",
   "execution_count": null,
   "id": "1082df11",
   "metadata": {},
   "outputs": [],
   "source": []
  }
 ],
 "metadata": {
  "kernelspec": {
   "display_name": "Python 3 (ipykernel)",
   "language": "python",
   "name": "python3"
  },
  "language_info": {
   "codemirror_mode": {
    "name": "ipython",
    "version": 3
   },
   "file_extension": ".py",
   "mimetype": "text/x-python",
   "name": "python",
   "nbconvert_exporter": "python",
   "pygments_lexer": "ipython3",
   "version": "3.8.7"
  }
 },
 "nbformat": 4,
 "nbformat_minor": 5
}
