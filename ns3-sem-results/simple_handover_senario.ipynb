{
 "cells": [
  {
   "cell_type": "markdown",
   "id": "26ad7153",
   "metadata": {},
   "source": [
    "# Import files"
   ]
  },
  {
   "cell_type": "code",
   "execution_count": 6,
   "id": "2b0e78e6",
   "metadata": {
    "scrolled": true
   },
   "outputs": [
    {
     "name": "stdout",
     "output_type": "stream",
     "text": [
      "--- Campaign info ---\n",
      "script: hofailure_output\n",
      "params: {'simTime': 250.0, 'numberOfUes': 1.0, 'speed': 2.0, 'handoverAlgorithm': 'A3', 'Hysteresis': 3.0, 'TimeToTrigger': 256.0, 'ServingCellThreshold': 20.0, 'NeighbourCellOffset': 5.0, 'generateRem': False, 'useIdealRrc': False}\n",
      "HEAD: 9928a550bb1c889c851fe5fbfea8978060eceabe\n",
      "Runner type: <class 'sem.parallelrunner.ParallelRunner'>\n",
      "-----------\n"
     ]
    }
   ],
   "source": [
    "import sys\n",
    "sys.path.append(\"../../ns3_sem\")\n",
    "import sem\n",
    "import pprint\n",
    "import matplotlib.pyplot as plt\n",
    "import seaborn as sns\n",
    "import numpy\n",
    "ns_path = '../../ns3-dev-hofailure_RACH'\n",
    "script = 'hofailure_output'\n",
    "campaign_dir = '../HOF_joiningtimeout_test_Offset'\n",
    "campaign = sem.CampaignManager.new(ns_path, script, campaign_dir, overwrite=True)\n",
    "print(campaign)"
   ]
  },
  {
   "cell_type": "markdown",
   "id": "f1789058",
   "metadata": {},
   "source": [
    "# Params"
   ]
  },
  {
   "cell_type": "code",
   "execution_count": 5,
   "id": "1405b40e",
   "metadata": {},
   "outputs": [],
   "source": [
    "param_combination = {'simTime':80, \n",
    "                     'numberOfUes': 20, \n",
    "                     'speed':1.0,\n",
    "                     'Hysteresis':3.0,\n",
    "                     'handoverAlgorithm': 'A3',\n",
    "                     'TimeToTrigger':256.0,\n",
    "                     'generateRem':'false',\n",
    "                     'useIdealRrc':'false',\n",
    "                     'RngRun': 1\n",
    "                    }"
   ]
  },
  {
   "cell_type": "markdown",
   "id": "19a7a8ff",
   "metadata": {},
   "source": [
    "# Run the simulation"
   ]
  },
  {
   "cell_type": "code",
   "execution_count": 9,
   "id": "743494e7",
   "metadata": {
    "scrolled": true
   },
   "outputs": [
    {
     "name": "stderr",
     "output_type": "stream",
     "text": [
      "Building ns-3: 100%|█████████████████████████████████████████████████████████████████████████████████████████████████████████████████████████████████████████████| [00:06<00:00]\n",
      "Running simulations: 100%|██████████████████████████████████████████████████████████████████████████████████████████████████████████████| 20/20 [08:17<00:00, 24.89s/simulation]\n"
     ]
    }
   ],
   "source": [
    "campaign.run_missing_simulations(param_combination, stop_on_errors=False)"
   ]
  },
  {
   "cell_type": "markdown",
   "id": "de6ed0fe",
   "metadata": {},
   "source": [
    "# Analysis the result"
   ]
  },
  {
   "cell_type": "code",
   "execution_count": 16,
   "id": "7a2d5943",
   "metadata": {},
   "outputs": [],
   "source": [
    "def get_average_throughput(result):    \n",
    "    if result['output']['stderr'] != \"\":\n",
    "        num_HOs = -1\n",
    "        num_RLFs = -1\n",
    "        num_HFMRs = -1\n",
    "        num_HFNPs = -1\n",
    "        num_HFJs = -1\n",
    "        num_HFLs = -1\n",
    "    else:\n",
    "        split_results = result['output']['stdout'].split(\"\\n\")\n",
    "        num_HOs = 0\n",
    "        num_RLFs = 0\n",
    "        num_HFMRs = 0\n",
    "        num_HFNPs = 0\n",
    "        num_HFJs = 0\n",
    "        num_HFLs = 0\n",
    "        for line in split_results:\n",
    "            event = line.split(\":\")[0]\n",
    "            if event == \"HO_start\":\n",
    "                num_HOs += 1\n",
    "            elif event == \"Radio link failure detected\":\n",
    "                num_RLFs += 1\n",
    "            elif event == \"Handover Failure Max Rach\":\n",
    "                num_HFMRs += 1\n",
    "            elif event == \"Handover Failure No Preamble\":\n",
    "                num_HFNPs += 1\n",
    "            elif event == \"Handover Failure Joining\":\n",
    "                num_HFJs += 1\n",
    "            elif event == \"Handover Failure Leaving\":\n",
    "                num_HFLs += 1\n",
    "    return [num_HOs, num_RLFs, num_HFMRs, num_HFNPs, num_HFJs, num_HFLs]"
   ]
  },
  {
   "cell_type": "code",
   "execution_count": 17,
   "id": "0a93fa00",
   "metadata": {
    "scrolled": true
   },
   "outputs": [],
   "source": [
    "#split_results = result['output']['stdout'].split(\"\\n\")\n",
    "#print(split_results)"
   ]
  },
  {
   "cell_type": "markdown",
   "id": "331adb08",
   "metadata": {},
   "source": [
    "# Generate dataframe of the result"
   ]
  },
  {
   "cell_type": "code",
   "execution_count": 18,
   "id": "4b5065f7",
   "metadata": {
    "scrolled": true
   },
   "outputs": [
    {
     "name": "stdout",
     "output_type": "stream",
     "text": [
      "    NeighbourCellOffset  num_HOs  num_HFJs\n",
      "0                   0.0       33        33\n",
      "1                   0.1       33        33\n",
      "2                   0.2       33        33\n",
      "3                   0.3       33        33\n",
      "4                   0.4       33        33\n",
      "5                   0.5       33        33\n",
      "6                   0.6       33        33\n",
      "7                   0.7       33        33\n",
      "8                   0.8       33        33\n",
      "9                   0.9       33        33\n",
      "10                  1.0       33        33\n",
      "11                  1.1       33        33\n",
      "12                  1.2       33        33\n",
      "13                  1.3       33        33\n",
      "14                  1.4       33        33\n",
      "15                  1.5       33        33\n",
      "16                  1.6       33        33\n",
      "17                  1.7       33        33\n",
      "18                  1.8       33        33\n",
      "19                  1.9       33        33\n",
      "20                  2.0       32        31\n",
      "21                  2.1       32        31\n",
      "22                  2.2       32        31\n",
      "23                  2.3       32        31\n",
      "24                  2.4       32        31\n",
      "25                  2.5       32        31\n",
      "26                  2.6       32        31\n",
      "27                  2.7       32        31\n",
      "28                  2.8       32        31\n",
      "29                  2.9       32        31\n",
      "30                  3.0       32        31\n",
      "31                  3.1       32        31\n",
      "32                  3.2       32        31\n",
      "33                  3.3       32        31\n",
      "34                  3.4       32        31\n",
      "35                  3.5       32        31\n",
      "36                  3.6       32        31\n",
      "37                  3.7       32        31\n",
      "38                  3.8       32        31\n",
      "39                  3.9       32        31\n",
      "40                  4.0       32        31\n",
      "41                  4.1       32        31\n",
      "42                  4.2       32        31\n",
      "43                  4.3       32        31\n",
      "44                  4.4       32        31\n",
      "45                  4.5       32        31\n",
      "46                  4.6       32        31\n",
      "47                  4.7       32        31\n",
      "48                  4.8       32        31\n",
      "49                  4.9       32        31\n"
     ]
    }
   ],
   "source": [
    "results = campaign.get_results_as_dataframe(get_average_throughput, \n",
    "                                            ['num_HOs', 'num_RLFs', 'num_HFMRs', 'num_HFNPs', 'num_HFJs', 'num_HFLs'], \n",
    "                                            params = param_combination, drop_constant_columns=True)\n",
    "print(results)"
   ]
  },
  {
   "cell_type": "markdown",
   "id": "e38ef9ef",
   "metadata": {},
   "source": [
    "# Plot the result"
   ]
  },
  {
   "cell_type": "code",
   "execution_count": 19,
   "id": "5231d613",
   "metadata": {},
   "outputs": [
    {
     "ename": "KeyError",
     "evalue": "'num_RLFs'",
     "output_type": "error",
     "traceback": [
      "\u001b[0;31m---------------------------------------------------------------------------\u001b[0m",
      "\u001b[0;31mKeyError\u001b[0m                                  Traceback (most recent call last)",
      "File \u001b[0;32m~/.pyenv/versions/3.8.7/lib/python3.8/site-packages/pandas/core/indexes/base.py:3621\u001b[0m, in \u001b[0;36mIndex.get_loc\u001b[0;34m(self, key, method, tolerance)\u001b[0m\n\u001b[1;32m   3620\u001b[0m \u001b[38;5;28;01mtry\u001b[39;00m:\n\u001b[0;32m-> 3621\u001b[0m     \u001b[38;5;28;01mreturn\u001b[39;00m \u001b[38;5;28;43mself\u001b[39;49m\u001b[38;5;241;43m.\u001b[39;49m\u001b[43m_engine\u001b[49m\u001b[38;5;241;43m.\u001b[39;49m\u001b[43mget_loc\u001b[49m\u001b[43m(\u001b[49m\u001b[43mcasted_key\u001b[49m\u001b[43m)\u001b[49m\n\u001b[1;32m   3622\u001b[0m \u001b[38;5;28;01mexcept\u001b[39;00m \u001b[38;5;167;01mKeyError\u001b[39;00m \u001b[38;5;28;01mas\u001b[39;00m err:\n",
      "File \u001b[0;32m~/.pyenv/versions/3.8.7/lib/python3.8/site-packages/pandas/_libs/index.pyx:136\u001b[0m, in \u001b[0;36mpandas._libs.index.IndexEngine.get_loc\u001b[0;34m()\u001b[0m\n",
      "File \u001b[0;32m~/.pyenv/versions/3.8.7/lib/python3.8/site-packages/pandas/_libs/index.pyx:163\u001b[0m, in \u001b[0;36mpandas._libs.index.IndexEngine.get_loc\u001b[0;34m()\u001b[0m\n",
      "File \u001b[0;32mpandas/_libs/hashtable_class_helper.pxi:5198\u001b[0m, in \u001b[0;36mpandas._libs.hashtable.PyObjectHashTable.get_item\u001b[0;34m()\u001b[0m\n",
      "File \u001b[0;32mpandas/_libs/hashtable_class_helper.pxi:5206\u001b[0m, in \u001b[0;36mpandas._libs.hashtable.PyObjectHashTable.get_item\u001b[0;34m()\u001b[0m\n",
      "\u001b[0;31mKeyError\u001b[0m: 'num_RLFs'",
      "\nThe above exception was the direct cause of the following exception:\n",
      "\u001b[0;31mKeyError\u001b[0m                                  Traceback (most recent call last)",
      "Input \u001b[0;32mIn [19]\u001b[0m, in \u001b[0;36m<cell line: 6>\u001b[0;34m()\u001b[0m\n\u001b[1;32m      4\u001b[0m ax \u001b[38;5;241m=\u001b[39m plt\u001b[38;5;241m.\u001b[39maxes()\n\u001b[1;32m      5\u001b[0m ax\u001b[38;5;241m.\u001b[39mplot(results_ncThr[\u001b[38;5;124m'\u001b[39m\u001b[38;5;124mNeighbourCellOffset\u001b[39m\u001b[38;5;124m'\u001b[39m], results_ncThr[\u001b[38;5;124m'\u001b[39m\u001b[38;5;124mnum_HOs\u001b[39m\u001b[38;5;124m'\u001b[39m], color \u001b[38;5;241m=\u001b[39m \u001b[38;5;124m'\u001b[39m\u001b[38;5;124mblack\u001b[39m\u001b[38;5;124m'\u001b[39m)\n\u001b[0;32m----> 6\u001b[0m ax\u001b[38;5;241m.\u001b[39mplot(results_ncThr[\u001b[38;5;124m'\u001b[39m\u001b[38;5;124mNeighbourCellOffset\u001b[39m\u001b[38;5;124m'\u001b[39m], \u001b[43mresults_ncThr\u001b[49m\u001b[43m[\u001b[49m\u001b[38;5;124;43m'\u001b[39;49m\u001b[38;5;124;43mnum_RLFs\u001b[39;49m\u001b[38;5;124;43m'\u001b[39;49m\u001b[43m]\u001b[49m, color \u001b[38;5;241m=\u001b[39m \u001b[38;5;124m'\u001b[39m\u001b[38;5;124mred\u001b[39m\u001b[38;5;124m'\u001b[39m)\n\u001b[1;32m      7\u001b[0m ax\u001b[38;5;241m.\u001b[39mplot(results_ncThr[\u001b[38;5;124m'\u001b[39m\u001b[38;5;124mNeighbourCellOffset\u001b[39m\u001b[38;5;124m'\u001b[39m], results_ncThr[\u001b[38;5;124m'\u001b[39m\u001b[38;5;124mnum_HFNPs\u001b[39m\u001b[38;5;124m'\u001b[39m], color \u001b[38;5;241m=\u001b[39m \u001b[38;5;124m'\u001b[39m\u001b[38;5;124mblue\u001b[39m\u001b[38;5;124m'\u001b[39m)\n\u001b[1;32m      8\u001b[0m ax\u001b[38;5;241m.\u001b[39mplot(results_ncThr[\u001b[38;5;124m'\u001b[39m\u001b[38;5;124mNeighbourCellOffset\u001b[39m\u001b[38;5;124m'\u001b[39m], results_ncThr[\u001b[38;5;124m'\u001b[39m\u001b[38;5;124mnum_HFJs\u001b[39m\u001b[38;5;124m'\u001b[39m], color \u001b[38;5;241m=\u001b[39m \u001b[38;5;124m'\u001b[39m\u001b[38;5;124mgreen\u001b[39m\u001b[38;5;124m'\u001b[39m)\n",
      "File \u001b[0;32m~/.pyenv/versions/3.8.7/lib/python3.8/site-packages/pandas/core/frame.py:3505\u001b[0m, in \u001b[0;36mDataFrame.__getitem__\u001b[0;34m(self, key)\u001b[0m\n\u001b[1;32m   3503\u001b[0m \u001b[38;5;28;01mif\u001b[39;00m \u001b[38;5;28mself\u001b[39m\u001b[38;5;241m.\u001b[39mcolumns\u001b[38;5;241m.\u001b[39mnlevels \u001b[38;5;241m>\u001b[39m \u001b[38;5;241m1\u001b[39m:\n\u001b[1;32m   3504\u001b[0m     \u001b[38;5;28;01mreturn\u001b[39;00m \u001b[38;5;28mself\u001b[39m\u001b[38;5;241m.\u001b[39m_getitem_multilevel(key)\n\u001b[0;32m-> 3505\u001b[0m indexer \u001b[38;5;241m=\u001b[39m \u001b[38;5;28;43mself\u001b[39;49m\u001b[38;5;241;43m.\u001b[39;49m\u001b[43mcolumns\u001b[49m\u001b[38;5;241;43m.\u001b[39;49m\u001b[43mget_loc\u001b[49m\u001b[43m(\u001b[49m\u001b[43mkey\u001b[49m\u001b[43m)\u001b[49m\n\u001b[1;32m   3506\u001b[0m \u001b[38;5;28;01mif\u001b[39;00m is_integer(indexer):\n\u001b[1;32m   3507\u001b[0m     indexer \u001b[38;5;241m=\u001b[39m [indexer]\n",
      "File \u001b[0;32m~/.pyenv/versions/3.8.7/lib/python3.8/site-packages/pandas/core/indexes/base.py:3623\u001b[0m, in \u001b[0;36mIndex.get_loc\u001b[0;34m(self, key, method, tolerance)\u001b[0m\n\u001b[1;32m   3621\u001b[0m     \u001b[38;5;28;01mreturn\u001b[39;00m \u001b[38;5;28mself\u001b[39m\u001b[38;5;241m.\u001b[39m_engine\u001b[38;5;241m.\u001b[39mget_loc(casted_key)\n\u001b[1;32m   3622\u001b[0m \u001b[38;5;28;01mexcept\u001b[39;00m \u001b[38;5;167;01mKeyError\u001b[39;00m \u001b[38;5;28;01mas\u001b[39;00m err:\n\u001b[0;32m-> 3623\u001b[0m     \u001b[38;5;28;01mraise\u001b[39;00m \u001b[38;5;167;01mKeyError\u001b[39;00m(key) \u001b[38;5;28;01mfrom\u001b[39;00m \u001b[38;5;21;01merr\u001b[39;00m\n\u001b[1;32m   3624\u001b[0m \u001b[38;5;28;01mexcept\u001b[39;00m \u001b[38;5;167;01mTypeError\u001b[39;00m:\n\u001b[1;32m   3625\u001b[0m     \u001b[38;5;66;03m# If we have a listlike key, _check_indexing_error will raise\u001b[39;00m\n\u001b[1;32m   3626\u001b[0m     \u001b[38;5;66;03m#  InvalidIndexError. Otherwise we fall through and re-raise\u001b[39;00m\n\u001b[1;32m   3627\u001b[0m     \u001b[38;5;66;03m#  the TypeError.\u001b[39;00m\n\u001b[1;32m   3628\u001b[0m     \u001b[38;5;28mself\u001b[39m\u001b[38;5;241m.\u001b[39m_check_indexing_error(key)\n",
      "\u001b[0;31mKeyError\u001b[0m: 'num_RLFs'"
     ]
    },
    {
     "data": {
      "image/png": "[encoded data removed]",
      "text/plain": [
       "<Figure size 720x288 with 1 Axes>"
      ]
     },
     "metadata": {
      "needs_background": "light"
     },
     "output_type": "display_data"
    }
   ],
   "source": [
    "results_ncThr = results\n",
    "#results[(results['NeighbourCellOffset'] == 0.5)]\n",
    "fig = plt.figure(figsize=(10, 4))\n",
    "ax = plt.axes()\n",
    "ax.plot(results_ncThr['NeighbourCellOffset'], results_ncThr['num_HOs'], color = 'black')\n",
    "ax.plot(results_ncThr['NeighbourCellOffset'], results_ncThr['num_RLFs'], color = 'red')\n",
    "ax.plot(results_ncThr['NeighbourCellOffset'], results_ncThr['num_HFNPs'], color = 'blue')\n",
    "ax.plot(results_ncThr['NeighbourCellOffset'], results_ncThr['num_HFJs'], color = 'green')\n",
    "ax.grid()\n",
    "ax.set_xlabel('NeighbourCellOffset')\n",
    "ax.set_ylabel('Number of HOs, RLFs, HFNPs, HFJs')\n",
    "ax.set_title('Number of HOs, RLFs, HFNPs, HFJs (ServingCellThreshold = 17.0 dB, speed = 16 m/s)')\n",
    "ax.legend(['Num_HOs', 'Num_RLFs','Num_HFNPs','Num_HFJs'])"
   ]
  },
  {
   "cell_type": "code",
   "execution_count": null,
   "id": "cb6feb1e",
   "metadata": {},
   "outputs": [],
   "source": []
  }
 ],
 "metadata": {
  "kernelspec": {
   "display_name": "Python 3 (ipykernel)",
   "language": "python",
   "name": "python3"
  },
  "language_info": {
   "codemirror_mode": {
    "name": "ipython",
    "version": 3
   },
   "file_extension": ".py",
   "mimetype": "text/x-python",
   "name": "python",
   "nbconvert_exporter": "python",
   "pygments_lexer": "ipython3",
   "version": "3.9.13"
  }
 },
 "nbformat": 4,
 "nbformat_minor": 5
}
